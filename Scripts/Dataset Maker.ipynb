{
 "cells": [
  {
   "cell_type": "code",
   "execution_count": 1,
   "metadata": {
    "vscode": {
     "languageId": "r"
    }
   },
   "outputs": [],
   "source": [
    "import pandas as pd\n",
    "import numpy as np"
   ]
  },
  {
   "cell_type": "code",
   "execution_count": 2,
   "metadata": {
    "vscode": {
     "languageId": "r"
    }
   },
   "outputs": [],
   "source": [
    "dataInc = pd.read_excel(r'C:\\Users\\MR38804\\Documents\\Network Graph\\Data\\Top Entities List + Dataset Final2.xlsx', sheet_name='Trx Incoming')"
   ]
  },
  {
   "cell_type": "code",
   "execution_count": 3,
   "metadata": {
    "vscode": {
     "languageId": "r"
    }
   },
   "outputs": [],
   "source": [
    "dataOut = pd.read_excel(r'C:\\Users\\MR38804\\Documents\\Network Graph\\Data\\Top Entities List + Dataset Final2.xlsx', sheet_name='Trx Outgoing')"
   ]
  },
  {
   "cell_type": "code",
   "execution_count": null,
   "metadata": {
    "vscode": {
     "languageId": "r"
    }
   },
   "outputs": [],
   "source": [
    "dataInc"
   ]
  },
  {
   "cell_type": "code",
   "execution_count": 5,
   "metadata": {
    "vscode": {
     "languageId": "r"
    }
   },
   "outputs": [],
   "source": [
    "dataInc.drop(['BASE DATE', 'COUNTRY (TT)'], inplace=True, axis=1)\n",
    "dataInc.columns = ['DEBTOR GCIF', 'DEBTOR CIF', 'AMOUNT_TX_IDR', 'SENDER/RECIPIENT ACCOUNT', 'SENDER/RECIPIENT NAME', 'SENDER/RECIPIENT BANK', 'DEBTOR ACCOUNT', 'DEBTOR NAME', 'DEBTOR BANK', 'LOB', 'CHANNEL', 'TYPE']"
   ]
  },
  {
   "cell_type": "code",
   "execution_count": null,
   "metadata": {
    "vscode": {
     "languageId": "r"
    }
   },
   "outputs": [],
   "source": [
    "dataOut"
   ]
  },
  {
   "cell_type": "code",
   "execution_count": 7,
   "metadata": {
    "vscode": {
     "languageId": "r"
    }
   },
   "outputs": [],
   "source": [
    "dataOut.drop(['BASE DATE', 'COUNTRY (TT)'], inplace=True, axis=1)\n",
    "dataOut.columns = ['DEBTOR GCIF', 'DEBTOR CIF', 'AMOUNT_TX_IDR', 'DEBTOR ACCOUNT', 'DEBTOR NAME', 'DEBTOR BANK', 'SENDER/RECIPIENT ACCOUNT', 'SENDER/RECIPIENT NAME', 'SENDER/RECIPIENT BANK', 'LOB', 'CHANNEL', 'TYPE']"
   ]
  },
  {
   "cell_type": "code",
   "execution_count": 8,
   "metadata": {
    "vscode": {
     "languageId": "r"
    }
   },
   "outputs": [],
   "source": [
    "data = pd.concat([dataOut, dataInc])"
   ]
  },
  {
   "cell_type": "code",
   "execution_count": null,
   "metadata": {
    "vscode": {
     "languageId": "r"
    }
   },
   "outputs": [],
   "source": [
    "data"
   ]
  },
  {
   "cell_type": "code",
   "execution_count": 10,
   "metadata": {
    "vscode": {
     "languageId": "r"
    }
   },
   "outputs": [
    {
     "data": {
      "text/plain": [
       "BANK BII MAYBANK    24980\n",
       "Name: DEBTOR BANK, dtype: int64"
      ]
     },
     "execution_count": 10,
     "metadata": {},
     "output_type": "execute_result"
    }
   ],
   "source": [
    "data['DEBTOR BANK'].value_counts()"
   ]
  },
  {
   "cell_type": "code",
   "execution_count": null,
   "metadata": {
    "vscode": {
     "languageId": "r"
    }
   },
   "outputs": [],
   "source": [
    "data.loc[data['SENDER/RECIPIENT NAME'].str.contains('AVOLON')]"
   ]
  },
  {
   "cell_type": "code",
   "execution_count": 12,
   "metadata": {
    "vscode": {
     "languageId": "r"
    }
   },
   "outputs": [
    {
     "name": "stdout",
     "output_type": "stream",
     "text": [
      "<class 'pandas.core.frame.DataFrame'>\n",
      "Int64Index: 24980 entries, 0 to 17070\n",
      "Data columns (total 12 columns):\n",
      " #   Column                    Non-Null Count  Dtype  \n",
      "---  ------                    --------------  -----  \n",
      " 0   DEBTOR GCIF               24977 non-null  object \n",
      " 1   DEBTOR CIF                24449 non-null  float64\n",
      " 2   AMOUNT_TX_IDR             24980 non-null  float64\n",
      " 3   DEBTOR ACCOUNT            24936 non-null  float64\n",
      " 4   DEBTOR NAME               24977 non-null  object \n",
      " 5   DEBTOR BANK               24980 non-null  object \n",
      " 6   SENDER/RECIPIENT ACCOUNT  8165 non-null   float64\n",
      " 7   SENDER/RECIPIENT NAME     24980 non-null  object \n",
      " 8   SENDER/RECIPIENT BANK     24980 non-null  object \n",
      " 9   LOB                       24980 non-null  object \n",
      " 10  CHANNEL                   24980 non-null  object \n",
      " 11  TYPE                      24980 non-null  object \n",
      "dtypes: float64(4), object(8)\n",
      "memory usage: 2.5+ MB\n"
     ]
    }
   ],
   "source": [
    "data.info()"
   ]
  },
  {
   "cell_type": "code",
   "execution_count": null,
   "metadata": {
    "vscode": {
     "languageId": "r"
    }
   },
   "outputs": [],
   "source": [
    "data.fillna('UNKNOWN')"
   ]
  },
  {
   "cell_type": "code",
   "execution_count": 14,
   "metadata": {
    "vscode": {
     "languageId": "r"
    }
   },
   "outputs": [],
   "source": [
    "gpd_data = data.groupby(['DEBTOR GCIF', 'DEBTOR NAME', 'DEBTOR BANK', 'SENDER/RECIPIENT NAME', 'SENDER/RECIPIENT BANK', 'TYPE'])['AMOUNT_TX_IDR'].agg(AMOUNT_TX_IDR = 'sum',TRX='count')"
   ]
  },
  {
   "cell_type": "code",
   "execution_count": 15,
   "metadata": {
    "vscode": {
     "languageId": "r"
    }
   },
   "outputs": [],
   "source": [
    "gpd_data.reset_index(inplace=True)"
   ]
  },
  {
   "cell_type": "code",
   "execution_count": null,
   "metadata": {
    "vscode": {
     "languageId": "r"
    }
   },
   "outputs": [],
   "source": [
    "gpd_data"
   ]
  },
  {
   "cell_type": "code",
   "execution_count": null,
   "metadata": {
    "vscode": {
     "languageId": "r"
    }
   },
   "outputs": [],
   "source": [
    "gpd_data.loc[gpd_data['SENDER/RECIPIENT NAME'].str.contains('AVOLON')]"
   ]
  },
  {
   "cell_type": "code",
   "execution_count": 18,
   "metadata": {
    "vscode": {
     "languageId": "r"
    }
   },
   "outputs": [],
   "source": [
    "gpd_data.to_excel('GPD_Data_v1.xlsx', index=False)"
   ]
  },
  {
   "cell_type": "code",
   "execution_count": 19,
   "metadata": {
    "vscode": {
     "languageId": "r"
    }
   },
   "outputs": [],
   "source": [
    "current_data = gpd_data"
   ]
  },
  {
   "cell_type": "code",
   "execution_count": 20,
   "metadata": {
    "vscode": {
     "languageId": "r"
    }
   },
   "outputs": [],
   "source": [
    "list_entity=current_data['DEBTOR NAME'].values.tolist()\n",
    "list_entity+=current_data['SENDER/RECIPIENT NAME'].values.tolist()\n",
    "list_entity=pd.DataFrame({\n",
    "    'ENTITY NAME':list_entity\n",
    "})\n",
    "list_entity=list_entity.drop_duplicates(keep='first')"
   ]
  },
  {
   "cell_type": "code",
   "execution_count": null,
   "metadata": {
    "vscode": {
     "languageId": "r"
    }
   },
   "outputs": [],
   "source": [
    "list_entity"
   ]
  },
  {
   "cell_type": "code",
   "execution_count": null,
   "metadata": {
    "vscode": {
     "languageId": "r"
    }
   },
   "outputs": [],
   "source": [
    "list_entity.loc[list_entity['ENTITY NAME'].str.contains('AVOLON')]"
   ]
  },
  {
   "cell_type": "code",
   "execution_count": null,
   "metadata": {
    "vscode": {
     "languageId": "r"
    }
   },
   "outputs": [],
   "source": [
    "entity_DEBTOR=list(set(current_data['DEBTOR NAME']))\n",
    "all_entity=list_entity['ENTITY NAME'].values.tolist()\n",
    "sr_entity_data=[]\n",
    "for name in all_entity:\n",
    "    placeholder=''\n",
    "    as_DEBTOR=current_data.loc[current_data['DEBTOR NAME']==name]\n",
    "    as_other  =current_data.loc[current_data['SENDER/RECIPIENT NAME']==name]\n",
    "    \n",
    "    #if in DEBTOR, incoming -> receiver with Maybank bank, outgoing -> sender with Maybank bank\n",
    "    if len(as_DEBTOR)!=0: #pernah menjadi customer maybank\n",
    "        if 'INCOMING' in as_DEBTOR['TYPE'].values and 'OUTGOING' in as_DEBTOR['TYPE'].values:\n",
    "            sr_entity_data.append([name,'Both',as_DEBTOR['DEBTOR BANK'].iloc[0]])\n",
    "        elif 'INCOMING' in as_DEBTOR['TYPE'].values:\n",
    "            sr_entity_data.append([name,'Receiver',as_DEBTOR['DEBTOR BANK'].iloc[0]])\n",
    "        elif 'OUTGOING' in as_DEBTOR['TYPE'].values:\n",
    "            sr_entity_data.append([name,'Sender',as_DEBTOR['DEBTOR BANK'].iloc[0]])\n",
    "    \n",
    "    #if in sender/recipient, incoming -> sender with SR bank name, outgoing -> recipient with SR bank name\n",
    "    if len(as_other)!=0: #pernah transaksi dgn rek Maybank sebagai nasabah bank lain\n",
    "        sr_bank_names=list(set(as_other['SENDER/RECIPIENT BANK']))\n",
    "        for bank in sr_bank_names:\n",
    "            as_other_bank=as_other.loc[as_other['SENDER/RECIPIENT BANK']==bank]\n",
    "            if 'INCOMING' in as_other_bank['TYPE'].values and 'OUTGOING' in as_other_bank['TYPE'].values:\n",
    "                sr_entity_data.append([name,'Both',bank])\n",
    "            elif 'INCOMING' in as_other_bank['TYPE'].values:\n",
    "                sr_entity_data.append([name,'Sender',bank])\n",
    "            elif 'OUTGOING' in as_other_bank['TYPE'].values:\n",
    "                sr_entity_data.append([name,'Receiver',bank])\n",
    "\n",
    "sr_entity_df=pd.DataFrame(sr_entity_data,columns=['NAME','DIRECTION','BANK'])\n",
    "sr_entity_df"
   ]
  },
  {
   "cell_type": "code",
   "execution_count": 24,
   "metadata": {
    "vscode": {
     "languageId": "r"
    }
   },
   "outputs": [
    {
     "data": {
      "text/html": [
       "<div>\n",
       "<style scoped>\n",
       "    .dataframe tbody tr th:only-of-type {\n",
       "        vertical-align: middle;\n",
       "    }\n",
       "\n",
       "    .dataframe tbody tr th {\n",
       "        vertical-align: top;\n",
       "    }\n",
       "\n",
       "    .dataframe thead th {\n",
       "        text-align: right;\n",
       "    }\n",
       "</style>\n",
       "<table border=\"1\" class=\"dataframe\">\n",
       "  <thead>\n",
       "    <tr style=\"text-align: right;\">\n",
       "      <th></th>\n",
       "      <th>NAME</th>\n",
       "      <th>DIRECTION</th>\n",
       "      <th>BANK</th>\n",
       "    </tr>\n",
       "  </thead>\n",
       "  <tbody>\n",
       "  </tbody>\n",
       "</table>\n",
       "</div>"
      ],
      "text/plain": [
       "Empty DataFrame\n",
       "Columns: [NAME, DIRECTION, BANK]\n",
       "Index: []"
      ]
     },
     "execution_count": 24,
     "metadata": {},
     "output_type": "execute_result"
    }
   ],
   "source": [
    "sr_entity_df.loc[sr_entity_df['NAME'].str.contains('AVOLON')]"
   ]
  },
  {
   "cell_type": "code",
   "execution_count": null,
   "metadata": {
    "vscode": {
     "languageId": "r"
    }
   },
   "outputs": [],
   "source": [
    "#merge gcif\n",
    "gcif_copying=current_data[['DEBTOR NAME','DEBTOR GCIF']]\n",
    "gcif_copying.columns=['NAME','GCIF']\n",
    "\n",
    "sr_entity_df=sr_entity_df.merge(gcif_copying,on='NAME',how='left')\n",
    "sr_entity_df=sr_entity_df.fillna('External')\n",
    "\n",
    "sr_entity_df=sr_entity_df.drop_duplicates()\n",
    "sr_entity_df"
   ]
  },
  {
   "cell_type": "markdown",
   "metadata": {},
   "source": [
    "### Create entity data - Coloring\n",
    "\n",
    "- Internal\n",
    " - In: orange\n",
    " - Out: purple\n",
    " - Both: lightblue\n",
    "- External\n",
    " - In: black \n",
    " - Out: red\n",
    " - Both: lightgreen"
   ]
  },
  {
   "cell_type": "code",
   "execution_count": 26,
   "metadata": {
    "vscode": {
     "languageId": "r"
    }
   },
   "outputs": [
    {
     "data": {
      "text/plain": [
       "True"
      ]
     },
     "execution_count": 26,
     "metadata": {},
     "output_type": "execute_result"
    }
   ],
   "source": [
    "row=[sr_entity_df.iloc[0]['NAME'],sr_entity_df.iloc[0]['DIRECTION'],sr_entity_df.iloc[0]['BANK']]\n",
    "'MAYBANK' in row[2]"
   ]
  },
  {
   "cell_type": "code",
   "execution_count": null,
   "metadata": {
    "vscode": {
     "languageId": "r"
    }
   },
   "outputs": [],
   "source": [
    "#'MBI Out','MBI In','MBI Both','Non-MBI Out','Non-MBI In','Non-MBI Both'),\n",
    "# color=c(\"#3333ff\",\"#00bf30\",\"orange\",\"#685b5b\",\"#c071f1\",\"#ff0000\"))\n",
    "final_entity_df=[]\n",
    "for i in range(len(sr_entity_df)):\n",
    "    row=sr_entity_df.iloc[i]\n",
    "    row=[row['NAME'],row['DIRECTION'],row['BANK'],row['GCIF']\n",
    "         #,row['LOB']\n",
    "        ]\n",
    "    \n",
    "    #row color (based on internal/external)\n",
    "    if 'MAYBANK' in row[2]: #internal\n",
    "        if row[1]=='Both':\n",
    "            row+=['MBI Both','orange']\n",
    "        elif row[1]=='Receiver':\n",
    "            row+=['MBI In','#00bf30']\n",
    "        else:\n",
    "            row+=['MBI Out','#3333ff']\n",
    "    else:\n",
    "        if row[1]=='Both':\n",
    "            row+=['Non-MBI Both','#ff0000']\n",
    "        elif row[1]=='Receiver':\n",
    "            row+=['Non-MBI In','#c071f1']\n",
    "        else:\n",
    "            row+=['Non-MBI Out','#685b5b']\n",
    "    \n",
    "    #row shape (semuanya dot) -> uncomment if needed\n",
    "    row+=['dot']\n",
    "    #row shape (tergantung lob) -> uncomment if needed\n",
    "    #if row[4] == 'Consumer':\n",
    "    #    row+=['square']\n",
    "    #elif row[4] == 'RSME':\n",
    "    #    row+=['triangle']\n",
    "    #elif row[4] == 'SME+':\n",
    "    #    row+=['triangleDown']\n",
    "    #elif row[4] == 'Corporate':\n",
    "    #    row+=['star']\n",
    "    #elif row[4] == 'Commercial (BB)':\n",
    "    #    row+=['diamond']\n",
    "    #else :\n",
    "    #    row+=['dot']\n",
    "\n",
    "    \n",
    "    #row id (tambahin i)\n",
    "    row+=[i]\n",
    "    \n",
    "    #append\n",
    "    final_entity_df.append(row)\n",
    "    \n",
    "final_entity_df=pd.DataFrame(final_entity_df,\n",
    "                             columns=['ENTITY','DIRECTION','SOURCE','GCIF',\n",
    "                                      #'LOB',\n",
    "                                      'TYPE','COLOR','SHAPE','ID'])\n",
    "final_entity_df=final_entity_df.drop_duplicates()\n",
    "final_entity_df"
   ]
  },
  {
   "cell_type": "code",
   "execution_count": 28,
   "metadata": {
    "vscode": {
     "languageId": "r"
    }
   },
   "outputs": [
    {
     "data": {
      "text/html": [
       "<div>\n",
       "<style scoped>\n",
       "    .dataframe tbody tr th:only-of-type {\n",
       "        vertical-align: middle;\n",
       "    }\n",
       "\n",
       "    .dataframe tbody tr th {\n",
       "        vertical-align: top;\n",
       "    }\n",
       "\n",
       "    .dataframe thead th {\n",
       "        text-align: right;\n",
       "    }\n",
       "</style>\n",
       "<table border=\"1\" class=\"dataframe\">\n",
       "  <thead>\n",
       "    <tr style=\"text-align: right;\">\n",
       "      <th></th>\n",
       "      <th>ENTITY</th>\n",
       "      <th>DIRECTION</th>\n",
       "      <th>SOURCE</th>\n",
       "      <th>GCIF</th>\n",
       "      <th>TYPE</th>\n",
       "      <th>COLOR</th>\n",
       "      <th>SHAPE</th>\n",
       "      <th>ID</th>\n",
       "    </tr>\n",
       "  </thead>\n",
       "  <tbody>\n",
       "  </tbody>\n",
       "</table>\n",
       "</div>"
      ],
      "text/plain": [
       "Empty DataFrame\n",
       "Columns: [ENTITY, DIRECTION, SOURCE, GCIF, TYPE, COLOR, SHAPE, ID]\n",
       "Index: []"
      ]
     },
     "execution_count": 28,
     "metadata": {},
     "output_type": "execute_result"
    }
   ],
   "source": [
    "final_entity_df.loc[final_entity_df['ENTITY'].str.contains('AVOLON')]"
   ]
  },
  {
   "cell_type": "code",
   "execution_count": null,
   "metadata": {
    "vscode": {
     "languageId": "r"
    }
   },
   "outputs": [],
   "source": [
    "trans_id=[]\n",
    "for i in range(len(current_data)):\n",
    "    row=current_data.iloc[i]\n",
    "    \n",
    "    if row['TYPE']=='INCOMING': #DEBTOR nerima, sr ngirim\n",
    "        trans_id.append([row['SENDER/RECIPIENT NAME'],row['SENDER/RECIPIENT BANK'],\n",
    "                         row['DEBTOR NAME'],row['DEBTOR BANK'],\n",
    "                         row['AMOUNT_TX_IDR'],row['TRX']])\n",
    "    else: #DEBTOR ngirim, sr nerima\n",
    "        trans_id.append([row['DEBTOR NAME'],row['DEBTOR BANK'],\n",
    "                         row['SENDER/RECIPIENT NAME'],row['SENDER/RECIPIENT BANK'],\n",
    "                         row['AMOUNT_TX_IDR'],row['TRX']])\n",
    "    \n",
    "#create trans_df\n",
    "trans_id=pd.DataFrame(trans_id,columns=['FROM_ENTITY','FROM_SOURCE','TO_ENTITY','TO_SOURCE','AMOUNT_TX_IDR','TRX'])\n",
    "\n",
    "#get FROM_ID using entity data\n",
    "temp=final_entity_df[['ENTITY','SOURCE','ID']].copy()\n",
    "temp.columns=['FROM_ENTITY','FROM_SOURCE','FROM_ID']\n",
    "trans_id=trans_id.merge(temp,on=['FROM_ENTITY','FROM_SOURCE'],how='left')\n",
    "\n",
    "#get TO_ID using entity data\n",
    "temp=final_entity_df[['ENTITY','SOURCE','ID']].copy()\n",
    "temp.columns=['TO_ENTITY','TO_SOURCE','TO_ID']\n",
    "trans_id=trans_id.merge(temp,on=['TO_ENTITY','TO_SOURCE'],how='left')\n",
    "\n",
    "#trans_id=trans_id[['FROM_ID','TO_ID','AMOUNT_TX_IDR']]\n",
    "trans_id=trans_id.drop_duplicates()\n",
    "trans_id"
   ]
  },
  {
   "cell_type": "code",
   "execution_count": 30,
   "metadata": {
    "vscode": {
     "languageId": "r"
    }
   },
   "outputs": [],
   "source": [
    "#create initial size\n",
    "size_amount=[]\n",
    "size_count=[]\n",
    "size_chain=[]\n",
    "for name in final_entity_df['ID'].values:\n",
    "    curr_agg=trans_id.loc[(trans_id['FROM_ID']==name)|(trans_id['TO_ID']==name)]\n",
    "    size_amount.append(sum(curr_agg['AMOUNT_TX_IDR']))\n",
    "    size_count.append(sum(curr_agg['TRX']))\n",
    "    size_chain.append(len(curr_agg))\n",
    "\n",
    "final_entity_df['ORIG_AMOUNT']=size_amount\n",
    "final_entity_df['ORIG_COUNT']=size_count\n",
    "final_entity_df['ORIG_CHAIN']=size_chain\n",
    "\n",
    "final_entity_df['SIZE_AMOUNT']=[1 if i<=1 else i for i in size_amount]\n",
    "final_entity_df['SIZE_COUNT']=[1 if i<=1 else i for i in size_count]\n",
    "final_entity_df['SIZE_CHAIN']=[1 if i<=1 else i for i in size_chain]\n",
    "\n",
    "#create individual flags\n",
    "final_entity_df['FLAG_AMT']=final_entity_df['SIZE_AMOUNT'].apply(lambda x: 'high amt' if x>=34 else 'low amt')\n",
    "final_entity_df['FLAG_TRX']=final_entity_df['SIZE_COUNT'].apply(lambda x: 'high freq' if x>=4 else 'low freq')\n",
    "final_entity_df['FLAG_CHAIN']=final_entity_df['SIZE_CHAIN'].apply(lambda x: 'high chain' if x>=10 else 'low chain')\n",
    "\n",
    "#create final filter\n",
    "final_filter=[]\n",
    "simplified=[]\n",
    "for i in range(len(final_entity_df)):\n",
    "    row=final_entity_df.iloc[i]\n",
    "    curr_filter=''\n",
    "    \n",
    "    #final filter\n",
    "    if row['FLAG_AMT']=='high amt':\n",
    "        curr_filter+='high amt, '\n",
    "    if row['FLAG_TRX']=='high freq':\n",
    "        curr_filter+='high freq, '\n",
    "    if row['FLAG_CHAIN']=='high chain':\n",
    "        curr_filter+='high chain, '\n",
    "    if curr_filter=='':\n",
    "        curr_filter='low, '\n",
    "    \n",
    "    #simplified view\n",
    "    if row['SIZE_CHAIN']>=2:\n",
    "        curr_filter+='simplified'\n",
    "        simplified.append('simplified')\n",
    "    else:\n",
    "        simplified.append('full')\n",
    "        \n",
    "    #remove trailing comma and whitespace\n",
    "    curr_filter=curr_filter.rstrip(' ')\n",
    "    curr_filter=curr_filter.rstrip(',')\n",
    "    \n",
    "    #append\n",
    "    final_filter.append(curr_filter+'')\n",
    "\n",
    "final_entity_df['FILTER']=final_filter\n",
    "final_entity_df['SIMPLIFIED']=simplified\n",
    "#final_entity_df['FLAG_LOB']=final_entity_df['LOB']+', '+final_entity_df['SIMPLIFIED']"
   ]
  },
  {
   "cell_type": "code",
   "execution_count": null,
   "metadata": {
    "vscode": {
     "languageId": "r"
    }
   },
   "outputs": [],
   "source": [
    "final_entity_df"
   ]
  },
  {
   "cell_type": "code",
   "execution_count": null,
   "metadata": {
    "vscode": {
     "languageId": "r"
    }
   },
   "outputs": [],
   "source": [
    "final_entity_df.loc[final_entity_df['ENTITY'].str.contains('GATEWAY CONTAINER LINE')]"
   ]
  },
  {
   "cell_type": "code",
   "execution_count": 33,
   "metadata": {
    "vscode": {
     "languageId": "r"
    }
   },
   "outputs": [
    {
     "data": {
      "text/html": [
       "<div>\n",
       "<style scoped>\n",
       "    .dataframe tbody tr th:only-of-type {\n",
       "        vertical-align: middle;\n",
       "    }\n",
       "\n",
       "    .dataframe tbody tr th {\n",
       "        vertical-align: top;\n",
       "    }\n",
       "\n",
       "    .dataframe thead th {\n",
       "        text-align: right;\n",
       "    }\n",
       "</style>\n",
       "<table border=\"1\" class=\"dataframe\">\n",
       "  <thead>\n",
       "    <tr style=\"text-align: right;\">\n",
       "      <th></th>\n",
       "      <th>ENTITY</th>\n",
       "      <th>DIRECTION</th>\n",
       "      <th>SOURCE</th>\n",
       "      <th>GCIF</th>\n",
       "      <th>TYPE</th>\n",
       "      <th>COLOR</th>\n",
       "      <th>SHAPE</th>\n",
       "      <th>ID</th>\n",
       "      <th>ORIG_AMOUNT</th>\n",
       "      <th>ORIG_COUNT</th>\n",
       "      <th>ORIG_CHAIN</th>\n",
       "      <th>SIZE_AMOUNT</th>\n",
       "      <th>SIZE_COUNT</th>\n",
       "      <th>SIZE_CHAIN</th>\n",
       "      <th>FLAG_AMT</th>\n",
       "      <th>FLAG_TRX</th>\n",
       "      <th>FLAG_CHAIN</th>\n",
       "      <th>FILTER</th>\n",
       "      <th>SIMPLIFIED</th>\n",
       "    </tr>\n",
       "  </thead>\n",
       "  <tbody>\n",
       "  </tbody>\n",
       "</table>\n",
       "</div>"
      ],
      "text/plain": [
       "Empty DataFrame\n",
       "Columns: [ENTITY, DIRECTION, SOURCE, GCIF, TYPE, COLOR, SHAPE, ID, ORIG_AMOUNT, ORIG_COUNT, ORIG_CHAIN, SIZE_AMOUNT, SIZE_COUNT, SIZE_CHAIN, FLAG_AMT, FLAG_TRX, FLAG_CHAIN, FILTER, SIMPLIFIED]\n",
       "Index: []"
      ]
     },
     "execution_count": 33,
     "metadata": {},
     "output_type": "execute_result"
    }
   ],
   "source": [
    "final_entity_df.loc[final_entity_df['ENTITY'].str.contains('AVOLON')]"
   ]
  },
  {
   "cell_type": "code",
   "execution_count": 34,
   "metadata": {
    "vscode": {
     "languageId": "r"
    }
   },
   "outputs": [],
   "source": [
    "final_entity_df.to_csv('entity_idv3.csv')\n",
    "trans_id.to_csv('trans_idv3.csv')"
   ]
  }
 ],
 "metadata": {
  "kernelspec": {
   "display_name": "R",
   "language": "R",
   "name": "ir"
  },
  "language_info": {
   "codemirror_mode": {
    "name": "ipython",
    "version": 3
   },
   "file_extension": ".py",
   "mimetype": "text/x-python",
   "name": "R",
   "nbconvert_exporter": "python",
   "pygments_lexer": "ipython3",
   "version": "3.8.8"
  },
  "orig_nbformat": 4,
  "vscode": {
   "interpreter": {
    "hash": "56661359ff2ff660132b5efcb6c2d2cc1ab951c9ce0542f2e1c28d05eb5746f3"
   }
  }
 },
 "nbformat": 4,
 "nbformat_minor": 2
}
