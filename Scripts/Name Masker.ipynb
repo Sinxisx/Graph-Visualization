{
 "cells": [
  {
   "cell_type": "code",
   "execution_count": 1,
   "metadata": {},
   "outputs": [],
   "source": [
    "from bs4 import BeautifulSoup as bs\n",
    "import os\n",
    "import re\n",
    "import json"
   ]
  },
  {
   "cell_type": "code",
   "execution_count": 2,
   "metadata": {},
   "outputs": [],
   "source": [
    "# get working directory, move up one layer\n",
    "path = os.getcwd()\n",
    "parDir = path.replace('Scripts','')"
   ]
  },
  {
   "cell_type": "code",
   "execution_count": 3,
   "metadata": {},
   "outputs": [],
   "source": [
    "# list all root, directories, and files\n",
    "rootCollector=[]\n",
    "dirsCollector=[]\n",
    "filesCollector=[]\n",
    "for (root, dirs, files) in  os.walk(parDir):\n",
    "    rootCollector.append(root)\n",
    "    dirsCollector.append(dirs)\n",
    "    filesCollector.append(files)"
   ]
  },
  {
   "cell_type": "code",
   "execution_count": 4,
   "metadata": {},
   "outputs": [
    {
     "data": {
      "text/plain": [
       "'d:\\\\Work\\\\Repo\\\\R Graph\\\\BB Request'"
      ]
     },
     "execution_count": 4,
     "metadata": {},
     "output_type": "execute_result"
    }
   ],
   "source": [
    "rootCollector[76]"
   ]
  },
  {
   "cell_type": "code",
   "execution_count": 5,
   "metadata": {},
   "outputs": [
    {
     "data": {
      "text/plain": [
       "['BB Dataset Maker.ipynb', 'network graph BB.R']"
      ]
     },
     "execution_count": 5,
     "metadata": {},
     "output_type": "execute_result"
    }
   ],
   "source": [
    "filesCollector[76]"
   ]
  },
  {
   "cell_type": "code",
   "execution_count": 6,
   "metadata": {},
   "outputs": [],
   "source": [
    "# identify html files\n",
    "idxCollector = []\n",
    "filepathCollector = []\n",
    "for i in range(len(rootCollector)):\n",
    "    root = rootCollector[i]\n",
    "    files = filesCollector[i]\n",
    "    for file in files:\n",
    "        if file.endswith(\".html\"):\n",
    "            filepath = root+'\\\\'+file\n",
    "            filepathCollector.append(filepath)\n",
    "            idxCollector.append(i)"
   ]
  },
  {
   "cell_type": "code",
   "execution_count": 7,
   "metadata": {},
   "outputs": [
    {
     "data": {
      "text/plain": [
       "[77, 77, 77, 108, 108, 122, 122, 122, 122, 129, 129, 130, 130, 139, 139]"
      ]
     },
     "execution_count": 7,
     "metadata": {},
     "output_type": "execute_result"
    }
   ],
   "source": [
    "idxCollector"
   ]
  },
  {
   "cell_type": "code",
   "execution_count": 8,
   "metadata": {},
   "outputs": [
    {
     "data": {
      "text/plain": [
       "['d:\\\\Work\\\\Repo\\\\R Graph\\\\BB Request\\\\Graph 2208\\\\result_BB_Fundingv1_External.html',\n",
       " 'd:\\\\Work\\\\Repo\\\\R Graph\\\\BB Request\\\\Graph 2208\\\\result_BB_Lendingv1_External.html',\n",
       " 'd:\\\\Work\\\\Repo\\\\R Graph\\\\BB Request\\\\Graph 2208\\\\result_Graph 2208v1.2_External.html',\n",
       " 'd:\\\\Work\\\\Repo\\\\R Graph\\\\BB Request\\\\Graph 2212\\\\result_Graph 2212v1_BB Funding 50.html',\n",
       " 'd:\\\\Work\\\\Repo\\\\R Graph\\\\BB Request\\\\Graph 2212\\\\result_Graph 2212v1_BB Lending 50.html',\n",
       " 'd:\\\\Work\\\\Repo\\\\R Graph\\\\GB Request\\\\Graph 2208\\\\result_Graph 2208v1_GB Funding 100.html',\n",
       " 'd:\\\\Work\\\\Repo\\\\R Graph\\\\GB Request\\\\Graph 2208\\\\result_Graph 2208v1_GB Lending All.html',\n",
       " 'd:\\\\Work\\\\Repo\\\\R Graph\\\\GB Request\\\\Graph 2208\\\\result_Graph 2208v1_GB_Top 50 Funding.html',\n",
       " 'd:\\\\Work\\\\Repo\\\\R Graph\\\\GB Request\\\\Graph 2208\\\\result_Graph 2208v1_GB_Top 50 Lending.html',\n",
       " 'd:\\\\Work\\\\Repo\\\\R Graph\\\\RSME Request\\\\result_Graph 2208v1_RSME_Funding.html',\n",
       " 'd:\\\\Work\\\\Repo\\\\R Graph\\\\RSME Request\\\\result_Graph 2208v1_RSME_Lending.html',\n",
       " 'd:\\\\Work\\\\Repo\\\\R Graph\\\\RSME Request\\\\Graph 2212\\\\result_Graph 2212v2_RSME Funding Top 50.html',\n",
       " 'd:\\\\Work\\\\Repo\\\\R Graph\\\\RSME Request\\\\Graph 2212\\\\result_Graph 2212v2_RSME Lending Top 50.html',\n",
       " 'd:\\\\Work\\\\Repo\\\\R Graph\\\\SME+ Request\\\\Graph 2212\\\\result_Graph 2212v1_SME+ Lending Top 50.html',\n",
       " 'd:\\\\Work\\\\Repo\\\\R Graph\\\\SME+ Request\\\\Graph 2212\\\\result_Graph 2212v3_SME+ Funding Top 50.html']"
      ]
     },
     "execution_count": 8,
     "metadata": {},
     "output_type": "execute_result"
    }
   ],
   "source": [
    "filepathCollector"
   ]
  },
  {
   "cell_type": "code",
   "execution_count": 9,
   "metadata": {},
   "outputs": [],
   "source": [
    "def masker(name):\n",
    "    words = name.split()\n",
    "    masked_name = []\n",
    "    \n",
    "    for word in words:\n",
    "        if len(word) > 2:  # Words with more than 2 characters\n",
    "            masked_word = word[0] + '*' * (len(word) - 2) + word[-1]\n",
    "        else:\n",
    "            masked_word = word  # Keep words with 1 or 2 characters unchanged\n",
    "        \n",
    "        masked_name.append(masked_word)\n",
    "    \n",
    "    return ' '.join(masked_name)"
   ]
  },
  {
   "cell_type": "code",
   "execution_count": 12,
   "metadata": {},
   "outputs": [],
   "source": [
    "for html in filepathCollector:\n",
    "    # Step 1: Load the HTML file\n",
    "    with open(html, 'r') as file:\n",
    "        html_content = file.read()\n",
    "\n",
    "    # Step 2: Parse the HTML using BeautifulSoup\n",
    "    soup = bs(html_content, 'html.parser')\n",
    "\n",
    "    # Step 3: Find the script tag containing JSON data\n",
    "    script_tag = soup.find('script', {'type': 'application/json'})\n",
    "\n",
    "    if script_tag:\n",
    "        # Step 4: Extract the JSON string\n",
    "        json_string = script_tag.string\n",
    "\n",
    "        # Step 5: Parse the JSON string\n",
    "        data = json.loads(json_string)\n",
    "    else:\n",
    "        print(\"JSON data not found in the HTML file.\")\n",
    "\n",
    "    # create new label\n",
    "    try:\n",
    "        # creating new label\n",
    "        labels = data['x']['nodes']['label']\n",
    "        newLabels = [masker(i) for i in labels] #new labels done\n",
    "\n",
    "        # replace old labels with new\n",
    "        data['x']['nodes']['label'] = newLabels\n",
    "\n",
    "        # create name dict\n",
    "        nameDict = dict(zip(labels, newLabels))\n",
    "    except:\n",
    "        pass\n",
    "\n",
    "    # create new title\n",
    "    try:\n",
    "        titles = data['x']['nodes']['title']\n",
    "        newTitles = []\n",
    "        for title in titles:\n",
    "            titleSplitted = title.split('|')\n",
    "            titleSplitted[0] = masker(titleSplitted[0])+' '\n",
    "            newTitles.append('|'.join(titleSplitted))\n",
    "        data['x']['nodes']['title']=newTitles\n",
    "    except:\n",
    "        pass\n",
    "\n",
    "    # create new entity\n",
    "    try:\n",
    "        entities = data['x']['nodes']['entity']\n",
    "        newEntities = []\n",
    "        for entity in entities:\n",
    "            newEntities.append(masker(entity))\n",
    "        data['x']['nodes']['entity']=newEntities\n",
    "    except:\n",
    "        pass\n",
    "\n",
    "    # create new values\n",
    "    try:\n",
    "        values = data['x']['byselection']['values']\n",
    "        newValues = []\n",
    "        for value in values:\n",
    "            newValues.append(masker(value))\n",
    "        data['x']['byselection']['values']=newValues\n",
    "    except:\n",
    "        pass\n",
    "\n",
    "    # rvert data back to json\n",
    "    newData = json.dumps(data)\n",
    "\n",
    "    # write back the json\n",
    "    soup.find('script', {'type': 'application/json'}).string=newData\n",
    "\n",
    "    with open(html, 'w') as file:\n",
    "        file.write(str(soup))"
   ]
  }
 ],
 "metadata": {
  "kernelspec": {
   "display_name": "base",
   "language": "python",
   "name": "python3"
  },
  "language_info": {
   "codemirror_mode": {
    "name": "ipython",
    "version": 3
   },
   "file_extension": ".py",
   "mimetype": "text/x-python",
   "name": "python",
   "nbconvert_exporter": "python",
   "pygments_lexer": "ipython3",
   "version": "3.11.5"
  }
 },
 "nbformat": 4,
 "nbformat_minor": 2
}
