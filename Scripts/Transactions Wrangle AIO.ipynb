{
 "cells": [
  {
   "cell_type": "code",
   "execution_count": 1,
   "metadata": {},
   "outputs": [],
   "source": [
    "import pandas as pd\n",
    "import numpy as np"
   ]
  },
  {
   "cell_type": "markdown",
   "metadata": {},
   "source": [
    "# ACCT NR"
   ]
  },
  {
   "cell_type": "code",
   "execution_count": 2,
   "metadata": {},
   "outputs": [],
   "source": [
    "# GCIF Acct mapping - From EDW Bridge\n",
    "gcifAcct = pd.read_csv(r\"C:\\Users\\MR38804\\Documents\\EDW Transac\\Cust List\\GCIF ACCT 2212.csv\", sep=\"|\", dtype={'ACCT':'str'})"
   ]
  },
  {
   "cell_type": "code",
   "execution_count": 3,
   "metadata": {},
   "outputs": [],
   "source": [
    "# NR Customer - From LoBs monitoring\n",
    "nrCust = pd.read_excel(r'C:\\Users\\MR38804\\Documents\\EDW Transac\\Cust List\\2212 Dec NR Cust List.xlsx', sheet_name='Clean')"
   ]
  },
  {
   "cell_type": "code",
   "execution_count": 4,
   "metadata": {},
   "outputs": [
    {
     "data": {
      "text/html": [
       "<div>\n",
       "<style scoped>\n",
       "    .dataframe tbody tr th:only-of-type {\n",
       "        vertical-align: middle;\n",
       "    }\n",
       "\n",
       "    .dataframe tbody tr th {\n",
       "        vertical-align: top;\n",
       "    }\n",
       "\n",
       "    .dataframe thead th {\n",
       "        text-align: right;\n",
       "    }\n",
       "</style>\n",
       "<table border=\"1\" class=\"dataframe\">\n",
       "  <thead>\n",
       "    <tr style=\"text-align: right;\">\n",
       "      <th></th>\n",
       "      <th>GCIF_NO</th>\n",
       "      <th>CUST_NAME</th>\n",
       "      <th>LoB</th>\n",
       "      <th>REGION</th>\n",
       "    </tr>\n",
       "  </thead>\n",
       "  <tbody>\n",
       "  </tbody>\n",
       "</table>\n",
       "</div>"
      ],
      "text/plain": [
       "Empty DataFrame\n",
       "Columns: [GCIF_NO, CUST_NAME, LoB, REGION]\n",
       "Index: []"
      ]
     },
     "execution_count": 4,
     "metadata": {},
     "output_type": "execute_result"
    }
   ],
   "source": [
    "nrCust[nrCust['GCIF_NO'].duplicated()]"
   ]
  },
  {
   "cell_type": "code",
   "execution_count": null,
   "metadata": {},
   "outputs": [],
   "source": [
    "nrCust"
   ]
  },
  {
   "cell_type": "code",
   "execution_count": 6,
   "metadata": {},
   "outputs": [],
   "source": [
    "# Merge gcif acct mapping to NR GCIF list\n",
    "acctNR = pd.merge(nrCust, gcifAcct, left_on=['GCIF_NO'], right_on=['GCIF_NO'], how='left')"
   ]
  },
  {
   "cell_type": "code",
   "execution_count": 7,
   "metadata": {},
   "outputs": [],
   "source": [
    "acctNR['ACCT'] = acctNR['ACCT'].astype('str').str.zfill(24)"
   ]
  },
  {
   "cell_type": "code",
   "execution_count": 8,
   "metadata": {},
   "outputs": [],
   "source": [
    "acctNR = acctNR[['ACCT', 'GCIF_NO', 'CUST_NAME', 'LoB', 'REGION']]"
   ]
  },
  {
   "cell_type": "code",
   "execution_count": 9,
   "metadata": {},
   "outputs": [],
   "source": [
    "acctNR = acctNR[~acctNR['ACCT'].duplicated()]"
   ]
  },
  {
   "cell_type": "code",
   "execution_count": null,
   "metadata": {},
   "outputs": [],
   "source": [
    "acctNR"
   ]
  },
  {
   "cell_type": "code",
   "execution_count": 11,
   "metadata": {},
   "outputs": [
    {
     "data": {
      "text/html": [
       "<div>\n",
       "<style scoped>\n",
       "    .dataframe tbody tr th:only-of-type {\n",
       "        vertical-align: middle;\n",
       "    }\n",
       "\n",
       "    .dataframe tbody tr th {\n",
       "        vertical-align: top;\n",
       "    }\n",
       "\n",
       "    .dataframe thead th {\n",
       "        text-align: right;\n",
       "    }\n",
       "</style>\n",
       "<table border=\"1\" class=\"dataframe\">\n",
       "  <thead>\n",
       "    <tr style=\"text-align: right;\">\n",
       "      <th></th>\n",
       "      <th>ACCT</th>\n",
       "      <th>GCIF_NO</th>\n",
       "      <th>CUST_NAME</th>\n",
       "      <th>LoB</th>\n",
       "      <th>REGION</th>\n",
       "    </tr>\n",
       "  </thead>\n",
       "  <tbody>\n",
       "    <tr>\n",
       "      <th>5215</th>\n",
       "      <td>000000000000000000000nan</td>\n",
       "      <td>G209619386</td>\n",
       "      <td>RDT BNP PARI</td>\n",
       "      <td>GB</td>\n",
       "      <td>NaN</td>\n",
       "    </tr>\n",
       "  </tbody>\n",
       "</table>\n",
       "</div>"
      ],
      "text/plain": [
       "                          ACCT     GCIF_NO     CUST_NAME LoB REGION\n",
       "5215  000000000000000000000nan  G209619386  RDT BNP PARI  GB    NaN"
      ]
     },
     "execution_count": 11,
     "metadata": {},
     "output_type": "execute_result"
    }
   ],
   "source": [
    "acctNR[acctNR['CUST_NAME']=='RDT BNP PARI']"
   ]
  },
  {
   "cell_type": "code",
   "execution_count": 12,
   "metadata": {},
   "outputs": [],
   "source": [
    "acctNR = acctNR[~(acctNR['ACCT']=='00000000000000000nan')]"
   ]
  },
  {
   "cell_type": "code",
   "execution_count": null,
   "metadata": {},
   "outputs": [],
   "source": [
    "acctNR"
   ]
  },
  {
   "cell_type": "markdown",
   "metadata": {},
   "source": [
    "# BKCD"
   ]
  },
  {
   "cell_type": "code",
   "execution_count": 14,
   "metadata": {},
   "outputs": [],
   "source": [
    "# Read Bank Code and SWIFT code translate\n",
    "BKCD = pd.read_excel(r'C:\\Users\\MR38804\\Documents\\EDW Transac\\Bank Code\\BKCD 2212.xlsx')"
   ]
  },
  {
   "cell_type": "code",
   "execution_count": 15,
   "metadata": {},
   "outputs": [
    {
     "data": {
      "text/html": [
       "<div>\n",
       "<style scoped>\n",
       "    .dataframe tbody tr th:only-of-type {\n",
       "        vertical-align: middle;\n",
       "    }\n",
       "\n",
       "    .dataframe tbody tr th {\n",
       "        vertical-align: top;\n",
       "    }\n",
       "\n",
       "    .dataframe thead th {\n",
       "        text-align: right;\n",
       "    }\n",
       "</style>\n",
       "<table border=\"1\" class=\"dataframe\">\n",
       "  <thead>\n",
       "    <tr style=\"text-align: right;\">\n",
       "      <th></th>\n",
       "      <th>Kode Bank Indonesia Fixed</th>\n",
       "      <th>Kode Bank Indonesia</th>\n",
       "      <th>BIC(Self/EDW)</th>\n",
       "      <th>BIC(google)</th>\n",
       "      <th>NAMA BANK ORI</th>\n",
       "      <th>TABEL SANDI</th>\n",
       "      <th>NAMA FINAL</th>\n",
       "    </tr>\n",
       "  </thead>\n",
       "  <tbody>\n",
       "    <tr>\n",
       "      <th>0</th>\n",
       "      <td>0</td>\n",
       "      <td>NaN</td>\n",
       "      <td>NaN</td>\n",
       "      <td>AGTBIDJA</td>\n",
       "      <td>BANK BRI AGRO</td>\n",
       "      <td>AGRONIAGA</td>\n",
       "      <td>AGRONIAGA</td>\n",
       "    </tr>\n",
       "    <tr>\n",
       "      <th>1</th>\n",
       "      <td>0</td>\n",
       "      <td>NaN</td>\n",
       "      <td>NaN</td>\n",
       "      <td>ALTOIDJ1</td>\n",
       "      <td>ALTO NETWORK</td>\n",
       "      <td>NaN</td>\n",
       "      <td>ALTO NETWORK</td>\n",
       "    </tr>\n",
       "    <tr>\n",
       "      <th>2</th>\n",
       "      <td>30</td>\n",
       "      <td>30.0</td>\n",
       "      <td>NaN</td>\n",
       "      <td>AEIBPKK1LHE</td>\n",
       "      <td>AMERICAN EXPRESS BANK LTD</td>\n",
       "      <td>NaN</td>\n",
       "      <td>AMERICAN EXPRESS BANK</td>\n",
       "    </tr>\n",
       "    <tr>\n",
       "      <th>3</th>\n",
       "      <td>0</td>\n",
       "      <td>NaN</td>\n",
       "      <td>NaN</td>\n",
       "      <td>ATJSIDJ2</td>\n",
       "      <td>NaN</td>\n",
       "      <td>NaN</td>\n",
       "      <td>ARTAJASA PEMBAYARAN ELEKTRONIK</td>\n",
       "    </tr>\n",
       "    <tr>\n",
       "      <th>4</th>\n",
       "      <td>0</td>\n",
       "      <td>NaN</td>\n",
       "      <td>NaN</td>\n",
       "      <td>BKKBIDJA</td>\n",
       "      <td>BANGKOK BANK</td>\n",
       "      <td>BANGKOK BANK</td>\n",
       "      <td>BANGKOK BANK</td>\n",
       "    </tr>\n",
       "    <tr>\n",
       "      <th>...</th>\n",
       "      <td>...</td>\n",
       "      <td>...</td>\n",
       "      <td>...</td>\n",
       "      <td>...</td>\n",
       "      <td>...</td>\n",
       "      <td>...</td>\n",
       "      <td>...</td>\n",
       "    </tr>\n",
       "    <tr>\n",
       "      <th>189</th>\n",
       "      <td>0</td>\n",
       "      <td>NaN</td>\n",
       "      <td>NaN</td>\n",
       "      <td>FASTIDJA</td>\n",
       "      <td>NaN</td>\n",
       "      <td>NaN</td>\n",
       "      <td>BANK INDONESIA FAST PAYMENT</td>\n",
       "    </tr>\n",
       "    <tr>\n",
       "      <th>190</th>\n",
       "      <td>0</td>\n",
       "      <td>NaN</td>\n",
       "      <td>NaN</td>\n",
       "      <td>SKNAIDJ1</td>\n",
       "      <td>NaN</td>\n",
       "      <td>NaN</td>\n",
       "      <td>SKNBI</td>\n",
       "    </tr>\n",
       "    <tr>\n",
       "      <th>191</th>\n",
       "      <td>0</td>\n",
       "      <td>NaN</td>\n",
       "      <td>NaN</td>\n",
       "      <td>INDOIDJP</td>\n",
       "      <td>NaN</td>\n",
       "      <td>NaN</td>\n",
       "      <td>BANK INDONESIA - PENYELENGGARA RTGS</td>\n",
       "    </tr>\n",
       "    <tr>\n",
       "      <th>192</th>\n",
       "      <td>422</td>\n",
       "      <td>422.0</td>\n",
       "      <td>NaN</td>\n",
       "      <td>NaN</td>\n",
       "      <td>NaN</td>\n",
       "      <td>NaN</td>\n",
       "      <td>BANK BRI SYARIAH</td>\n",
       "    </tr>\n",
       "    <tr>\n",
       "      <th>193</th>\n",
       "      <td>494</td>\n",
       "      <td>494.0</td>\n",
       "      <td>NaN</td>\n",
       "      <td>NaN</td>\n",
       "      <td>NaN</td>\n",
       "      <td>NaN</td>\n",
       "      <td>BANK BRI AGRO</td>\n",
       "    </tr>\n",
       "  </tbody>\n",
       "</table>\n",
       "<p>194 rows × 7 columns</p>\n",
       "</div>"
      ],
      "text/plain": [
       "     Kode Bank Indonesia Fixed  Kode Bank Indonesia BIC(Self/EDW)  \\\n",
       "0                            0                  NaN           NaN   \n",
       "1                            0                  NaN           NaN   \n",
       "2                           30                 30.0           NaN   \n",
       "3                            0                  NaN           NaN   \n",
       "4                            0                  NaN           NaN   \n",
       "..                         ...                  ...           ...   \n",
       "189                          0                  NaN           NaN   \n",
       "190                          0                  NaN           NaN   \n",
       "191                          0                  NaN           NaN   \n",
       "192                        422                422.0           NaN   \n",
       "193                        494                494.0           NaN   \n",
       "\n",
       "     BIC(google)              NAMA BANK ORI   TABEL SANDI  \\\n",
       "0       AGTBIDJA              BANK BRI AGRO     AGRONIAGA   \n",
       "1       ALTOIDJ1               ALTO NETWORK           NaN   \n",
       "2    AEIBPKK1LHE  AMERICAN EXPRESS BANK LTD           NaN   \n",
       "3       ATJSIDJ2                        NaN           NaN   \n",
       "4       BKKBIDJA               BANGKOK BANK  BANGKOK BANK   \n",
       "..           ...                        ...           ...   \n",
       "189     FASTIDJA                        NaN           NaN   \n",
       "190     SKNAIDJ1                        NaN           NaN   \n",
       "191     INDOIDJP                        NaN           NaN   \n",
       "192          NaN                        NaN           NaN   \n",
       "193          NaN                        NaN           NaN   \n",
       "\n",
       "                              NAMA FINAL  \n",
       "0                              AGRONIAGA  \n",
       "1                           ALTO NETWORK  \n",
       "2                  AMERICAN EXPRESS BANK  \n",
       "3         ARTAJASA PEMBAYARAN ELEKTRONIK  \n",
       "4                           BANGKOK BANK  \n",
       "..                                   ...  \n",
       "189          BANK INDONESIA FAST PAYMENT  \n",
       "190                                SKNBI  \n",
       "191  BANK INDONESIA - PENYELENGGARA RTGS  \n",
       "192                     BANK BRI SYARIAH  \n",
       "193                        BANK BRI AGRO  \n",
       "\n",
       "[194 rows x 7 columns]"
      ]
     },
     "execution_count": 15,
     "metadata": {},
     "output_type": "execute_result"
    }
   ],
   "source": [
    "BKCD"
   ]
  },
  {
   "cell_type": "code",
   "execution_count": 16,
   "metadata": {},
   "outputs": [
    {
     "name": "stdout",
     "output_type": "stream",
     "text": [
      "<class 'pandas.core.frame.DataFrame'>\n",
      "RangeIndex: 194 entries, 0 to 193\n",
      "Data columns (total 7 columns):\n",
      " #   Column                     Non-Null Count  Dtype  \n",
      "---  ------                     --------------  -----  \n",
      " 0   Kode Bank Indonesia Fixed  194 non-null    int64  \n",
      " 1   Kode Bank Indonesia        163 non-null    float64\n",
      " 2   BIC(Self/EDW)              79 non-null     object \n",
      " 3   BIC(google)                182 non-null    object \n",
      " 4   NAMA BANK ORI              186 non-null    object \n",
      " 5   TABEL SANDI                153 non-null    object \n",
      " 6   NAMA FINAL                 194 non-null    object \n",
      "dtypes: float64(1), int64(1), object(5)\n",
      "memory usage: 10.7+ KB\n"
     ]
    }
   ],
   "source": [
    "BKCD.info()"
   ]
  },
  {
   "cell_type": "code",
   "execution_count": 17,
   "metadata": {},
   "outputs": [],
   "source": [
    "# Create unique BKCD table for merging\n",
    "BKCDBIC = BKCD[['BIC(google)','NAMA FINAL']].drop_duplicates(subset='BIC(google)', keep='first')"
   ]
  },
  {
   "cell_type": "code",
   "execution_count": 18,
   "metadata": {},
   "outputs": [],
   "source": [
    "BKCDBIC.dropna(inplace=True)"
   ]
  },
  {
   "cell_type": "code",
   "execution_count": 19,
   "metadata": {},
   "outputs": [],
   "source": [
    "BKCDBIC.reset_index(drop=True, inplace=True)"
   ]
  },
  {
   "cell_type": "code",
   "execution_count": 20,
   "metadata": {},
   "outputs": [],
   "source": [
    "BKCDBIC.columns = ['BIC', 'BANK NAME']"
   ]
  },
  {
   "cell_type": "code",
   "execution_count": 21,
   "metadata": {},
   "outputs": [
    {
     "name": "stdout",
     "output_type": "stream",
     "text": [
      "<class 'pandas.core.frame.DataFrame'>\n",
      "RangeIndex: 158 entries, 0 to 157\n",
      "Data columns (total 2 columns):\n",
      " #   Column     Non-Null Count  Dtype \n",
      "---  ------     --------------  ----- \n",
      " 0   BIC        158 non-null    object\n",
      " 1   BANK NAME  158 non-null    object\n",
      "dtypes: object(2)\n",
      "memory usage: 2.6+ KB\n"
     ]
    }
   ],
   "source": [
    "BKCDBIC.info()"
   ]
  },
  {
   "cell_type": "code",
   "execution_count": 22,
   "metadata": {},
   "outputs": [
    {
     "data": {
      "text/html": [
       "<div>\n",
       "<style scoped>\n",
       "    .dataframe tbody tr th:only-of-type {\n",
       "        vertical-align: middle;\n",
       "    }\n",
       "\n",
       "    .dataframe tbody tr th {\n",
       "        vertical-align: top;\n",
       "    }\n",
       "\n",
       "    .dataframe thead th {\n",
       "        text-align: right;\n",
       "    }\n",
       "</style>\n",
       "<table border=\"1\" class=\"dataframe\">\n",
       "  <thead>\n",
       "    <tr style=\"text-align: right;\">\n",
       "      <th></th>\n",
       "      <th>BIC</th>\n",
       "      <th>BANK NAME</th>\n",
       "    </tr>\n",
       "  </thead>\n",
       "  <tbody>\n",
       "    <tr>\n",
       "      <th>0</th>\n",
       "      <td>AGTBIDJA</td>\n",
       "      <td>AGRONIAGA</td>\n",
       "    </tr>\n",
       "    <tr>\n",
       "      <th>1</th>\n",
       "      <td>ALTOIDJ1</td>\n",
       "      <td>ALTO NETWORK</td>\n",
       "    </tr>\n",
       "    <tr>\n",
       "      <th>2</th>\n",
       "      <td>AEIBPKK1LHE</td>\n",
       "      <td>AMERICAN EXPRESS BANK</td>\n",
       "    </tr>\n",
       "    <tr>\n",
       "      <th>3</th>\n",
       "      <td>ATJSIDJ2</td>\n",
       "      <td>ARTAJASA PEMBAYARAN ELEKTRONIK</td>\n",
       "    </tr>\n",
       "    <tr>\n",
       "      <th>4</th>\n",
       "      <td>BKKBIDJA</td>\n",
       "      <td>BANGKOK BANK</td>\n",
       "    </tr>\n",
       "    <tr>\n",
       "      <th>...</th>\n",
       "      <td>...</td>\n",
       "      <td>...</td>\n",
       "    </tr>\n",
       "    <tr>\n",
       "      <th>153</th>\n",
       "      <td>SCBLIDJX</td>\n",
       "      <td>STANDARD CHARTERED BANK</td>\n",
       "    </tr>\n",
       "    <tr>\n",
       "      <th>154</th>\n",
       "      <td>BBIJIDJA</td>\n",
       "      <td>UOB INDONESIA</td>\n",
       "    </tr>\n",
       "    <tr>\n",
       "      <th>155</th>\n",
       "      <td>FASTIDJA</td>\n",
       "      <td>BANK INDONESIA FAST PAYMENT</td>\n",
       "    </tr>\n",
       "    <tr>\n",
       "      <th>156</th>\n",
       "      <td>SKNAIDJ1</td>\n",
       "      <td>SKNBI</td>\n",
       "    </tr>\n",
       "    <tr>\n",
       "      <th>157</th>\n",
       "      <td>INDOIDJP</td>\n",
       "      <td>BANK INDONESIA - PENYELENGGARA RTGS</td>\n",
       "    </tr>\n",
       "  </tbody>\n",
       "</table>\n",
       "<p>158 rows × 2 columns</p>\n",
       "</div>"
      ],
      "text/plain": [
       "             BIC                            BANK NAME\n",
       "0       AGTBIDJA                            AGRONIAGA\n",
       "1       ALTOIDJ1                         ALTO NETWORK\n",
       "2    AEIBPKK1LHE                AMERICAN EXPRESS BANK\n",
       "3       ATJSIDJ2       ARTAJASA PEMBAYARAN ELEKTRONIK\n",
       "4       BKKBIDJA                         BANGKOK BANK\n",
       "..           ...                                  ...\n",
       "153     SCBLIDJX              STANDARD CHARTERED BANK\n",
       "154     BBIJIDJA                        UOB INDONESIA\n",
       "155     FASTIDJA          BANK INDONESIA FAST PAYMENT\n",
       "156     SKNAIDJ1                                SKNBI\n",
       "157     INDOIDJP  BANK INDONESIA - PENYELENGGARA RTGS\n",
       "\n",
       "[158 rows x 2 columns]"
      ]
     },
     "execution_count": 22,
     "metadata": {},
     "output_type": "execute_result"
    }
   ],
   "source": [
    "BKCDBIC"
   ]
  },
  {
   "cell_type": "code",
   "execution_count": 23,
   "metadata": {},
   "outputs": [],
   "source": [
    "BKCD = BKCD[['Kode Bank Indonesia Fixed','NAMA FINAL']].drop_duplicates(subset='Kode Bank Indonesia Fixed', keep='first')"
   ]
  },
  {
   "cell_type": "code",
   "execution_count": 24,
   "metadata": {},
   "outputs": [],
   "source": [
    "BKCD.columns = ['BANK CODE', 'BANK NAME']"
   ]
  },
  {
   "cell_type": "code",
   "execution_count": 25,
   "metadata": {},
   "outputs": [],
   "source": [
    "BKCD['BANK CODE'] = BKCD['BANK CODE'].astype('str').str.zfill(3)"
   ]
  },
  {
   "cell_type": "code",
   "execution_count": 26,
   "metadata": {},
   "outputs": [],
   "source": [
    "BKCD = BKCD[BKCD['BANK CODE']!='000']"
   ]
  },
  {
   "cell_type": "code",
   "execution_count": 27,
   "metadata": {},
   "outputs": [
    {
     "data": {
      "text/html": [
       "<div>\n",
       "<style scoped>\n",
       "    .dataframe tbody tr th:only-of-type {\n",
       "        vertical-align: middle;\n",
       "    }\n",
       "\n",
       "    .dataframe tbody tr th {\n",
       "        vertical-align: top;\n",
       "    }\n",
       "\n",
       "    .dataframe thead th {\n",
       "        text-align: right;\n",
       "    }\n",
       "</style>\n",
       "<table border=\"1\" class=\"dataframe\">\n",
       "  <thead>\n",
       "    <tr style=\"text-align: right;\">\n",
       "      <th></th>\n",
       "      <th>BANK CODE</th>\n",
       "      <th>BANK NAME</th>\n",
       "    </tr>\n",
       "  </thead>\n",
       "  <tbody>\n",
       "    <tr>\n",
       "      <th>2</th>\n",
       "      <td>030</td>\n",
       "      <td>AMERICAN EXPRESS BANK</td>\n",
       "    </tr>\n",
       "    <tr>\n",
       "      <th>5</th>\n",
       "      <td>040</td>\n",
       "      <td>BANGKOK BANK</td>\n",
       "    </tr>\n",
       "    <tr>\n",
       "      <th>6</th>\n",
       "      <td>052</td>\n",
       "      <td>BANK ABN AMRO</td>\n",
       "    </tr>\n",
       "    <tr>\n",
       "      <th>7</th>\n",
       "      <td>116</td>\n",
       "      <td>BANK ACEH</td>\n",
       "    </tr>\n",
       "    <tr>\n",
       "      <th>8</th>\n",
       "      <td>525</td>\n",
       "      <td>BANK AKITA</td>\n",
       "    </tr>\n",
       "    <tr>\n",
       "      <th>...</th>\n",
       "      <td>...</td>\n",
       "      <td>...</td>\n",
       "    </tr>\n",
       "    <tr>\n",
       "      <th>183</th>\n",
       "      <td>042</td>\n",
       "      <td>MUFG BANK</td>\n",
       "    </tr>\n",
       "    <tr>\n",
       "      <th>185</th>\n",
       "      <td>520</td>\n",
       "      <td>PRIMA MASTER</td>\n",
       "    </tr>\n",
       "    <tr>\n",
       "      <th>187</th>\n",
       "      <td>050</td>\n",
       "      <td>STANDARD CHARTERED BANK</td>\n",
       "    </tr>\n",
       "    <tr>\n",
       "      <th>188</th>\n",
       "      <td>023</td>\n",
       "      <td>UOB INDONESIA</td>\n",
       "    </tr>\n",
       "    <tr>\n",
       "      <th>193</th>\n",
       "      <td>494</td>\n",
       "      <td>BANK BRI AGRO</td>\n",
       "    </tr>\n",
       "  </tbody>\n",
       "</table>\n",
       "<p>137 rows × 2 columns</p>\n",
       "</div>"
      ],
      "text/plain": [
       "    BANK CODE                BANK NAME\n",
       "2         030    AMERICAN EXPRESS BANK\n",
       "5         040             BANGKOK BANK\n",
       "6         052            BANK ABN AMRO\n",
       "7         116                BANK ACEH\n",
       "8         525               BANK AKITA\n",
       "..        ...                      ...\n",
       "183       042                MUFG BANK\n",
       "185       520             PRIMA MASTER\n",
       "187       050  STANDARD CHARTERED BANK\n",
       "188       023            UOB INDONESIA\n",
       "193       494            BANK BRI AGRO\n",
       "\n",
       "[137 rows x 2 columns]"
      ]
     },
     "execution_count": 27,
     "metadata": {},
     "output_type": "execute_result"
    }
   ],
   "source": [
    "BKCD"
   ]
  },
  {
   "cell_type": "markdown",
   "metadata": {},
   "source": [
    "# ORTGS"
   ]
  },
  {
   "cell_type": "code",
   "execution_count": 28,
   "metadata": {},
   "outputs": [],
   "source": [
    "# read ortgs raw\n",
    "ortgs = pd.read_csv(r\"C:\\Users\\MR38804\\Documents\\EDW Transac\\ORTGS\\ORTGS_2212.txt\", sep='\\t')"
   ]
  },
  {
   "cell_type": "code",
   "execution_count": 29,
   "metadata": {},
   "outputs": [
    {
     "data": {
      "text/html": [
       "<div>\n",
       "<style scoped>\n",
       "    .dataframe tbody tr th:only-of-type {\n",
       "        vertical-align: middle;\n",
       "    }\n",
       "\n",
       "    .dataframe tbody tr th {\n",
       "        vertical-align: top;\n",
       "    }\n",
       "\n",
       "    .dataframe thead th {\n",
       "        text-align: right;\n",
       "    }\n",
       "</style>\n",
       "<table border=\"1\" class=\"dataframe\">\n",
       "  <thead>\n",
       "    <tr style=\"text-align: right;\">\n",
       "      <th></th>\n",
       "      <th>BASE_DT</th>\n",
       "      <th>FR_MEMBER</th>\n",
       "      <th>Unnamed: 2</th>\n",
       "      <th>TO_MEMBER</th>\n",
       "      <th>Unnamed: 4</th>\n",
       "      <th>AMOUNT</th>\n",
       "      <th>FR_ACC_NO</th>\n",
       "      <th>TO_ACC_NM</th>\n",
       "      <th>ORIGIN_NM</th>\n",
       "      <th>GCIF_NO</th>\n",
       "      <th>ULT_BEN_ACC</th>\n",
       "      <th>ULT_BEN_NM</th>\n",
       "    </tr>\n",
       "  </thead>\n",
       "  <tbody>\n",
       "    <tr>\n",
       "      <th>0</th>\n",
       "      <td>20221207</td>\n",
       "      <td>IBBKIDJA</td>\n",
       "      <td>BANK BII MAYBANK</td>\n",
       "      <td>MEGAIDJA</td>\n",
       "      <td>BANK MEGA</td>\n",
       "      <td>5.500000e+09</td>\n",
       "      <td>8.132002e+09</td>\n",
       "      <td>PT. BANK MEGA, TBK</td>\n",
       "      <td>000000000000008132001952 - ARDY WARDHIKA      ...</td>\n",
       "      <td>G600512818</td>\n",
       "      <td>1.252E+13</td>\n",
       "      <td>ARDY WARDHIKA or JOVAN CHANDRA ARDY</td>\n",
       "    </tr>\n",
       "    <tr>\n",
       "      <th>1</th>\n",
       "      <td>20221214</td>\n",
       "      <td>IBBKIDJA</td>\n",
       "      <td>BANK BII MAYBANK</td>\n",
       "      <td>SYCAIDJ1</td>\n",
       "      <td>BANK BCA SYARIAH</td>\n",
       "      <td>5.000000e+09</td>\n",
       "      <td>8.132002e+09</td>\n",
       "      <td>PT. BANK BCA SYARIAH</td>\n",
       "      <td>000000000000008132001952 - ARDY WARDHIKA      ...</td>\n",
       "      <td>G600512818</td>\n",
       "      <td>30003017</td>\n",
       "      <td>ARDY WARDHIKA</td>\n",
       "    </tr>\n",
       "    <tr>\n",
       "      <th>2</th>\n",
       "      <td>20221214</td>\n",
       "      <td>IBBKIDJA</td>\n",
       "      <td>BANK BII MAYBANK</td>\n",
       "      <td>MUABIDJA</td>\n",
       "      <td>BANK MUAMALAT</td>\n",
       "      <td>5.000000e+08</td>\n",
       "      <td>8.132002e+09</td>\n",
       "      <td>PT. BANK MUAMALAT INDONESIA, TBK</td>\n",
       "      <td>000000000000008132001952 - ARDY WARDHIKA      ...</td>\n",
       "      <td>G600512818</td>\n",
       "      <td>3300234567</td>\n",
       "      <td>PT. MANDIRI SEKURITAS</td>\n",
       "    </tr>\n",
       "    <tr>\n",
       "      <th>3</th>\n",
       "      <td>20221219</td>\n",
       "      <td>IBBKIDJA</td>\n",
       "      <td>BANK BII MAYBANK</td>\n",
       "      <td>MEGAIDJA</td>\n",
       "      <td>BANK MEGA</td>\n",
       "      <td>2.500000e+09</td>\n",
       "      <td>8.132002e+09</td>\n",
       "      <td>PT. BANK MEGA, TBK</td>\n",
       "      <td>000000000000008132001952 - ARDY WARDHIKA      ...</td>\n",
       "      <td>G600512818</td>\n",
       "      <td>1.252E+13</td>\n",
       "      <td>ARDY WARDHIKA or JOVAN CHANDRA ARDY</td>\n",
       "    </tr>\n",
       "    <tr>\n",
       "      <th>4</th>\n",
       "      <td>20221216</td>\n",
       "      <td>IBBKIDJA</td>\n",
       "      <td>BANK BII MAYBANK</td>\n",
       "      <td>CENAIDJA</td>\n",
       "      <td>BANK BCA</td>\n",
       "      <td>2.000000e+08</td>\n",
       "      <td>1.774005e+09</td>\n",
       "      <td>PT. BANK CENTRAL ASIA, TBK</td>\n",
       "      <td>000000000000001774005275 - SURYA HARTO        ...</td>\n",
       "      <td>G804704039</td>\n",
       "      <td>6090325939</td>\n",
       "      <td>SURYA HARTO DR IR</td>\n",
       "    </tr>\n",
       "    <tr>\n",
       "      <th>...</th>\n",
       "      <td>...</td>\n",
       "      <td>...</td>\n",
       "      <td>...</td>\n",
       "      <td>...</td>\n",
       "      <td>...</td>\n",
       "      <td>...</td>\n",
       "      <td>...</td>\n",
       "      <td>...</td>\n",
       "      <td>...</td>\n",
       "      <td>...</td>\n",
       "      <td>...</td>\n",
       "      <td>...</td>\n",
       "    </tr>\n",
       "    <tr>\n",
       "      <th>9912</th>\n",
       "      <td>20221230</td>\n",
       "      <td>IBBKIDJA</td>\n",
       "      <td>BANK BII MAYBANK</td>\n",
       "      <td>CENAIDJA</td>\n",
       "      <td>BANK BCA</td>\n",
       "      <td>1.110581e+08</td>\n",
       "      <td>2.999990e+09</td>\n",
       "      <td>PT. BANK CENTRAL ASIA, TBK</td>\n",
       "      <td>000000000000002999990030 - PENGANGKUTAN KEKAL ...</td>\n",
       "      <td>NaN</td>\n",
       "      <td>8605999464</td>\n",
       "      <td>PT.MAJA SAMUDERA KIRANA</td>\n",
       "    </tr>\n",
       "    <tr>\n",
       "      <th>9913</th>\n",
       "      <td>20221230</td>\n",
       "      <td>IBBKIDJA</td>\n",
       "      <td>BANK BII MAYBANK</td>\n",
       "      <td>BBIJIDJA</td>\n",
       "      <td>BANK�UOB INDONESIA</td>\n",
       "      <td>1.050129e+08</td>\n",
       "      <td>2.999990e+09</td>\n",
       "      <td>PT. BANK UOB INDONESIA</td>\n",
       "      <td>000000000000002999990030 - MOVING WALLS SDN. B...</td>\n",
       "      <td>NaN</td>\n",
       "      <td>4653004650</td>\n",
       "      <td>MOVING WALLS INDONESIA PT</td>\n",
       "    </tr>\n",
       "    <tr>\n",
       "      <th>9914</th>\n",
       "      <td>20221230</td>\n",
       "      <td>IBBKIDJA</td>\n",
       "      <td>BANK BII MAYBANK</td>\n",
       "      <td>BNINIDJA</td>\n",
       "      <td>BANK BNI</td>\n",
       "      <td>1.075864e+08</td>\n",
       "      <td>2.999990e+09</td>\n",
       "      <td>PT. BANK NEGARA INDONESIA (PERSERO)</td>\n",
       "      <td>000000000000002999990030 - PERUSAHAAN MEKASSAR...</td>\n",
       "      <td>NaN</td>\n",
       "      <td>366554486</td>\n",
       "      <td>PT BINA KRIDATAMA LESTARI</td>\n",
       "    </tr>\n",
       "    <tr>\n",
       "      <th>9915</th>\n",
       "      <td>20221202</td>\n",
       "      <td>IBBKIDJA</td>\n",
       "      <td>BANK BII MAYBANK</td>\n",
       "      <td>CENAIDJA</td>\n",
       "      <td>BANK BCA</td>\n",
       "      <td>1.000000e+09</td>\n",
       "      <td>2.999990e+08</td>\n",
       "      <td>PT. BANK CENTRAL ASIA, TBK</td>\n",
       "      <td>000000000000000299999048 - MAYBANK SALATIGA   ...</td>\n",
       "      <td>NaN</td>\n",
       "      <td>523014000</td>\n",
       "      <td>BCA CABANG PEMUDA SEMARANG</td>\n",
       "    </tr>\n",
       "    <tr>\n",
       "      <th>9916</th>\n",
       "      <td>20221208</td>\n",
       "      <td>IBBKIDJA</td>\n",
       "      <td>BANK BII MAYBANK</td>\n",
       "      <td>INDOIDJA</td>\n",
       "      <td>BANK INDONESIA</td>\n",
       "      <td>8.910000e+08</td>\n",
       "      <td>2.999991e+09</td>\n",
       "      <td>Bank Indonesia</td>\n",
       "      <td>000000000000002999990670 - MAYBANK PALU       ...</td>\n",
       "      <td>NaN</td>\n",
       "      <td>5.60001E+11</td>\n",
       "      <td>REKENING ANTARA SEHUBUNGAN DENGAN</td>\n",
       "    </tr>\n",
       "  </tbody>\n",
       "</table>\n",
       "<p>9917 rows × 12 columns</p>\n",
       "</div>"
      ],
      "text/plain": [
       "       BASE_DT FR_MEMBER        Unnamed: 2 TO_MEMBER          Unnamed: 4  \\\n",
       "0     20221207  IBBKIDJA  BANK BII MAYBANK  MEGAIDJA           BANK MEGA   \n",
       "1     20221214  IBBKIDJA  BANK BII MAYBANK  SYCAIDJ1    BANK BCA SYARIAH   \n",
       "2     20221214  IBBKIDJA  BANK BII MAYBANK  MUABIDJA       BANK MUAMALAT   \n",
       "3     20221219  IBBKIDJA  BANK BII MAYBANK  MEGAIDJA           BANK MEGA   \n",
       "4     20221216  IBBKIDJA  BANK BII MAYBANK  CENAIDJA            BANK BCA   \n",
       "...        ...       ...               ...       ...                 ...   \n",
       "9912  20221230  IBBKIDJA  BANK BII MAYBANK  CENAIDJA            BANK BCA   \n",
       "9913  20221230  IBBKIDJA  BANK BII MAYBANK  BBIJIDJA  BANK�UOB INDONESIA   \n",
       "9914  20221230  IBBKIDJA  BANK BII MAYBANK  BNINIDJA            BANK BNI   \n",
       "9915  20221202  IBBKIDJA  BANK BII MAYBANK  CENAIDJA            BANK BCA   \n",
       "9916  20221208  IBBKIDJA  BANK BII MAYBANK  INDOIDJA      BANK INDONESIA   \n",
       "\n",
       "            AMOUNT     FR_ACC_NO                            TO_ACC_NM  \\\n",
       "0     5.500000e+09  8.132002e+09                   PT. BANK MEGA, TBK   \n",
       "1     5.000000e+09  8.132002e+09                 PT. BANK BCA SYARIAH   \n",
       "2     5.000000e+08  8.132002e+09     PT. BANK MUAMALAT INDONESIA, TBK   \n",
       "3     2.500000e+09  8.132002e+09                   PT. BANK MEGA, TBK   \n",
       "4     2.000000e+08  1.774005e+09           PT. BANK CENTRAL ASIA, TBK   \n",
       "...            ...           ...                                  ...   \n",
       "9912  1.110581e+08  2.999990e+09           PT. BANK CENTRAL ASIA, TBK   \n",
       "9913  1.050129e+08  2.999990e+09               PT. BANK UOB INDONESIA   \n",
       "9914  1.075864e+08  2.999990e+09  PT. BANK NEGARA INDONESIA (PERSERO)   \n",
       "9915  1.000000e+09  2.999990e+08           PT. BANK CENTRAL ASIA, TBK   \n",
       "9916  8.910000e+08  2.999991e+09                       Bank Indonesia   \n",
       "\n",
       "                                              ORIGIN_NM     GCIF_NO  \\\n",
       "0     000000000000008132001952 - ARDY WARDHIKA      ...  G600512818   \n",
       "1     000000000000008132001952 - ARDY WARDHIKA      ...  G600512818   \n",
       "2     000000000000008132001952 - ARDY WARDHIKA      ...  G600512818   \n",
       "3     000000000000008132001952 - ARDY WARDHIKA      ...  G600512818   \n",
       "4     000000000000001774005275 - SURYA HARTO        ...  G804704039   \n",
       "...                                                 ...         ...   \n",
       "9912  000000000000002999990030 - PENGANGKUTAN KEKAL ...         NaN   \n",
       "9913  000000000000002999990030 - MOVING WALLS SDN. B...         NaN   \n",
       "9914  000000000000002999990030 - PERUSAHAAN MEKASSAR...         NaN   \n",
       "9915  000000000000000299999048 - MAYBANK SALATIGA   ...         NaN   \n",
       "9916  000000000000002999990670 - MAYBANK PALU       ...         NaN   \n",
       "\n",
       "      ULT_BEN_ACC                           ULT_BEN_NM  \n",
       "0       1.252E+13  ARDY WARDHIKA or JOVAN CHANDRA ARDY  \n",
       "1        30003017                        ARDY WARDHIKA  \n",
       "2      3300234567                PT. MANDIRI SEKURITAS  \n",
       "3       1.252E+13  ARDY WARDHIKA or JOVAN CHANDRA ARDY  \n",
       "4      6090325939                    SURYA HARTO DR IR  \n",
       "...           ...                                  ...  \n",
       "9912   8605999464              PT.MAJA SAMUDERA KIRANA  \n",
       "9913   4653004650            MOVING WALLS INDONESIA PT  \n",
       "9914    366554486            PT BINA KRIDATAMA LESTARI  \n",
       "9915    523014000           BCA CABANG PEMUDA SEMARANG  \n",
       "9916  5.60001E+11    REKENING ANTARA SEHUBUNGAN DENGAN  \n",
       "\n",
       "[9917 rows x 12 columns]"
      ]
     },
     "execution_count": 29,
     "metadata": {},
     "output_type": "execute_result"
    }
   ],
   "source": [
    "ortgs"
   ]
  },
  {
   "cell_type": "code",
   "execution_count": 30,
   "metadata": {},
   "outputs": [
    {
     "name": "stdout",
     "output_type": "stream",
     "text": [
      "<class 'pandas.core.frame.DataFrame'>\n",
      "RangeIndex: 9917 entries, 0 to 9916\n",
      "Data columns (total 12 columns):\n",
      " #   Column       Non-Null Count  Dtype  \n",
      "---  ------       --------------  -----  \n",
      " 0   BASE_DT      9917 non-null   int64  \n",
      " 1   FR_MEMBER    9917 non-null   object \n",
      " 2   Unnamed: 2   9917 non-null   object \n",
      " 3   TO_MEMBER    9917 non-null   object \n",
      " 4   Unnamed: 4   9917 non-null   object \n",
      " 5   AMOUNT       9917 non-null   float64\n",
      " 6   FR_ACC_NO    9917 non-null   float64\n",
      " 7   TO_ACC_NM    9917 non-null   object \n",
      " 8   ORIGIN_NM    9917 non-null   object \n",
      " 9   GCIF_NO      7955 non-null   object \n",
      " 10  ULT_BEN_ACC  9286 non-null   object \n",
      " 11  ULT_BEN_NM   9309 non-null   object \n",
      "dtypes: float64(2), int64(1), object(9)\n",
      "memory usage: 929.8+ KB\n"
     ]
    }
   ],
   "source": [
    "ortgs.info()"
   ]
  },
  {
   "cell_type": "code",
   "execution_count": null,
   "metadata": {},
   "outputs": [],
   "source": [
    "# show duplicated rows\n",
    "ortgs[ortgs.duplicated(keep=False)]"
   ]
  },
  {
   "cell_type": "code",
   "execution_count": 32,
   "metadata": {},
   "outputs": [
    {
     "name": "stderr",
     "output_type": "stream",
     "text": [
      "<ipython-input-32-ee2a4c7c9f8f>:3: SettingWithCopyWarning: \n",
      "A value is trying to be set on a copy of a slice from a DataFrame\n",
      "\n",
      "See the caveats in the documentation: https://pandas.pydata.org/pandas-docs/stable/user_guide/indexing.html#returning-a-view-versus-a-copy\n",
      "  ortgs.drop_duplicates(inplace=True)\n"
     ]
    }
   ],
   "source": [
    "# drop duplicates and null GCIF\n",
    "ortgs = ortgs[~ortgs['GCIF_NO'].isnull()]\n",
    "ortgs.drop_duplicates(inplace=True)"
   ]
  },
  {
   "cell_type": "code",
   "execution_count": 33,
   "metadata": {},
   "outputs": [
    {
     "name": "stderr",
     "output_type": "stream",
     "text": [
      "c:\\Users\\MR38804\\Anaconda3\\lib\\site-packages\\pandas\\core\\frame.py:4308: SettingWithCopyWarning: \n",
      "A value is trying to be set on a copy of a slice from a DataFrame\n",
      "\n",
      "See the caveats in the documentation: https://pandas.pydata.org/pandas-docs/stable/user_guide/indexing.html#returning-a-view-versus-a-copy\n",
      "  return super().drop(\n"
     ]
    }
   ],
   "source": [
    "# modify/comment out as necessary\n",
    "ortgs.drop(columns=['Unnamed: 2', 'Unnamed: 4'], inplace=True)"
   ]
  },
  {
   "cell_type": "code",
   "execution_count": null,
   "metadata": {},
   "outputs": [],
   "source": [
    "ortgs"
   ]
  },
  {
   "cell_type": "code",
   "execution_count": 35,
   "metadata": {},
   "outputs": [
    {
     "data": {
      "text/plain": [
       "Index(['BASE_DT', 'FR_MEMBER', 'TO_MEMBER', 'AMOUNT', 'FR_ACC_NO', 'TO_ACC_NM',\n",
       "       'ORIGIN_NM', 'GCIF_NO', 'ULT_BEN_ACC', 'ULT_BEN_NM'],\n",
       "      dtype='object')"
      ]
     },
     "execution_count": 35,
     "metadata": {},
     "output_type": "execute_result"
    }
   ],
   "source": [
    "ortgs.columns"
   ]
  },
  {
   "cell_type": "code",
   "execution_count": 36,
   "metadata": {},
   "outputs": [
    {
     "name": "stderr",
     "output_type": "stream",
     "text": [
      "<ipython-input-36-966c475eefdc>:2: SettingWithCopyWarning: \n",
      "A value is trying to be set on a copy of a slice from a DataFrame.\n",
      "Try using .loc[row_indexer,col_indexer] = value instead\n",
      "\n",
      "See the caveats in the documentation: https://pandas.pydata.org/pandas-docs/stable/user_guide/indexing.html#returning-a-view-versus-a-copy\n",
      "  ortgs['FR_BK'] = 'BANK BII MAYBANK'\n"
     ]
    }
   ],
   "source": [
    "# add source bank\n",
    "ortgs['FR_BK'] = 'BANK BII MAYBANK'"
   ]
  },
  {
   "cell_type": "code",
   "execution_count": 37,
   "metadata": {},
   "outputs": [],
   "source": [
    "# merge to obtain bank name\n",
    "ortgsBK = pd.merge(ortgs, BKCDBIC, left_on=['TO_MEMBER'], right_on=['BIC'], how='left')"
   ]
  },
  {
   "cell_type": "code",
   "execution_count": null,
   "metadata": {},
   "outputs": [],
   "source": [
    "ortgsBK"
   ]
  },
  {
   "cell_type": "code",
   "execution_count": 39,
   "metadata": {},
   "outputs": [],
   "source": [
    "# merge to obtain NR only\n",
    "ortgsFinal = pd.merge(ortgsBK, nrCust, left_on = ['GCIF_NO'], right_on=['GCIF_NO'], how='left')"
   ]
  },
  {
   "cell_type": "code",
   "execution_count": null,
   "metadata": {},
   "outputs": [],
   "source": [
    "ortgsFinal"
   ]
  },
  {
   "cell_type": "code",
   "execution_count": null,
   "metadata": {},
   "outputs": [],
   "source": [
    "ortgsFinal = ortgsFinal[ortgsFinal['CUST_NAME'].notna()]\n",
    "ortgsFinal"
   ]
  },
  {
   "cell_type": "code",
   "execution_count": 42,
   "metadata": {},
   "outputs": [
    {
     "data": {
      "text/plain": [
       "Index(['BASE_DT', 'FR_MEMBER', 'TO_MEMBER', 'AMOUNT', 'FR_ACC_NO', 'TO_ACC_NM',\n",
       "       'ORIGIN_NM', 'GCIF_NO', 'ULT_BEN_ACC', 'ULT_BEN_NM', 'FR_BK', 'BIC',\n",
       "       'BANK NAME', 'CUST_NAME', 'LoB', 'REGION'],\n",
       "      dtype='object')"
      ]
     },
     "execution_count": 42,
     "metadata": {},
     "output_type": "execute_result"
    }
   ],
   "source": [
    "ortgsFinal.columns"
   ]
  },
  {
   "cell_type": "code",
   "execution_count": 43,
   "metadata": {},
   "outputs": [],
   "source": [
    "# rename columns\n",
    "ortgsFinal.columns = ['BASE DATE', 'FR_MEMBER', 'TO_MEMBER', 'AMT', 'FR_ACC_NO', 'TO_ACC_NM',\n",
    "       'ORIGIN_NM', 'GCIF', 'ULT_BEN_ACC', 'SENDER/RECIPIENT NAME', 'FR_BK', 'BIC',\n",
    "       'SENDER/RECIPIENT BANK', 'CUST NAME', 'LOB', 'REGION']"
   ]
  },
  {
   "cell_type": "code",
   "execution_count": 44,
   "metadata": {},
   "outputs": [
    {
     "name": "stderr",
     "output_type": "stream",
     "text": [
      "<ipython-input-44-4db2db1325b4>:2: SettingWithCopyWarning: \n",
      "A value is trying to be set on a copy of a slice from a DataFrame.\n",
      "Try using .loc[row_indexer,col_indexer] = value instead\n",
      "\n",
      "See the caveats in the documentation: https://pandas.pydata.org/pandas-docs/stable/user_guide/indexing.html#returning-a-view-versus-a-copy\n",
      "  ortgsFinal['TYPE'] = 'OUTGOING'\n",
      "<ipython-input-44-4db2db1325b4>:3: SettingWithCopyWarning: \n",
      "A value is trying to be set on a copy of a slice from a DataFrame.\n",
      "Try using .loc[row_indexer,col_indexer] = value instead\n",
      "\n",
      "See the caveats in the documentation: https://pandas.pydata.org/pandas-docs/stable/user_guide/indexing.html#returning-a-view-versus-a-copy\n",
      "  ortgsFinal['CHANNEL'] = 'RTGS'\n"
     ]
    }
   ],
   "source": [
    "# add transaction type and channel\n",
    "ortgsFinal['TYPE'] = 'OUTGOING'\n",
    "ortgsFinal['CHANNEL'] = 'RTGS'"
   ]
  },
  {
   "cell_type": "code",
   "execution_count": 45,
   "metadata": {},
   "outputs": [],
   "source": [
    "# save only relevant columns\n",
    "ortgsFinal = ortgsFinal[['BASE DATE', 'GCIF', 'CUST NAME', 'LOB', 'SENDER/RECIPIENT NAME', \n",
    "'SENDER/RECIPIENT BANK', 'REGION', 'AMT', 'TYPE', 'CHANNEL']]"
   ]
  },
  {
   "cell_type": "code",
   "execution_count": null,
   "metadata": {},
   "outputs": [],
   "source": [
    "ortgsFinal"
   ]
  },
  {
   "cell_type": "markdown",
   "metadata": {},
   "source": [
    "# IRTGS"
   ]
  },
  {
   "cell_type": "code",
   "execution_count": 47,
   "metadata": {},
   "outputs": [],
   "source": [
    "# read irtgs raw\n",
    "irtgs = pd.read_csv(r\"C:\\Users\\MR38804\\Documents\\EDW Transac\\IRTGS\\IRTGS_2212.txt\", sep='\\t', dtype={'ULT_BEN_ACC':'str'})\n",
    "irtgs['ULT_BEN_ACC'] = irtgs['ULT_BEN_ACC'].str.zfill(24)"
   ]
  },
  {
   "cell_type": "code",
   "execution_count": 48,
   "metadata": {},
   "outputs": [
    {
     "name": "stdout",
     "output_type": "stream",
     "text": [
      "<class 'pandas.core.frame.DataFrame'>\n",
      "RangeIndex: 12196 entries, 0 to 12195\n",
      "Data columns (total 38 columns):\n",
      " #   Column       Non-Null Count  Dtype  \n",
      "---  ------       --------------  -----  \n",
      " 0   BASE_DT      12196 non-null  int64  \n",
      " 1   REC_TYPE     12196 non-null  int64  \n",
      " 2   TRAN_CODE    12196 non-null  int64  \n",
      " 3   BOR          12196 non-null  int64  \n",
      " 4   URN_INFO     12196 non-null  int64  \n",
      " 5   ERR_FLAG     12196 non-null  int64  \n",
      " 6   OSN          12196 non-null  int64  \n",
      " 7   FR_MEMBER    12196 non-null  object \n",
      " 8   TO_MEMBER    12196 non-null  object \n",
      " 9   REC_BK_BR    0 non-null      float64\n",
      " 10  TRN          12196 non-null  object \n",
      " 11  REL_TRN      12196 non-null  object \n",
      " 12  AMOUNT       12196 non-null  float64\n",
      " 13  VAL_DATE     12196 non-null  int64  \n",
      " 14  SENDER_REF   0 non-null      float64\n",
      " 15  REC_REF      0 non-null      float64\n",
      " 16  DEAL_CODE    0 non-null      float64\n",
      " 17  FR_ACC_NO    12187 non-null  float64\n",
      " 18  FR_ACC_NM    12196 non-null  object \n",
      " 19  TO_ACC_NO    12107 non-null  float64\n",
      " 20  TO_ACC_NM    12196 non-null  object \n",
      " 21  PAY_DET      10950 non-null  object \n",
      " 22  MEMBER_INFO  10721 non-null  object \n",
      " 23  ORIGIN_NM    12196 non-null  object \n",
      " 24  ULT_BEN_ACC  10812 non-null  object \n",
      " 25  ULT_BEN_NM   10887 non-null  object \n",
      " 26  ULT_BEN_BL   6279 non-null   object \n",
      " 27  CUR          12196 non-null  object \n",
      " 28  EXC_RT       12196 non-null  int64  \n",
      " 29  EXC_RT_DEC   12196 non-null  int64  \n",
      " 30  INT_RT       12196 non-null  int64  \n",
      " 31  INT_RT_DEC   12196 non-null  int64  \n",
      " 32  PERIOD       0 non-null      float64\n",
      " 33  KODE_CABANG  0 non-null      float64\n",
      " 34  NAS          0 non-null      float64\n",
      " 35  REF          0 non-null      float64\n",
      " 36  CONFIRM      0 non-null      float64\n",
      " 37  ORG_PRC_DT   12196 non-null  int64  \n",
      "dtypes: float64(12), int64(13), object(13)\n",
      "memory usage: 3.5+ MB\n"
     ]
    }
   ],
   "source": [
    "irtgs.info()"
   ]
  },
  {
   "cell_type": "code",
   "execution_count": 49,
   "metadata": {},
   "outputs": [],
   "source": [
    "# extract origin acc\n",
    "irtgs['ORIGIN_ACC'] = irtgs['ORIGIN_NM'].str.extract('(\\d*)\\s+-')"
   ]
  },
  {
   "cell_type": "code",
   "execution_count": 50,
   "metadata": {},
   "outputs": [],
   "source": [
    "# extract origin name\n",
    "irtgs['ORIGIN_NAME'] = irtgs['ORIGIN_NM'].str.extract('-\\s(\\D*\\S*)')"
   ]
  },
  {
   "cell_type": "code",
   "execution_count": 51,
   "metadata": {},
   "outputs": [],
   "source": [
    "# cleanse origin name\n",
    "irtgs['ORIGIN_NAME'] = irtgs['ORIGIN_NAME'].str[:35]\n",
    "irtgs['ORIGIN_NAME'] = irtgs['ORIGIN_NAME'].str.rstrip()"
   ]
  },
  {
   "cell_type": "code",
   "execution_count": 52,
   "metadata": {},
   "outputs": [],
   "source": [
    "irtgs['FR_MEMBER'] = irtgs['FR_MEMBER'].str.rstrip()"
   ]
  },
  {
   "cell_type": "code",
   "execution_count": 53,
   "metadata": {},
   "outputs": [
    {
     "data": {
      "text/html": [
       "<div>\n",
       "<style scoped>\n",
       "    .dataframe tbody tr th:only-of-type {\n",
       "        vertical-align: middle;\n",
       "    }\n",
       "\n",
       "    .dataframe tbody tr th {\n",
       "        vertical-align: top;\n",
       "    }\n",
       "\n",
       "    .dataframe thead th {\n",
       "        text-align: right;\n",
       "    }\n",
       "</style>\n",
       "<table border=\"1\" class=\"dataframe\">\n",
       "  <thead>\n",
       "    <tr style=\"text-align: right;\">\n",
       "      <th></th>\n",
       "      <th>BASE_DT</th>\n",
       "      <th>REC_TYPE</th>\n",
       "      <th>TRAN_CODE</th>\n",
       "      <th>BOR</th>\n",
       "      <th>URN_INFO</th>\n",
       "      <th>ERR_FLAG</th>\n",
       "      <th>OSN</th>\n",
       "      <th>FR_MEMBER</th>\n",
       "      <th>TO_MEMBER</th>\n",
       "      <th>REC_BK_BR</th>\n",
       "      <th>...</th>\n",
       "      <th>INT_RT</th>\n",
       "      <th>INT_RT_DEC</th>\n",
       "      <th>PERIOD</th>\n",
       "      <th>KODE_CABANG</th>\n",
       "      <th>NAS</th>\n",
       "      <th>REF</th>\n",
       "      <th>CONFIRM</th>\n",
       "      <th>ORG_PRC_DT</th>\n",
       "      <th>ORIGIN_ACC</th>\n",
       "      <th>ORIGIN_NAME</th>\n",
       "    </tr>\n",
       "  </thead>\n",
       "  <tbody>\n",
       "  </tbody>\n",
       "</table>\n",
       "<p>0 rows × 40 columns</p>\n",
       "</div>"
      ],
      "text/plain": [
       "Empty DataFrame\n",
       "Columns: [BASE_DT, REC_TYPE, TRAN_CODE, BOR, URN_INFO, ERR_FLAG, OSN, FR_MEMBER, TO_MEMBER, REC_BK_BR, TRN, REL_TRN, AMOUNT, VAL_DATE, SENDER_REF, REC_REF, DEAL_CODE, FR_ACC_NO, FR_ACC_NM, TO_ACC_NO, TO_ACC_NM, PAY_DET, MEMBER_INFO, ORIGIN_NM, ULT_BEN_ACC, ULT_BEN_NM, ULT_BEN_BL, CUR, EXC_RT, EXC_RT_DEC, INT_RT, INT_RT_DEC, PERIOD, KODE_CABANG, NAS, REF, CONFIRM, ORG_PRC_DT, ORIGIN_ACC, ORIGIN_NAME]\n",
       "Index: []\n",
       "\n",
       "[0 rows x 40 columns]"
      ]
     },
     "execution_count": 53,
     "metadata": {},
     "output_type": "execute_result"
    }
   ],
   "source": [
    "irtgs[irtgs.duplicated()]"
   ]
  },
  {
   "cell_type": "code",
   "execution_count": 54,
   "metadata": {},
   "outputs": [],
   "source": [
    "# merge to obtain bank name\n",
    "irtgsBK = pd.merge(irtgs, BKCDBIC, left_on=['FR_MEMBER'], right_on=['BIC'], how='left')"
   ]
  },
  {
   "cell_type": "code",
   "execution_count": null,
   "metadata": {},
   "outputs": [],
   "source": [
    "irtgsBK"
   ]
  },
  {
   "cell_type": "code",
   "execution_count": 56,
   "metadata": {},
   "outputs": [
    {
     "name": "stdout",
     "output_type": "stream",
     "text": [
      "<class 'pandas.core.frame.DataFrame'>\n",
      "Int64Index: 12196 entries, 0 to 12195\n",
      "Data columns (total 42 columns):\n",
      " #   Column       Non-Null Count  Dtype  \n",
      "---  ------       --------------  -----  \n",
      " 0   BASE_DT      12196 non-null  int64  \n",
      " 1   REC_TYPE     12196 non-null  int64  \n",
      " 2   TRAN_CODE    12196 non-null  int64  \n",
      " 3   BOR          12196 non-null  int64  \n",
      " 4   URN_INFO     12196 non-null  int64  \n",
      " 5   ERR_FLAG     12196 non-null  int64  \n",
      " 6   OSN          12196 non-null  int64  \n",
      " 7   FR_MEMBER    12196 non-null  object \n",
      " 8   TO_MEMBER    12196 non-null  object \n",
      " 9   REC_BK_BR    0 non-null      float64\n",
      " 10  TRN          12196 non-null  object \n",
      " 11  REL_TRN      12196 non-null  object \n",
      " 12  AMOUNT       12196 non-null  float64\n",
      " 13  VAL_DATE     12196 non-null  int64  \n",
      " 14  SENDER_REF   0 non-null      float64\n",
      " 15  REC_REF      0 non-null      float64\n",
      " 16  DEAL_CODE    0 non-null      float64\n",
      " 17  FR_ACC_NO    12187 non-null  float64\n",
      " 18  FR_ACC_NM    12196 non-null  object \n",
      " 19  TO_ACC_NO    12107 non-null  float64\n",
      " 20  TO_ACC_NM    12196 non-null  object \n",
      " 21  PAY_DET      10950 non-null  object \n",
      " 22  MEMBER_INFO  10721 non-null  object \n",
      " 23  ORIGIN_NM    12196 non-null  object \n",
      " 24  ULT_BEN_ACC  10812 non-null  object \n",
      " 25  ULT_BEN_NM   10887 non-null  object \n",
      " 26  ULT_BEN_BL   6279 non-null   object \n",
      " 27  CUR          12196 non-null  object \n",
      " 28  EXC_RT       12196 non-null  int64  \n",
      " 29  EXC_RT_DEC   12196 non-null  int64  \n",
      " 30  INT_RT       12196 non-null  int64  \n",
      " 31  INT_RT_DEC   12196 non-null  int64  \n",
      " 32  PERIOD       0 non-null      float64\n",
      " 33  KODE_CABANG  0 non-null      float64\n",
      " 34  NAS          0 non-null      float64\n",
      " 35  REF          0 non-null      float64\n",
      " 36  CONFIRM      0 non-null      float64\n",
      " 37  ORG_PRC_DT   12196 non-null  int64  \n",
      " 38  ORIGIN_ACC   10525 non-null  object \n",
      " 39  ORIGIN_NAME  10820 non-null  object \n",
      " 40  BIC          12196 non-null  object \n",
      " 41  BANK NAME    12196 non-null  object \n",
      "dtypes: float64(12), int64(13), object(17)\n",
      "memory usage: 4.0+ MB\n"
     ]
    }
   ],
   "source": [
    "# check if there is any NA in bank name or not\n",
    "irtgsBK.info()"
   ]
  },
  {
   "cell_type": "code",
   "execution_count": 57,
   "metadata": {},
   "outputs": [],
   "source": [
    "# join acct no to obtain cust info\n",
    "irtgsFinal = pd.merge(irtgsBK, acctNR, left_on = ['ULT_BEN_ACC'], right_on=['ACCT'], how='left')"
   ]
  },
  {
   "cell_type": "code",
   "execution_count": 58,
   "metadata": {},
   "outputs": [
    {
     "name": "stdout",
     "output_type": "stream",
     "text": [
      "<class 'pandas.core.frame.DataFrame'>\n",
      "Int64Index: 12196 entries, 0 to 12195\n",
      "Data columns (total 47 columns):\n",
      " #   Column       Non-Null Count  Dtype  \n",
      "---  ------       --------------  -----  \n",
      " 0   BASE_DT      12196 non-null  int64  \n",
      " 1   REC_TYPE     12196 non-null  int64  \n",
      " 2   TRAN_CODE    12196 non-null  int64  \n",
      " 3   BOR          12196 non-null  int64  \n",
      " 4   URN_INFO     12196 non-null  int64  \n",
      " 5   ERR_FLAG     12196 non-null  int64  \n",
      " 6   OSN          12196 non-null  int64  \n",
      " 7   FR_MEMBER    12196 non-null  object \n",
      " 8   TO_MEMBER    12196 non-null  object \n",
      " 9   REC_BK_BR    0 non-null      float64\n",
      " 10  TRN          12196 non-null  object \n",
      " 11  REL_TRN      12196 non-null  object \n",
      " 12  AMOUNT       12196 non-null  float64\n",
      " 13  VAL_DATE     12196 non-null  int64  \n",
      " 14  SENDER_REF   0 non-null      float64\n",
      " 15  REC_REF      0 non-null      float64\n",
      " 16  DEAL_CODE    0 non-null      float64\n",
      " 17  FR_ACC_NO    12187 non-null  float64\n",
      " 18  FR_ACC_NM    12196 non-null  object \n",
      " 19  TO_ACC_NO    12107 non-null  float64\n",
      " 20  TO_ACC_NM    12196 non-null  object \n",
      " 21  PAY_DET      10950 non-null  object \n",
      " 22  MEMBER_INFO  10721 non-null  object \n",
      " 23  ORIGIN_NM    12196 non-null  object \n",
      " 24  ULT_BEN_ACC  10812 non-null  object \n",
      " 25  ULT_BEN_NM   10887 non-null  object \n",
      " 26  ULT_BEN_BL   6279 non-null   object \n",
      " 27  CUR          12196 non-null  object \n",
      " 28  EXC_RT       12196 non-null  int64  \n",
      " 29  EXC_RT_DEC   12196 non-null  int64  \n",
      " 30  INT_RT       12196 non-null  int64  \n",
      " 31  INT_RT_DEC   12196 non-null  int64  \n",
      " 32  PERIOD       0 non-null      float64\n",
      " 33  KODE_CABANG  0 non-null      float64\n",
      " 34  NAS          0 non-null      float64\n",
      " 35  REF          0 non-null      float64\n",
      " 36  CONFIRM      0 non-null      float64\n",
      " 37  ORG_PRC_DT   12196 non-null  int64  \n",
      " 38  ORIGIN_ACC   10525 non-null  object \n",
      " 39  ORIGIN_NAME  10820 non-null  object \n",
      " 40  BIC          12196 non-null  object \n",
      " 41  BANK NAME    12196 non-null  object \n",
      " 42  ACCT         8808 non-null   object \n",
      " 43  GCIF_NO      8808 non-null   object \n",
      " 44  CUST_NAME    8808 non-null   object \n",
      " 45  LoB          8808 non-null   object \n",
      " 46  REGION       7420 non-null   object \n",
      "dtypes: float64(12), int64(13), object(22)\n",
      "memory usage: 4.5+ MB\n"
     ]
    }
   ],
   "source": [
    "irtgsFinal.info()"
   ]
  },
  {
   "cell_type": "code",
   "execution_count": 59,
   "metadata": {},
   "outputs": [],
   "source": [
    "# nr only\n",
    "irtgsFinal= irtgsFinal[irtgsFinal['GCIF_NO'].notnull()]"
   ]
  },
  {
   "cell_type": "code",
   "execution_count": 60,
   "metadata": {},
   "outputs": [
    {
     "data": {
      "text/plain": [
       "Index(['BASE_DT', 'REC_TYPE', 'TRAN_CODE', 'BOR', 'URN_INFO', 'ERR_FLAG',\n",
       "       'OSN', 'FR_MEMBER', 'TO_MEMBER', 'REC_BK_BR', 'TRN', 'REL_TRN',\n",
       "       'AMOUNT', 'VAL_DATE', 'SENDER_REF', 'REC_REF', 'DEAL_CODE', 'FR_ACC_NO',\n",
       "       'FR_ACC_NM', 'TO_ACC_NO', 'TO_ACC_NM', 'PAY_DET', 'MEMBER_INFO',\n",
       "       'ORIGIN_NM', 'ULT_BEN_ACC', 'ULT_BEN_NM', 'ULT_BEN_BL', 'CUR', 'EXC_RT',\n",
       "       'EXC_RT_DEC', 'INT_RT', 'INT_RT_DEC', 'PERIOD', 'KODE_CABANG', 'NAS',\n",
       "       'REF', 'CONFIRM', 'ORG_PRC_DT', 'ORIGIN_ACC', 'ORIGIN_NAME', 'BIC',\n",
       "       'BANK NAME', 'ACCT', 'GCIF_NO', 'CUST_NAME', 'LoB', 'REGION'],\n",
       "      dtype='object')"
      ]
     },
     "execution_count": 60,
     "metadata": {},
     "output_type": "execute_result"
    }
   ],
   "source": [
    "irtgsFinal.columns"
   ]
  },
  {
   "cell_type": "code",
   "execution_count": 61,
   "metadata": {},
   "outputs": [],
   "source": [
    "# only take columns as needed\n",
    "irtgsFinal = irtgsFinal[['BASE_DT', 'GCIF_NO', 'CUST_NAME', 'LoB', 'ORIGIN_NAME', 'BANK NAME', 'REGION', 'AMOUNT']]"
   ]
  },
  {
   "cell_type": "code",
   "execution_count": 62,
   "metadata": {},
   "outputs": [],
   "source": [
    "# add type and channel of transactions\n",
    "irtgsFinal['TYPE'] = 'INCOMING'\n",
    "irtgsFinal['CHANNEL'] = 'RTGS'"
   ]
  },
  {
   "cell_type": "code",
   "execution_count": 63,
   "metadata": {},
   "outputs": [],
   "source": [
    "# finalize columns\n",
    "irtgsFinal.columns = ['BASE DATE', 'GCIF', 'CUST NAME', 'LOB', 'SENDER/RECIPIENT NAME', \n",
    "'SENDER/RECIPIENT BANK', 'REGION', 'AMT', 'TYPE', 'CHANNEL']"
   ]
  },
  {
   "cell_type": "code",
   "execution_count": null,
   "metadata": {},
   "outputs": [],
   "source": [
    "irtgsFinal"
   ]
  },
  {
   "cell_type": "markdown",
   "metadata": {},
   "source": [
    "# OSKN"
   ]
  },
  {
   "cell_type": "code",
   "execution_count": 65,
   "metadata": {},
   "outputs": [],
   "source": [
    "# read skn data from source table\n",
    "osknSource1 = pd.read_excel(r\"C:\\Users\\MR38804\\Documents\\EDW Transac\\OSKN\\Dec'22\\2022 SUM_STSRTEFTD.xls\", sheet_name=\"Sheet 1\", usecols=['BASE_DT', 'REC_TP', 'REFF_NUM_TP', 'ACCT_SEND_NO'], dtype={'ACCT_SEND_NO':'object'})\n",
    "osknSource2 = pd.read_excel(r\"C:\\Users\\MR38804\\Documents\\EDW Transac\\OSKN\\Dec'22\\2022 SUM_STSRTEFTD.xls\", sheet_name=\"Sheet 2\", usecols=['BASE_DT', 'REC_TP', 'REFF_NUM_TP', 'ACCT_SEND_NO'], dtype={'ACCT_SEND_NO':'object'})"
   ]
  },
  {
   "cell_type": "code",
   "execution_count": 66,
   "metadata": {},
   "outputs": [],
   "source": [
    "# append data from 2 sheets\n",
    "osknSource = osknSource1.append(osknSource2)"
   ]
  },
  {
   "cell_type": "code",
   "execution_count": 67,
   "metadata": {},
   "outputs": [
    {
     "name": "stdout",
     "output_type": "stream",
     "text": [
      "<class 'pandas.core.frame.DataFrame'>\n",
      "Int64Index: 122629 entries, 0 to 57629\n",
      "Data columns (total 4 columns):\n",
      " #   Column        Non-Null Count   Dtype \n",
      "---  ------        --------------   ----- \n",
      " 0   BASE_DT       122629 non-null  int64 \n",
      " 1   REC_TP        122629 non-null  object\n",
      " 2   REFF_NUM_TP   122629 non-null  object\n",
      " 3   ACCT_SEND_NO  108748 non-null  object\n",
      "dtypes: int64(1), object(3)\n",
      "memory usage: 4.7+ MB\n"
     ]
    }
   ],
   "source": [
    "osknSource.info()"
   ]
  },
  {
   "cell_type": "code",
   "execution_count": 68,
   "metadata": {},
   "outputs": [],
   "source": [
    "# filter for skn only (exclude RTGS)\n",
    "osknSource = osknSource[osknSource['REC_TP']=='L ']"
   ]
  },
  {
   "cell_type": "code",
   "execution_count": 69,
   "metadata": {},
   "outputs": [
    {
     "data": {
      "text/html": [
       "<div>\n",
       "<style scoped>\n",
       "    .dataframe tbody tr th:only-of-type {\n",
       "        vertical-align: middle;\n",
       "    }\n",
       "\n",
       "    .dataframe tbody tr th {\n",
       "        vertical-align: top;\n",
       "    }\n",
       "\n",
       "    .dataframe thead th {\n",
       "        text-align: right;\n",
       "    }\n",
       "</style>\n",
       "<table border=\"1\" class=\"dataframe\">\n",
       "  <thead>\n",
       "    <tr style=\"text-align: right;\">\n",
       "      <th></th>\n",
       "      <th>BASE_DT</th>\n",
       "      <th>REC_TP</th>\n",
       "      <th>REFF_NUM_TP</th>\n",
       "      <th>ACCT_SEND_NO</th>\n",
       "    </tr>\n",
       "  </thead>\n",
       "  <tbody>\n",
       "  </tbody>\n",
       "</table>\n",
       "</div>"
      ],
      "text/plain": [
       "Empty DataFrame\n",
       "Columns: [BASE_DT, REC_TP, REFF_NUM_TP, ACCT_SEND_NO]\n",
       "Index: []"
      ]
     },
     "execution_count": 69,
     "metadata": {},
     "output_type": "execute_result"
    }
   ],
   "source": [
    "# check for duplicates\n",
    "osknSource[osknSource.duplicated(keep=False)]"
   ]
  },
  {
   "cell_type": "code",
   "execution_count": null,
   "metadata": {},
   "outputs": [],
   "source": [
    "osknSource"
   ]
  },
  {
   "cell_type": "code",
   "execution_count": 71,
   "metadata": {},
   "outputs": [],
   "source": [
    "# change acct send no type to string\n",
    "osknSource['ACCT_SEND_NO'] = osknSource['ACCT_SEND_NO'].astype(str)\n",
    "# osknSource['ACCT_SEND_NO'] = osknSource['ACCT_SEND_NO'].str[-14:]"
   ]
  },
  {
   "cell_type": "code",
   "execution_count": 72,
   "metadata": {},
   "outputs": [],
   "source": [
    "# read skn from edwb\n",
    "osknEDWB = pd.read_csv(r\"C:\\Users\\MR38804\\Documents\\EDW Transac\\OSKN\\Dec'22\\TRXEFACMM 2212.csv\", sep='|')"
   ]
  },
  {
   "cell_type": "code",
   "execution_count": 73,
   "metadata": {},
   "outputs": [
    {
     "name": "stdout",
     "output_type": "stream",
     "text": [
      "<class 'pandas.core.frame.DataFrame'>\n",
      "RangeIndex: 122629 entries, 0 to 122628\n",
      "Data columns (total 57 columns):\n",
      " #   Column              Non-Null Count   Dtype  \n",
      "---  ------              --------------   -----  \n",
      " 0   BASE_DT             122629 non-null  int64  \n",
      " 1   REC_TP              122629 non-null  object \n",
      " 2   CURR_CD             122629 non-null  int64  \n",
      " 3   REFF_NUM_TP         122629 non-null  object \n",
      " 4   BR_SEND             122629 non-null  int64  \n",
      " 5   CURR_SEND           122629 non-null  int64  \n",
      " 6   DT_SEND             122629 non-null  int64  \n",
      " 7   TM_SEND             122629 non-null  int64  \n",
      " 8   TERM_SEND           122629 non-null  object \n",
      " 9   BR_RECEIVE          122629 non-null  int64  \n",
      " 10  CURR_RECEIVE        122629 non-null  int64  \n",
      " 11  DT_RECEIVE          122629 non-null  int64  \n",
      " 12  TM_RECEIVE          122629 non-null  int64  \n",
      " 13  TERM_RECEIVE        122629 non-null  object \n",
      " 14  SRC_CD              122629 non-null  object \n",
      " 15  STATUS              122629 non-null  object \n",
      " 16  PUAB_FG             122629 non-null  int64  \n",
      " 17  DBCR_CD             122629 non-null  int64  \n",
      " 18  AMT                 122629 non-null  float64\n",
      " 19  AMT_DESC            0 non-null       float64\n",
      " 20  RTGS_TRAN_CD        73931 non-null   object \n",
      " 21  RTGS_CONFIRM        29673 non-null   object \n",
      " 22  NM_SENDER_1         122629 non-null  object \n",
      " 23  NM_SENDER_2         493 non-null     object \n",
      " 24  ACCT_RECEIVER_ZERO  122558 non-null  object \n",
      " 25  NM_RECEIVER_1       122629 non-null  object \n",
      " 26  NM_RECEIVER_2       1540 non-null    object \n",
      " 27  RESIDENT_CD         119628 non-null  object \n",
      " 28  MSG1                82277 non-null   object \n",
      " 29  MSG2                78266 non-null   object \n",
      " 30  MSG3                22854 non-null   object \n",
      " 31  MSG4                6037 non-null    object \n",
      " 32  MSG5                119738 non-null  object \n",
      " 33  CD_BK_LLG           100228 non-null  object \n",
      " 34  BIC_CD              107965 non-null  object \n",
      " 35  NM_BK_LLG           108626 non-null  object \n",
      " 36  BR_IMPLEMENTED_LLG  119051 non-null  float64\n",
      " 37  BR_PRT_LLG          108512 non-null  float64\n",
      " 38  RTGS_CD_BR          114374 non-null  object \n",
      " 39  RTGS_NM_BR          115208 non-null  object \n",
      " 40  OPER_ID             121367 non-null  object \n",
      " 41  USR_OPER            122629 non-null  object \n",
      " 42  USR_RELEASER        122629 non-null  int64  \n",
      " 43  USR_APPROVAL        121923 non-null  float64\n",
      " 44  DT_RELEASE          122629 non-null  int64  \n",
      " 45  TIME_RELEASE        122629 non-null  int64  \n",
      " 46  DT_APPROVE          121923 non-null  float64\n",
      " 47  TM_APPROVE          121923 non-null  float64\n",
      " 48  END_DOWNLOAD        122621 non-null  float64\n",
      " 49  RTGS_BOR            121841 non-null  object \n",
      " 50  RTGS_INCSTAT        121841 non-null  object \n",
      " 51  RTGS_SENDER         121841 non-null  object \n",
      " 52  ORG_PRC_DT          122629 non-null  int64  \n",
      " 53  CPY_DT              122629 non-null  int64  \n",
      " 54  CPY_TM              122629 non-null  int64  \n",
      " 55  LST_MDFCPY_DT       122629 non-null  int64  \n",
      " 56  LST_MDFCPY_TM       122629 non-null  int64  \n",
      "dtypes: float64(8), int64(20), object(29)\n",
      "memory usage: 53.3+ MB\n"
     ]
    }
   ],
   "source": [
    "osknEDWB.info()"
   ]
  },
  {
   "cell_type": "code",
   "execution_count": 74,
   "metadata": {},
   "outputs": [],
   "source": [
    "# filter skn only (exclude rtgs)\n",
    "osknEDWB = osknEDWB[osknEDWB['REC_TP']=='L ']"
   ]
  },
  {
   "cell_type": "code",
   "execution_count": 75,
   "metadata": {},
   "outputs": [],
   "source": [
    "osknEDWB['REFF_NUM_TP'] = osknEDWB['REFF_NUM_TP'].astype(str)"
   ]
  },
  {
   "cell_type": "code",
   "execution_count": 76,
   "metadata": {},
   "outputs": [],
   "source": [
    "# merge SKN Source and EDWB\n",
    "osknComb = pd.merge(osknEDWB, osknSource, left_on=['BASE_DT','REFF_NUM_TP'], right_on=['BASE_DT','REFF_NUM_TP'], how='left')"
   ]
  },
  {
   "cell_type": "code",
   "execution_count": 77,
   "metadata": {},
   "outputs": [
    {
     "data": {
      "text/plain": [
       "99242"
      ]
     },
     "execution_count": 77,
     "metadata": {},
     "output_type": "execute_result"
    }
   ],
   "source": [
    "# check acct_send_no on join result\n",
    "osknComb['ACCT_SEND_NO'].count()"
   ]
  },
  {
   "cell_type": "code",
   "execution_count": 78,
   "metadata": {},
   "outputs": [
    {
     "data": {
      "text/plain": [
       "99242"
      ]
     },
     "execution_count": 78,
     "metadata": {},
     "output_type": "execute_result"
    }
   ],
   "source": [
    "# check acct_send_no on source\n",
    "osknSource['ACCT_SEND_NO'].count()"
   ]
  },
  {
   "cell_type": "code",
   "execution_count": 79,
   "metadata": {},
   "outputs": [],
   "source": [
    "# take necessary columns only\n",
    "osknComb = osknComb[['BASE_DT','REFF_NUM_TP', 'AMT','NM_SENDER_1','ACCT_RECEIVER_ZERO','NM_RECEIVER_1',\n",
    "'BIC_CD','ACCT_SEND_NO']]"
   ]
  },
  {
   "cell_type": "code",
   "execution_count": 80,
   "metadata": {},
   "outputs": [],
   "source": [
    "osknComb.columns = ['BASE_DT','REFF_NO', 'AMT','NM_SENDER','ACCT_RECEIVER','NM_RECEIVER',\n",
    "'BIC_CD','ACCT_SEND_NO']"
   ]
  },
  {
   "cell_type": "code",
   "execution_count": null,
   "metadata": {},
   "outputs": [],
   "source": [
    "osknComb"
   ]
  },
  {
   "cell_type": "code",
   "execution_count": 82,
   "metadata": {},
   "outputs": [
    {
     "name": "stderr",
     "output_type": "stream",
     "text": [
      "c:\\Users\\MR38804\\Anaconda3\\lib\\site-packages\\IPython\\core\\interactiveshell.py:3165: DtypeWarning: Columns (22) have mixed types.Specify dtype option on import or set low_memory=False.\n",
      "  has_raised = await self.run_ast_nodes(code_ast.body, cell_name,\n"
     ]
    }
   ],
   "source": [
    "oskoutm = pd.read_csv(r\"C:\\Users\\MR38804\\Documents\\EDW Transac\\OSKN\\Dec'22\\TRXSTSKOUTM 2212.csv\", sep='|', dtype={'OP_AC_NO':'str'})"
   ]
  },
  {
   "cell_type": "code",
   "execution_count": null,
   "metadata": {},
   "outputs": [],
   "source": [
    "oskoutm"
   ]
  },
  {
   "cell_type": "code",
   "execution_count": 84,
   "metadata": {},
   "outputs": [],
   "source": [
    "oskoutm['REF_NO'] = oskoutm['REF_NO'].astype(str)\n",
    "oskoutm['OP_AC_NO'] = oskoutm['OP_AC_NO'].astype(str)"
   ]
  },
  {
   "cell_type": "code",
   "execution_count": 85,
   "metadata": {},
   "outputs": [],
   "source": [
    "# oskoutm['NO_LN'] = oskoutm['ACCT_NO'].str.len()"
   ]
  },
  {
   "cell_type": "code",
   "execution_count": 86,
   "metadata": {},
   "outputs": [],
   "source": [
    "# oskoutm.sort_values(by='NO_LN', ascending=False)"
   ]
  },
  {
   "cell_type": "code",
   "execution_count": 87,
   "metadata": {},
   "outputs": [],
   "source": [
    "# take necessary columns only\n",
    "oskoutm = oskoutm[['BASE_DT','REF_NO', 'OP_NM','CU_NM','ACCT_NO','AMT',\n",
    "'OP_AC_NO','BIC']]"
   ]
  },
  {
   "cell_type": "code",
   "execution_count": 88,
   "metadata": {},
   "outputs": [],
   "source": [
    "# rename columns\n",
    "oskoutm.columns = ['BASE_DT','REFF_NO', 'NM_SENDER','NM_RECEIVER','ACCT_RECEIVER','AMT',\n",
    "'ACCT_SEND_NO','BIC_CD']"
   ]
  },
  {
   "cell_type": "code",
   "execution_count": 89,
   "metadata": {},
   "outputs": [
    {
     "name": "stderr",
     "output_type": "stream",
     "text": [
      "<ipython-input-89-ec3750dd9bdd>:1: SettingWithCopyWarning: \n",
      "A value is trying to be set on a copy of a slice from a DataFrame.\n",
      "Try using .loc[row_indexer,col_indexer] = value instead\n",
      "\n",
      "See the caveats in the documentation: https://pandas.pydata.org/pandas-docs/stable/user_guide/indexing.html#returning-a-view-versus-a-copy\n",
      "  oskoutm['ACCT_SEND_NO'] = oskoutm['ACCT_SEND_NO'].astype('str').str.zfill(24)\n"
     ]
    }
   ],
   "source": [
    "oskoutm['ACCT_SEND_NO'] = oskoutm['ACCT_SEND_NO'].astype('str').str.zfill(24)"
   ]
  },
  {
   "cell_type": "code",
   "execution_count": null,
   "metadata": {},
   "outputs": [],
   "source": [
    "oskoutm"
   ]
  },
  {
   "cell_type": "code",
   "execution_count": 91,
   "metadata": {},
   "outputs": [],
   "source": [
    "oskoutm = oskoutm[~(oskoutm[['REFF_NO', 'NM_SENDER', 'NM_RECEIVER', 'ACCT_RECEIVER', 'AMT', 'ACCT_SEND_NO', 'BIC_CD']].duplicated(keep='last'))]"
   ]
  },
  {
   "cell_type": "code",
   "execution_count": 92,
   "metadata": {},
   "outputs": [],
   "source": [
    "# append all skn\n",
    "osknAll = osknComb.append(oskoutm, ignore_index=True)"
   ]
  },
  {
   "cell_type": "code",
   "execution_count": 93,
   "metadata": {},
   "outputs": [
    {
     "data": {
      "text/html": [
       "<div>\n",
       "<style scoped>\n",
       "    .dataframe tbody tr th:only-of-type {\n",
       "        vertical-align: middle;\n",
       "    }\n",
       "\n",
       "    .dataframe tbody tr th {\n",
       "        vertical-align: top;\n",
       "    }\n",
       "\n",
       "    .dataframe thead th {\n",
       "        text-align: right;\n",
       "    }\n",
       "</style>\n",
       "<table border=\"1\" class=\"dataframe\">\n",
       "  <thead>\n",
       "    <tr style=\"text-align: right;\">\n",
       "      <th></th>\n",
       "      <th>BASE_DT</th>\n",
       "      <th>REFF_NO</th>\n",
       "      <th>AMT</th>\n",
       "      <th>NM_SENDER</th>\n",
       "      <th>ACCT_RECEIVER</th>\n",
       "      <th>NM_RECEIVER</th>\n",
       "      <th>BIC_CD</th>\n",
       "      <th>ACCT_SEND_NO</th>\n",
       "    </tr>\n",
       "  </thead>\n",
       "  <tbody>\n",
       "  </tbody>\n",
       "</table>\n",
       "</div>"
      ],
      "text/plain": [
       "Empty DataFrame\n",
       "Columns: [BASE_DT, REFF_NO, AMT, NM_SENDER, ACCT_RECEIVER, NM_RECEIVER, BIC_CD, ACCT_SEND_NO]\n",
       "Index: []"
      ]
     },
     "execution_count": 93,
     "metadata": {},
     "output_type": "execute_result"
    }
   ],
   "source": [
    "osknAll[osknAll.duplicated(keep=False)]"
   ]
  },
  {
   "cell_type": "code",
   "execution_count": 94,
   "metadata": {},
   "outputs": [],
   "source": [
    "# osknAll.drop_duplicates(inplace=True)"
   ]
  },
  {
   "cell_type": "code",
   "execution_count": 95,
   "metadata": {},
   "outputs": [
    {
     "name": "stdout",
     "output_type": "stream",
     "text": [
      "<class 'pandas.core.frame.DataFrame'>\n",
      "RangeIndex: 115360 entries, 0 to 115359\n",
      "Data columns (total 8 columns):\n",
      " #   Column         Non-Null Count   Dtype  \n",
      "---  ------         --------------   -----  \n",
      " 0   BASE_DT        115360 non-null  int64  \n",
      " 1   REFF_NO        115360 non-null  object \n",
      " 2   AMT            115360 non-null  float64\n",
      " 3   NM_SENDER      115360 non-null  object \n",
      " 4   ACCT_RECEIVER  115360 non-null  object \n",
      " 5   NM_RECEIVER    115360 non-null  object \n",
      " 6   BIC_CD         115360 non-null  object \n",
      " 7   ACCT_SEND_NO   115360 non-null  object \n",
      "dtypes: float64(1), int64(1), object(6)\n",
      "memory usage: 7.0+ MB\n"
     ]
    }
   ],
   "source": [
    "osknAll.info()"
   ]
  },
  {
   "cell_type": "code",
   "execution_count": 96,
   "metadata": {},
   "outputs": [],
   "source": [
    "osknBK = pd.merge(osknAll, BKCDBIC, left_on=['BIC_CD'], right_on=['BIC'], how='left')"
   ]
  },
  {
   "cell_type": "code",
   "execution_count": 97,
   "metadata": {},
   "outputs": [
    {
     "data": {
      "text/plain": [
       "115360"
      ]
     },
     "execution_count": 97,
     "metadata": {},
     "output_type": "execute_result"
    }
   ],
   "source": [
    "osknBK['BANK NAME'].count()"
   ]
  },
  {
   "cell_type": "code",
   "execution_count": null,
   "metadata": {},
   "outputs": [],
   "source": [
    "osknBK"
   ]
  },
  {
   "cell_type": "code",
   "execution_count": 99,
   "metadata": {},
   "outputs": [],
   "source": [
    "osknBK['ACCT_SEND_NO'] = osknBK['ACCT_SEND_NO'].str.zfill(24)"
   ]
  },
  {
   "cell_type": "code",
   "execution_count": 100,
   "metadata": {},
   "outputs": [],
   "source": [
    "osknFinal = pd.merge(osknBK, acctNR, left_on = ['ACCT_SEND_NO'], right_on=['ACCT'], how='left')"
   ]
  },
  {
   "cell_type": "code",
   "execution_count": null,
   "metadata": {},
   "outputs": [],
   "source": [
    "osknFinal"
   ]
  },
  {
   "cell_type": "code",
   "execution_count": 102,
   "metadata": {},
   "outputs": [
    {
     "data": {
      "text/plain": [
       "Index(['BASE_DT', 'REFF_NO', 'AMT', 'NM_SENDER', 'ACCT_RECEIVER',\n",
       "       'NM_RECEIVER', 'BIC_CD', 'ACCT_SEND_NO', 'BIC', 'BANK NAME', 'ACCT',\n",
       "       'GCIF_NO', 'CUST_NAME', 'LoB', 'REGION'],\n",
       "      dtype='object')"
      ]
     },
     "execution_count": 102,
     "metadata": {},
     "output_type": "execute_result"
    }
   ],
   "source": [
    "osknFinal.columns"
   ]
  },
  {
   "cell_type": "code",
   "execution_count": 103,
   "metadata": {},
   "outputs": [
    {
     "name": "stdout",
     "output_type": "stream",
     "text": [
      "<class 'pandas.core.frame.DataFrame'>\n",
      "Int64Index: 115360 entries, 0 to 115359\n",
      "Data columns (total 15 columns):\n",
      " #   Column         Non-Null Count   Dtype  \n",
      "---  ------         --------------   -----  \n",
      " 0   BASE_DT        115360 non-null  int64  \n",
      " 1   REFF_NO        115360 non-null  object \n",
      " 2   AMT            115360 non-null  float64\n",
      " 3   NM_SENDER      115360 non-null  object \n",
      " 4   ACCT_RECEIVER  115360 non-null  object \n",
      " 5   NM_RECEIVER    115360 non-null  object \n",
      " 6   BIC_CD         115360 non-null  object \n",
      " 7   ACCT_SEND_NO   115360 non-null  object \n",
      " 8   BIC            115360 non-null  object \n",
      " 9   BANK NAME      115360 non-null  object \n",
      " 10  ACCT           91662 non-null   object \n",
      " 11  GCIF_NO        91662 non-null   object \n",
      " 12  CUST_NAME      91662 non-null   object \n",
      " 13  LoB            91662 non-null   object \n",
      " 14  REGION         75832 non-null   object \n",
      "dtypes: float64(1), int64(1), object(13)\n",
      "memory usage: 14.1+ MB\n"
     ]
    }
   ],
   "source": [
    "osknFinal.info()"
   ]
  },
  {
   "cell_type": "code",
   "execution_count": 104,
   "metadata": {},
   "outputs": [],
   "source": [
    "# osknFinal = osknFinal[~osknFinal[['REFF_NO', 'AMT', 'NM_SENDER', 'ACCT_RECEIVER',\n",
    "#       'NM_RECEIVER', 'BIC_CD', 'ACCT_SEND_NO', 'BIC', 'BANK NAME', 'ACCT',\n",
    "#       'GCIF_NO', 'CUST_NAME', 'LoB', 'REGION']].duplicated(keep='last')]"
   ]
  },
  {
   "cell_type": "code",
   "execution_count": 105,
   "metadata": {},
   "outputs": [
    {
     "data": {
      "text/plain": [
       "WAHANA OTTOMITRA MULTIARTHA TBK, PT    4398\n",
       "MAYBANK INDONESIA FINANCE, PT          4101\n",
       "REKENING PENAMPUNGAN SECURITIE         3798\n",
       "VICTORY RETAILINDO, PT                 2312\n",
       "HARJA GUNATAMA LESTARI, PT             1097\n",
       "                                       ... \n",
       "BIMA SAKTI LOGISTIK                       1\n",
       "VIVA KONET INTERNATIONAL, PT              1\n",
       "SONGPENG VALASINDO, PT                    1\n",
       "FERRO SERVITA, PT                         1\n",
       "ZENITH MATERIAL SOLUTION, PT              1\n",
       "Name: CUST_NAME, Length: 3488, dtype: int64"
      ]
     },
     "execution_count": 105,
     "metadata": {},
     "output_type": "execute_result"
    }
   ],
   "source": [
    "osknFinal['CUST_NAME'].value_counts()"
   ]
  },
  {
   "cell_type": "code",
   "execution_count": 106,
   "metadata": {},
   "outputs": [],
   "source": [
    "osknFinal = osknFinal[osknFinal['CUST_NAME'].notna()]"
   ]
  },
  {
   "cell_type": "code",
   "execution_count": 107,
   "metadata": {},
   "outputs": [
    {
     "data": {
      "text/plain": [
       "Index(['BASE_DT', 'REFF_NO', 'AMT', 'NM_SENDER', 'ACCT_RECEIVER',\n",
       "       'NM_RECEIVER', 'BIC_CD', 'ACCT_SEND_NO', 'BIC', 'BANK NAME', 'ACCT',\n",
       "       'GCIF_NO', 'CUST_NAME', 'LoB', 'REGION'],\n",
       "      dtype='object')"
      ]
     },
     "execution_count": 107,
     "metadata": {},
     "output_type": "execute_result"
    }
   ],
   "source": [
    "osknFinal.columns"
   ]
  },
  {
   "cell_type": "code",
   "execution_count": 108,
   "metadata": {},
   "outputs": [],
   "source": [
    "osknFinal = osknFinal[['BASE_DT', 'GCIF_NO', 'CUST_NAME', 'LoB', 'NM_RECEIVER', 'BANK NAME',\n",
    "'REGION', 'AMT']]"
   ]
  },
  {
   "cell_type": "code",
   "execution_count": 109,
   "metadata": {},
   "outputs": [],
   "source": [
    "osknFinal.columns = ['BASE DATE', 'GCIF', 'CUST NAME', 'LOB', 'SENDER/RECIPIENT NAME', \n",
    "'SENDER/RECIPIENT BANK', 'REGION', 'AMT']"
   ]
  },
  {
   "cell_type": "code",
   "execution_count": 110,
   "metadata": {},
   "outputs": [],
   "source": [
    "osknFinal['TYPE'] = 'OUTGOING'\n",
    "osknFinal['CHANNEL'] = 'SKN'"
   ]
  },
  {
   "cell_type": "code",
   "execution_count": null,
   "metadata": {},
   "outputs": [],
   "source": [
    "osknFinal"
   ]
  },
  {
   "cell_type": "markdown",
   "metadata": {},
   "source": [
    "# ISKN"
   ]
  },
  {
   "cell_type": "code",
   "execution_count": 112,
   "metadata": {},
   "outputs": [],
   "source": [
    "iskn = pd.read_csv(r'C:\\Users\\MR38804\\Documents\\EDW Transac\\ISKN\\TRXSTSKINM_2212.csv', sep='|', dtype={'SENDER_CLEARING_CD':'str', 'BENFRY_ACCT':'str'})"
   ]
  },
  {
   "cell_type": "code",
   "execution_count": 113,
   "metadata": {},
   "outputs": [
    {
     "data": {
      "text/html": [
       "<div>\n",
       "<style scoped>\n",
       "    .dataframe tbody tr th:only-of-type {\n",
       "        vertical-align: middle;\n",
       "    }\n",
       "\n",
       "    .dataframe tbody tr th {\n",
       "        vertical-align: top;\n",
       "    }\n",
       "\n",
       "    .dataframe thead th {\n",
       "        text-align: right;\n",
       "    }\n",
       "</style>\n",
       "<table border=\"1\" class=\"dataframe\">\n",
       "  <thead>\n",
       "    <tr style=\"text-align: right;\">\n",
       "      <th></th>\n",
       "      <th>REF_NO</th>\n",
       "      <th>SENDER_NM</th>\n",
       "      <th>BENFRY_NM</th>\n",
       "      <th>BENFRY_ACCT</th>\n",
       "      <th>AMT</th>\n",
       "      <th>SENDER_CLEARING_CD</th>\n",
       "    </tr>\n",
       "  </thead>\n",
       "  <tbody>\n",
       "    <tr>\n",
       "      <th>0</th>\n",
       "      <td>000002475728</td>\n",
       "      <td>MCNICHOLL CONSULTING LLC</td>\n",
       "      <td>ANDREAS KOSASIH</td>\n",
       "      <td>1406022408</td>\n",
       "      <td>9.971000e+05</td>\n",
       "      <td>0330301</td>\n",
       "    </tr>\n",
       "    <tr>\n",
       "      <th>1</th>\n",
       "      <td>000002554616</td>\n",
       "      <td>PT. LODGING PARTNER SERVICES INDONESIA</td>\n",
       "      <td>PT METRODATA ELECTRONICS TBK</td>\n",
       "      <td>2185526801</td>\n",
       "      <td>2.406250e+07</td>\n",
       "      <td>0330301</td>\n",
       "    </tr>\n",
       "    <tr>\n",
       "      <th>2</th>\n",
       "      <td>000002562751</td>\n",
       "      <td>PAYPAL PTE LTD</td>\n",
       "      <td>I GST KETUT SUASTAMA</td>\n",
       "      <td>1768513028</td>\n",
       "      <td>9.320712e+05</td>\n",
       "      <td>0330301</td>\n",
       "    </tr>\n",
       "    <tr>\n",
       "      <th>3</th>\n",
       "      <td>000002594287</td>\n",
       "      <td>PAYPAL PTE LTD</td>\n",
       "      <td>PT AYUNAN BULAN INTERNATIONAL</td>\n",
       "      <td>2177030555</td>\n",
       "      <td>2.184462e+07</td>\n",
       "      <td>0330301</td>\n",
       "    </tr>\n",
       "    <tr>\n",
       "      <th>4</th>\n",
       "      <td>000002641816</td>\n",
       "      <td>PT. HERBALIFE INDONESIA</td>\n",
       "      <td>AI NIKMAH SITI FATIMAH</td>\n",
       "      <td>1402055332</td>\n",
       "      <td>1.828508e+06</td>\n",
       "      <td>0330301</td>\n",
       "    </tr>\n",
       "    <tr>\n",
       "      <th>...</th>\n",
       "      <td>...</td>\n",
       "      <td>...</td>\n",
       "      <td>...</td>\n",
       "      <td>...</td>\n",
       "      <td>...</td>\n",
       "      <td>...</td>\n",
       "    </tr>\n",
       "    <tr>\n",
       "      <th>439988</th>\n",
       "      <td>PPU.;033J-0057</td>\n",
       "      <td>PT WAHANA OTTOMITRA MULTIARTHA</td>\n",
       "      <td>PT WAHANA OTTOMITRA MULTIARTHA</td>\n",
       "      <td>2003565408</td>\n",
       "      <td>3.500000e+05</td>\n",
       "      <td>0140397</td>\n",
       "    </tr>\n",
       "    <tr>\n",
       "      <th>439989</th>\n",
       "      <td>PPU.=VFY5-0001</td>\n",
       "      <td>ERA MANDIRI CEMERLANG PT</td>\n",
       "      <td>A ROSITA</td>\n",
       "      <td>1518073945</td>\n",
       "      <td>5.000000e+08</td>\n",
       "      <td>0140397</td>\n",
       "    </tr>\n",
       "    <tr>\n",
       "      <th>439990</th>\n",
       "      <td>PPU.=VKFL-0011</td>\n",
       "      <td>PANGAN AGRO LESTARI PT</td>\n",
       "      <td>PT PANGAN AGRO LESTARI</td>\n",
       "      <td>2052128899</td>\n",
       "      <td>1.000000e+09</td>\n",
       "      <td>0140397</td>\n",
       "    </tr>\n",
       "    <tr>\n",
       "      <th>439991</th>\n",
       "      <td>PPU.=VWBF-0217</td>\n",
       "      <td>ELUON PT</td>\n",
       "      <td>PT. Indo Buana Berkah</td>\n",
       "      <td>2742000506</td>\n",
       "      <td>7.718869e+07</td>\n",
       "      <td>0140397</td>\n",
       "    </tr>\n",
       "    <tr>\n",
       "      <th>439992</th>\n",
       "      <td>PPU.\\3767-0146</td>\n",
       "      <td>CARD CENTER KUTA</td>\n",
       "      <td>PT.JENGGALA KERAMIK BALI</td>\n",
       "      <td>2019094644</td>\n",
       "      <td>3.879343e+07</td>\n",
       "      <td>0140397</td>\n",
       "    </tr>\n",
       "  </tbody>\n",
       "</table>\n",
       "<p>439993 rows × 6 columns</p>\n",
       "</div>"
      ],
      "text/plain": [
       "                REF_NO                               SENDER_NM  \\\n",
       "0         000002475728                MCNICHOLL CONSULTING LLC   \n",
       "1         000002554616  PT. LODGING PARTNER SERVICES INDONESIA   \n",
       "2         000002562751                          PAYPAL PTE LTD   \n",
       "3         000002594287                          PAYPAL PTE LTD   \n",
       "4         000002641816                 PT. HERBALIFE INDONESIA   \n",
       "...                ...                                     ...   \n",
       "439988  PPU.;033J-0057          PT WAHANA OTTOMITRA MULTIARTHA   \n",
       "439989  PPU.=VFY5-0001                ERA MANDIRI CEMERLANG PT   \n",
       "439990  PPU.=VKFL-0011                  PANGAN AGRO LESTARI PT   \n",
       "439991  PPU.=VWBF-0217                                ELUON PT   \n",
       "439992  PPU.\\3767-0146                        CARD CENTER KUTA   \n",
       "\n",
       "                             BENFRY_NM BENFRY_ACCT           AMT  \\\n",
       "0                      ANDREAS KOSASIH  1406022408  9.971000e+05   \n",
       "1         PT METRODATA ELECTRONICS TBK  2185526801  2.406250e+07   \n",
       "2                 I GST KETUT SUASTAMA  1768513028  9.320712e+05   \n",
       "3        PT AYUNAN BULAN INTERNATIONAL  2177030555  2.184462e+07   \n",
       "4               AI NIKMAH SITI FATIMAH  1402055332  1.828508e+06   \n",
       "...                                ...         ...           ...   \n",
       "439988  PT WAHANA OTTOMITRA MULTIARTHA  2003565408  3.500000e+05   \n",
       "439989                        A ROSITA  1518073945  5.000000e+08   \n",
       "439990          PT PANGAN AGRO LESTARI  2052128899  1.000000e+09   \n",
       "439991           PT. Indo Buana Berkah  2742000506  7.718869e+07   \n",
       "439992        PT.JENGGALA KERAMIK BALI  2019094644  3.879343e+07   \n",
       "\n",
       "       SENDER_CLEARING_CD  \n",
       "0                 0330301  \n",
       "1                 0330301  \n",
       "2                 0330301  \n",
       "3                 0330301  \n",
       "4                 0330301  \n",
       "...                   ...  \n",
       "439988            0140397  \n",
       "439989            0140397  \n",
       "439990            0140397  \n",
       "439991            0140397  \n",
       "439992            0140397  \n",
       "\n",
       "[439993 rows x 6 columns]"
      ]
     },
     "execution_count": 113,
     "metadata": {},
     "output_type": "execute_result"
    }
   ],
   "source": [
    "iskn"
   ]
  },
  {
   "cell_type": "code",
   "execution_count": 114,
   "metadata": {},
   "outputs": [
    {
     "name": "stdout",
     "output_type": "stream",
     "text": [
      "<class 'pandas.core.frame.DataFrame'>\n",
      "RangeIndex: 439993 entries, 0 to 439992\n",
      "Data columns (total 6 columns):\n",
      " #   Column              Non-Null Count   Dtype  \n",
      "---  ------              --------------   -----  \n",
      " 0   REF_NO              439993 non-null  object \n",
      " 1   SENDER_NM           439984 non-null  object \n",
      " 2   BENFRY_NM           439993 non-null  object \n",
      " 3   BENFRY_ACCT         439981 non-null  object \n",
      " 4   AMT                 439993 non-null  float64\n",
      " 5   SENDER_CLEARING_CD  439993 non-null  object \n",
      "dtypes: float64(1), object(5)\n",
      "memory usage: 20.1+ MB\n"
     ]
    }
   ],
   "source": [
    "iskn.info()"
   ]
  },
  {
   "cell_type": "code",
   "execution_count": 115,
   "metadata": {},
   "outputs": [],
   "source": [
    "iskn[['BK_CD']] = iskn['SENDER_CLEARING_CD'].str[:3]"
   ]
  },
  {
   "cell_type": "code",
   "execution_count": 116,
   "metadata": {},
   "outputs": [],
   "source": [
    "iskn['BENFRY_ACCT'] = iskn['BENFRY_ACCT'].str.zfill(24)"
   ]
  },
  {
   "cell_type": "code",
   "execution_count": 117,
   "metadata": {},
   "outputs": [
    {
     "data": {
      "text/html": [
       "<div>\n",
       "<style scoped>\n",
       "    .dataframe tbody tr th:only-of-type {\n",
       "        vertical-align: middle;\n",
       "    }\n",
       "\n",
       "    .dataframe tbody tr th {\n",
       "        vertical-align: top;\n",
       "    }\n",
       "\n",
       "    .dataframe thead th {\n",
       "        text-align: right;\n",
       "    }\n",
       "</style>\n",
       "<table border=\"1\" class=\"dataframe\">\n",
       "  <thead>\n",
       "    <tr style=\"text-align: right;\">\n",
       "      <th></th>\n",
       "      <th>REF_NO</th>\n",
       "      <th>SENDER_NM</th>\n",
       "      <th>BENFRY_NM</th>\n",
       "      <th>BENFRY_ACCT</th>\n",
       "      <th>AMT</th>\n",
       "      <th>SENDER_CLEARING_CD</th>\n",
       "      <th>BK_CD</th>\n",
       "    </tr>\n",
       "  </thead>\n",
       "  <tbody>\n",
       "  </tbody>\n",
       "</table>\n",
       "</div>"
      ],
      "text/plain": [
       "Empty DataFrame\n",
       "Columns: [REF_NO, SENDER_NM, BENFRY_NM, BENFRY_ACCT, AMT, SENDER_CLEARING_CD, BK_CD]\n",
       "Index: []"
      ]
     },
     "execution_count": 117,
     "metadata": {},
     "output_type": "execute_result"
    }
   ],
   "source": [
    "iskn[iskn.duplicated()]"
   ]
  },
  {
   "cell_type": "code",
   "execution_count": null,
   "metadata": {},
   "outputs": [],
   "source": [
    "iskn"
   ]
  },
  {
   "cell_type": "code",
   "execution_count": 119,
   "metadata": {},
   "outputs": [],
   "source": [
    "isknBK = pd.merge(iskn, BKCD, left_on='BK_CD', right_on='BANK CODE', how='left')"
   ]
  },
  {
   "cell_type": "code",
   "execution_count": 120,
   "metadata": {},
   "outputs": [
    {
     "name": "stdout",
     "output_type": "stream",
     "text": [
      "<class 'pandas.core.frame.DataFrame'>\n",
      "Int64Index: 439993 entries, 0 to 439992\n",
      "Data columns (total 9 columns):\n",
      " #   Column              Non-Null Count   Dtype  \n",
      "---  ------              --------------   -----  \n",
      " 0   REF_NO              439993 non-null  object \n",
      " 1   SENDER_NM           439984 non-null  object \n",
      " 2   BENFRY_NM           439993 non-null  object \n",
      " 3   BENFRY_ACCT         439981 non-null  object \n",
      " 4   AMT                 439993 non-null  float64\n",
      " 5   SENDER_CLEARING_CD  439993 non-null  object \n",
      " 6   BK_CD               439993 non-null  object \n",
      " 7   BANK CODE           439993 non-null  object \n",
      " 8   BANK NAME           439993 non-null  object \n",
      "dtypes: float64(1), object(8)\n",
      "memory usage: 33.6+ MB\n"
     ]
    }
   ],
   "source": [
    "isknBK.info()"
   ]
  },
  {
   "cell_type": "code",
   "execution_count": 121,
   "metadata": {},
   "outputs": [],
   "source": [
    "isknFinal = pd.merge(isknBK, acctNR, left_on=['BENFRY_ACCT'], right_on=['ACCT'], how='left')"
   ]
  },
  {
   "cell_type": "code",
   "execution_count": null,
   "metadata": {},
   "outputs": [],
   "source": [
    "isknFinal"
   ]
  },
  {
   "cell_type": "code",
   "execution_count": 123,
   "metadata": {},
   "outputs": [
    {
     "name": "stdout",
     "output_type": "stream",
     "text": [
      "<class 'pandas.core.frame.DataFrame'>\n",
      "Int64Index: 439993 entries, 0 to 439992\n",
      "Data columns (total 14 columns):\n",
      " #   Column              Non-Null Count   Dtype  \n",
      "---  ------              --------------   -----  \n",
      " 0   REF_NO              439993 non-null  object \n",
      " 1   SENDER_NM           439984 non-null  object \n",
      " 2   BENFRY_NM           439993 non-null  object \n",
      " 3   BENFRY_ACCT         439981 non-null  object \n",
      " 4   AMT                 439993 non-null  float64\n",
      " 5   SENDER_CLEARING_CD  439993 non-null  object \n",
      " 6   BK_CD               439993 non-null  object \n",
      " 7   BANK CODE           439993 non-null  object \n",
      " 8   BANK NAME           439993 non-null  object \n",
      " 9   ACCT                218714 non-null  object \n",
      " 10  GCIF_NO             218714 non-null  object \n",
      " 11  CUST_NAME           218714 non-null  object \n",
      " 12  LoB                 218714 non-null  object \n",
      " 13  REGION              204507 non-null  object \n",
      "dtypes: float64(1), object(13)\n",
      "memory usage: 50.4+ MB\n"
     ]
    }
   ],
   "source": [
    "isknFinal.info()"
   ]
  },
  {
   "cell_type": "code",
   "execution_count": 124,
   "metadata": {},
   "outputs": [],
   "source": [
    "isknFinal = isknFinal[isknFinal['CUST_NAME'].notna()]"
   ]
  },
  {
   "cell_type": "code",
   "execution_count": 125,
   "metadata": {},
   "outputs": [
    {
     "name": "stderr",
     "output_type": "stream",
     "text": [
      "<ipython-input-125-d8c94598f5f9>:1: SettingWithCopyWarning: \n",
      "A value is trying to be set on a copy of a slice from a DataFrame.\n",
      "Try using .loc[row_indexer,col_indexer] = value instead\n",
      "\n",
      "See the caveats in the documentation: https://pandas.pydata.org/pandas-docs/stable/user_guide/indexing.html#returning-a-view-versus-a-copy\n",
      "  isknFinal['BASE DATE'] = '20221200'\n"
     ]
    }
   ],
   "source": [
    "isknFinal['BASE DATE'] = '20221200'"
   ]
  },
  {
   "cell_type": "code",
   "execution_count": 126,
   "metadata": {},
   "outputs": [],
   "source": [
    "isknFinal = isknFinal[['BASE DATE', 'GCIF_NO', 'CUST_NAME', 'LoB', 'SENDER_NM', 'BANK NAME',\n",
    "'REGION', 'AMT']]"
   ]
  },
  {
   "cell_type": "code",
   "execution_count": 127,
   "metadata": {},
   "outputs": [],
   "source": [
    "isknFinal.columns = ['BASE DATE', 'GCIF', 'CUST NAME', 'LOB', 'SENDER/RECIPIENT NAME', \n",
    "'SENDER/RECIPIENT BANK', 'REGION', 'AMT']"
   ]
  },
  {
   "cell_type": "code",
   "execution_count": 128,
   "metadata": {},
   "outputs": [],
   "source": [
    "isknFinal['TYPE'] = 'INCOMING'\n",
    "isknFinal['CHANNEL'] = 'SKN'"
   ]
  },
  {
   "cell_type": "code",
   "execution_count": null,
   "metadata": {},
   "outputs": [],
   "source": [
    "isknFinal"
   ]
  },
  {
   "cell_type": "markdown",
   "metadata": {},
   "source": [
    "# REMITTANCE"
   ]
  },
  {
   "cell_type": "code",
   "execution_count": 130,
   "metadata": {},
   "outputs": [],
   "source": [
    "tt = pd.read_excel(r'C:\\Users\\MR38804\\Documents\\EDW Transac\\Remittance\\In Out Remittance as per Dec 22 Ori.xlsx')"
   ]
  },
  {
   "cell_type": "code",
   "execution_count": 131,
   "metadata": {},
   "outputs": [
    {
     "name": "stdout",
     "output_type": "stream",
     "text": [
      "<class 'pandas.core.frame.DataFrame'>\n",
      "RangeIndex: 13094 entries, 0 to 13093\n",
      "Data columns (total 82 columns):\n",
      " #   Column              Non-Null Count  Dtype  \n",
      "---  ------              --------------  -----  \n",
      " 0   Periode             13094 non-null  int64  \n",
      " 1   GCIF                12877 non-null  object \n",
      " 2   TRX_SEQ             6024 non-null   float64\n",
      " 3   MTKODE              13094 non-null  object \n",
      " 4   RECBIC              13094 non-null  object \n",
      " 5   SENBIC              13094 non-null  object \n",
      " 6   SW20                13094 non-null  object \n",
      " 7   KD CAB ORI          13094 non-null  int64  \n",
      " 8   new branch code     13094 non-null  int64  \n",
      " 9   REG NAME            13094 non-null  object \n",
      " 10  CIF                 12877 non-null  float64\n",
      " 11  lob                 13094 non-null  object \n",
      " 12  LOB Name            13094 non-null  object \n",
      " 13  Remark              13094 non-null  object \n",
      " 14  SWBHSN              13094 non-null  int64  \n",
      " 15  SW108               7070 non-null   object \n",
      " 16  SW32D               13094 non-null  int64  \n",
      " 17  SW32CURR            13094 non-null  object \n",
      " 18  kurs                13094 non-null  float64\n",
      " 19  SW32AMT             13094 non-null  float64\n",
      " 20  SW32AMT in IDR      13094 non-null  float64\n",
      " 21  SW32AMT in USD      13094 non-null  float64\n",
      " 22  tiering             13094 non-null  object \n",
      " 23  SW50_1              13094 non-null  object \n",
      " 24  SW50_1 (ac repair)  7070 non-null   float64\n",
      " 25  LENGTH              13094 non-null  int64  \n",
      " 26  For CA Facility     7070 non-null   float64\n",
      " 27  SW50_2              13091 non-null  object \n",
      " 28  SW50_3              13088 non-null  object \n",
      " 29  SW50_4              12887 non-null  object \n",
      " 30  SW52A               11884 non-null  object \n",
      " 31  SW52_2              1107 non-null   object \n",
      " 32  SW52_3              853 non-null    object \n",
      " 33  SW52_4              808 non-null    object \n",
      " 34  SW53A               2234 non-null   object \n",
      " 35  SW53_2              448 non-null    object \n",
      " 36  SW53_3              447 non-null    object \n",
      " 37  SW53_4              0 non-null      float64\n",
      " 38  SW54A               930 non-null    object \n",
      " 39  SW54_2              1 non-null      object \n",
      " 40  SW54_3              1 non-null      object \n",
      " 41  SW54_4              0 non-null      float64\n",
      " 42  SW56A               53 non-null     object \n",
      " 43  SW56_2              0 non-null      float64\n",
      " 44  SW56_3              0 non-null      float64\n",
      " 45  SW56_4              0 non-null      float64\n",
      " 46  SW57_1              8360 non-null   object \n",
      " 47  country code        7070 non-null   object \n",
      " 48  country name        7070 non-null   object \n",
      " 49  SW57_2              527 non-null    object \n",
      " 50  SW57_3              487 non-null    object \n",
      " 51  SW57_4              335 non-null    object \n",
      " 52  SW59_1              13094 non-null  object \n",
      " 53  SW59_1(acrepair)    6024 non-null   float64\n",
      " 54  Length              13094 non-null  int64  \n",
      " 55  SW59_2              13094 non-null  object \n",
      " 56  SW59_3              10643 non-null  object \n",
      " 57  SW59_4              7654 non-null   object \n",
      " 58  SW70_1              9773 non-null   object \n",
      " 59  SW70_2              3457 non-null   object \n",
      " 60  SW70_3              1412 non-null   object \n",
      " 61  SW70_4              627 non-null    object \n",
      " 62  SW71A               13094 non-null  object \n",
      " 63  SW72_1              6083 non-null   object \n",
      " 64  SW72_2              3699 non-null   object \n",
      " 65  SW72_3              1967 non-null   object \n",
      " 66  SW72_4              829 non-null    object \n",
      " 67  SW72_5              144 non-null    object \n",
      " 68  SW72_6              57 non-null     object \n",
      " 69  KDCAB               6022 non-null   float64\n",
      " 70  TGLST               6022 non-null   float64\n",
      " 71  COUNTERPARTY BANK   7070 non-null   object \n",
      " 72  BANK NAME           7070 non-null   object \n",
      " 73  ORG_PRC_DT          13094 non-null  int64  \n",
      " 74  NOREF_BII           6021 non-null   object \n",
      " 75  KDWIL               273 non-null    float64\n",
      " 76  SW32A_DT            6024 non-null   float64\n",
      " 77  AUTO_DB_FG          6022 non-null   float64\n",
      " 78  STP_FG              6022 non-null   float64\n",
      " 79  EFT_AMT             6024 non-null   float64\n",
      " 80  RECON_DT            6021 non-null   float64\n",
      " 81  KDCAB PEM           6022 non-null   float64\n",
      "dtypes: float64(23), int64(8), object(51)\n",
      "memory usage: 8.2+ MB\n"
     ]
    }
   ],
   "source": [
    "tt.info()"
   ]
  },
  {
   "cell_type": "code",
   "execution_count": 132,
   "metadata": {},
   "outputs": [
    {
     "data": {
      "text/plain": [
       "Index(['Periode', 'GCIF', 'TRX_SEQ', 'MTKODE', 'RECBIC', 'SENBIC', 'SW20',\n",
       "       'KD CAB ORI', 'new branch code', 'REG NAME', 'CIF', 'lob', 'LOB Name',\n",
       "       'Remark', 'SWBHSN', 'SW108', 'SW32D', 'SW32CURR', 'kurs', 'SW32AMT',\n",
       "       'SW32AMT in IDR', 'SW32AMT in USD', 'tiering', 'SW50_1',\n",
       "       'SW50_1 (ac repair)', 'LENGTH', 'For CA Facility', 'SW50_2', 'SW50_3',\n",
       "       'SW50_4', 'SW52A', 'SW52_2', 'SW52_3', 'SW52_4', 'SW53A', 'SW53_2',\n",
       "       'SW53_3', 'SW53_4', 'SW54A', 'SW54_2', 'SW54_3', 'SW54_4', 'SW56A',\n",
       "       'SW56_2', 'SW56_3', 'SW56_4', 'SW57_1', 'country code', 'country name',\n",
       "       'SW57_2', 'SW57_3', 'SW57_4', 'SW59_1', 'SW59_1(acrepair)', 'Length',\n",
       "       'SW59_2', 'SW59_3', 'SW59_4', 'SW70_1', 'SW70_2', 'SW70_3', 'SW70_4',\n",
       "       'SW71A', 'SW72_1', 'SW72_2', 'SW72_3', 'SW72_4', 'SW72_5', 'SW72_6',\n",
       "       'KDCAB', 'TGLST', 'COUNTERPARTY BANK', 'BANK NAME', 'ORG_PRC_DT',\n",
       "       'NOREF_BII', 'KDWIL', 'SW32A_DT', 'AUTO_DB_FG', 'STP_FG', 'EFT_AMT',\n",
       "       'RECON_DT', 'KDCAB PEM'],\n",
       "      dtype='object')"
      ]
     },
     "execution_count": 132,
     "metadata": {},
     "output_type": "execute_result"
    }
   ],
   "source": [
    "tt.columns"
   ]
  },
  {
   "cell_type": "code",
   "execution_count": 133,
   "metadata": {},
   "outputs": [],
   "source": [
    "tt = tt[['Periode','GCIF', 'Remark', 'SW32AMT in IDR', 'SW50_2', 'SW52A', 'SW57_1', 'SW59_2']]"
   ]
  },
  {
   "cell_type": "code",
   "execution_count": 134,
   "metadata": {},
   "outputs": [],
   "source": [
    "tt.columns = ['BASE_DATE', 'GCIF', 'Remark', 'AMT', 'SENDER_NM', 'SENDER_BKCD', 'RECEIVER_BKCD', 'RECEIVER_NM']"
   ]
  },
  {
   "cell_type": "code",
   "execution_count": 135,
   "metadata": {},
   "outputs": [
    {
     "data": {
      "text/html": [
       "<div>\n",
       "<style scoped>\n",
       "    .dataframe tbody tr th:only-of-type {\n",
       "        vertical-align: middle;\n",
       "    }\n",
       "\n",
       "    .dataframe tbody tr th {\n",
       "        vertical-align: top;\n",
       "    }\n",
       "\n",
       "    .dataframe thead th {\n",
       "        text-align: right;\n",
       "    }\n",
       "</style>\n",
       "<table border=\"1\" class=\"dataframe\">\n",
       "  <thead>\n",
       "    <tr style=\"text-align: right;\">\n",
       "      <th></th>\n",
       "      <th>BASE_DATE</th>\n",
       "      <th>GCIF</th>\n",
       "      <th>Remark</th>\n",
       "      <th>AMT</th>\n",
       "      <th>SENDER_NM</th>\n",
       "      <th>SENDER_BKCD</th>\n",
       "      <th>RECEIVER_BKCD</th>\n",
       "      <th>RECEIVER_NM</th>\n",
       "    </tr>\n",
       "  </thead>\n",
       "  <tbody>\n",
       "    <tr>\n",
       "      <th>0</th>\n",
       "      <td>20221222</td>\n",
       "      <td>G205927650</td>\n",
       "      <td>Outgoing</td>\n",
       "      <td>1.120860e+07</td>\n",
       "      <td>FLORENCIA IRENA THIAN</td>\n",
       "      <td>IBBKIDJAXXX</td>\n",
       "      <td>BINAADADXXX</td>\n",
       "      <td>INTHINKING SL</td>\n",
       "    </tr>\n",
       "    <tr>\n",
       "      <th>1</th>\n",
       "      <td>20221208</td>\n",
       "      <td>G308983089</td>\n",
       "      <td>Outgoing</td>\n",
       "      <td>2.335125e+08</td>\n",
       "      <td>CONIXX DISTRIBUSI INDONESIA, PT</td>\n",
       "      <td>IBBKIDJAXXX</td>\n",
       "      <td>ANZBAU3M</td>\n",
       "      <td>Frank Gerhard Stach</td>\n",
       "    </tr>\n",
       "    <tr>\n",
       "      <th>2</th>\n",
       "      <td>20221214</td>\n",
       "      <td>G009326067</td>\n",
       "      <td>Outgoing</td>\n",
       "      <td>2.783722e+09</td>\n",
       "      <td>AGRO TIGA BERKAT, PT</td>\n",
       "      <td>IBBKIDJAXXX</td>\n",
       "      <td>ANZBAU3M</td>\n",
       "      <td>SWIFT AND COMPANY TRADE GROUP</td>\n",
       "    </tr>\n",
       "    <tr>\n",
       "      <th>3</th>\n",
       "      <td>20221214</td>\n",
       "      <td>G100672914</td>\n",
       "      <td>Outgoing</td>\n",
       "      <td>1.072005e+10</td>\n",
       "      <td>SUPERKRANE MITRA UTAMA PT</td>\n",
       "      <td>IBBKIDJAXXX</td>\n",
       "      <td>ANZBAU3M</td>\n",
       "      <td>TRT(AUST)PTY LTD</td>\n",
       "    </tr>\n",
       "    <tr>\n",
       "      <th>4</th>\n",
       "      <td>20221230</td>\n",
       "      <td>G309661783</td>\n",
       "      <td>Outgoing</td>\n",
       "      <td>1.277503e+08</td>\n",
       "      <td>REXLINE ENGINEERING INDONESIA, PT</td>\n",
       "      <td>IBBKIDJAXXX</td>\n",
       "      <td>ANZBAU3M</td>\n",
       "      <td>sns engineering company Pty Ltd.</td>\n",
       "    </tr>\n",
       "    <tr>\n",
       "      <th>...</th>\n",
       "      <td>...</td>\n",
       "      <td>...</td>\n",
       "      <td>...</td>\n",
       "      <td>...</td>\n",
       "      <td>...</td>\n",
       "      <td>...</td>\n",
       "      <td>...</td>\n",
       "      <td>...</td>\n",
       "    </tr>\n",
       "    <tr>\n",
       "      <th>13089</th>\n",
       "      <td>20221230</td>\n",
       "      <td>G800405318</td>\n",
       "      <td>Incoming</td>\n",
       "      <td>3.121284e+07</td>\n",
       "      <td>ANDY SANTOSO</td>\n",
       "      <td>UBSWCHZH80A</td>\n",
       "      <td>NaN</td>\n",
       "      <td>LIE YUNITA</td>\n",
       "    </tr>\n",
       "    <tr>\n",
       "      <th>13090</th>\n",
       "      <td>20221230</td>\n",
       "      <td>G505093435</td>\n",
       "      <td>Incoming</td>\n",
       "      <td>9.962678e+07</td>\n",
       "      <td>ROOM DEAL PTE LTD</td>\n",
       "      <td>NaN</td>\n",
       "      <td>IBBKIDJAXXX</td>\n",
       "      <td>PT Mitra Global Holiday</td>\n",
       "    </tr>\n",
       "    <tr>\n",
       "      <th>13091</th>\n",
       "      <td>20221230</td>\n",
       "      <td>G103039541</td>\n",
       "      <td>Incoming</td>\n",
       "      <td>1.912014e+07</td>\n",
       "      <td>MS HENG YU XIU</td>\n",
       "      <td>NaN</td>\n",
       "      <td>IBBKIDJAXXX</td>\n",
       "      <td>A TONG</td>\n",
       "    </tr>\n",
       "    <tr>\n",
       "      <th>13092</th>\n",
       "      <td>20221230</td>\n",
       "      <td>G900720327</td>\n",
       "      <td>Incoming</td>\n",
       "      <td>4.667136e+08</td>\n",
       "      <td>SINMILL SINGAPORE (PTE) LTD</td>\n",
       "      <td>3582026967001</td>\n",
       "      <td>NaN</td>\n",
       "      <td>PT INDO BALAMBIT</td>\n",
       "    </tr>\n",
       "    <tr>\n",
       "      <th>13093</th>\n",
       "      <td>20221230</td>\n",
       "      <td>G505093435</td>\n",
       "      <td>Incoming</td>\n",
       "      <td>9.634147e+06</td>\n",
       "      <td>ONE FARRER PTE LTD</td>\n",
       "      <td>NaN</td>\n",
       "      <td>IBBKIDJAXXX</td>\n",
       "      <td>PT. Mitra Global Holiday</td>\n",
       "    </tr>\n",
       "  </tbody>\n",
       "</table>\n",
       "<p>13094 rows × 8 columns</p>\n",
       "</div>"
      ],
      "text/plain": [
       "       BASE_DATE        GCIF    Remark           AMT  \\\n",
       "0       20221222  G205927650  Outgoing  1.120860e+07   \n",
       "1       20221208  G308983089  Outgoing  2.335125e+08   \n",
       "2       20221214  G009326067  Outgoing  2.783722e+09   \n",
       "3       20221214  G100672914  Outgoing  1.072005e+10   \n",
       "4       20221230  G309661783  Outgoing  1.277503e+08   \n",
       "...          ...         ...       ...           ...   \n",
       "13089   20221230  G800405318  Incoming  3.121284e+07   \n",
       "13090   20221230  G505093435  Incoming  9.962678e+07   \n",
       "13091   20221230  G103039541  Incoming  1.912014e+07   \n",
       "13092   20221230  G900720327  Incoming  4.667136e+08   \n",
       "13093   20221230  G505093435  Incoming  9.634147e+06   \n",
       "\n",
       "                               SENDER_NM    SENDER_BKCD RECEIVER_BKCD  \\\n",
       "0                  FLORENCIA IRENA THIAN    IBBKIDJAXXX   BINAADADXXX   \n",
       "1        CONIXX DISTRIBUSI INDONESIA, PT    IBBKIDJAXXX      ANZBAU3M   \n",
       "2                   AGRO TIGA BERKAT, PT    IBBKIDJAXXX      ANZBAU3M   \n",
       "3              SUPERKRANE MITRA UTAMA PT    IBBKIDJAXXX      ANZBAU3M   \n",
       "4      REXLINE ENGINEERING INDONESIA, PT    IBBKIDJAXXX      ANZBAU3M   \n",
       "...                                  ...            ...           ...   \n",
       "13089                       ANDY SANTOSO    UBSWCHZH80A           NaN   \n",
       "13090                  ROOM DEAL PTE LTD            NaN   IBBKIDJAXXX   \n",
       "13091                     MS HENG YU XIU            NaN   IBBKIDJAXXX   \n",
       "13092        SINMILL SINGAPORE (PTE) LTD  3582026967001           NaN   \n",
       "13093                 ONE FARRER PTE LTD            NaN   IBBKIDJAXXX   \n",
       "\n",
       "                            RECEIVER_NM  \n",
       "0                         INTHINKING SL  \n",
       "1                   Frank Gerhard Stach  \n",
       "2         SWIFT AND COMPANY TRADE GROUP  \n",
       "3                      TRT(AUST)PTY LTD  \n",
       "4      sns engineering company Pty Ltd.  \n",
       "...                                 ...  \n",
       "13089                        LIE YUNITA  \n",
       "13090           PT Mitra Global Holiday  \n",
       "13091                            A TONG  \n",
       "13092                  PT INDO BALAMBIT  \n",
       "13093          PT. Mitra Global Holiday  \n",
       "\n",
       "[13094 rows x 8 columns]"
      ]
     },
     "execution_count": 135,
     "metadata": {},
     "output_type": "execute_result"
    }
   ],
   "source": [
    "tt"
   ]
  },
  {
   "cell_type": "code",
   "execution_count": 136,
   "metadata": {},
   "outputs": [],
   "source": [
    "ttNR = pd.merge(tt, nrCust, left_on='GCIF', right_on='GCIF_NO', how='left')"
   ]
  },
  {
   "cell_type": "code",
   "execution_count": 137,
   "metadata": {},
   "outputs": [],
   "source": [
    "ttNR = ttNR[ttNR['CUST_NAME'].notnull()]"
   ]
  },
  {
   "cell_type": "code",
   "execution_count": 138,
   "metadata": {},
   "outputs": [],
   "source": [
    "ott = ttNR[ttNR['Remark']=='Outgoing']"
   ]
  },
  {
   "cell_type": "code",
   "execution_count": 139,
   "metadata": {},
   "outputs": [
    {
     "data": {
      "text/html": [
       "<div>\n",
       "<style scoped>\n",
       "    .dataframe tbody tr th:only-of-type {\n",
       "        vertical-align: middle;\n",
       "    }\n",
       "\n",
       "    .dataframe tbody tr th {\n",
       "        vertical-align: top;\n",
       "    }\n",
       "\n",
       "    .dataframe thead th {\n",
       "        text-align: right;\n",
       "    }\n",
       "</style>\n",
       "<table border=\"1\" class=\"dataframe\">\n",
       "  <thead>\n",
       "    <tr style=\"text-align: right;\">\n",
       "      <th></th>\n",
       "      <th>BASE_DATE</th>\n",
       "      <th>GCIF</th>\n",
       "      <th>Remark</th>\n",
       "      <th>AMT</th>\n",
       "      <th>SENDER_NM</th>\n",
       "      <th>SENDER_BKCD</th>\n",
       "      <th>RECEIVER_BKCD</th>\n",
       "      <th>RECEIVER_NM</th>\n",
       "      <th>GCIF_NO</th>\n",
       "      <th>CUST_NAME</th>\n",
       "      <th>LoB</th>\n",
       "      <th>REGION</th>\n",
       "    </tr>\n",
       "  </thead>\n",
       "  <tbody>\n",
       "    <tr>\n",
       "      <th>1</th>\n",
       "      <td>20221208</td>\n",
       "      <td>G308983089</td>\n",
       "      <td>Outgoing</td>\n",
       "      <td>2.335125e+08</td>\n",
       "      <td>CONIXX DISTRIBUSI INDONESIA, PT</td>\n",
       "      <td>IBBKIDJAXXX</td>\n",
       "      <td>ANZBAU3M</td>\n",
       "      <td>Frank Gerhard Stach</td>\n",
       "      <td>G308983089</td>\n",
       "      <td>CONIXX DISTRIBUSI INDONESIA, PT</td>\n",
       "      <td>RSME</td>\n",
       "      <td>JATIM, BALI &amp; NUSRA</td>\n",
       "    </tr>\n",
       "    <tr>\n",
       "      <th>2</th>\n",
       "      <td>20221214</td>\n",
       "      <td>G009326067</td>\n",
       "      <td>Outgoing</td>\n",
       "      <td>2.783722e+09</td>\n",
       "      <td>AGRO TIGA BERKAT, PT</td>\n",
       "      <td>IBBKIDJAXXX</td>\n",
       "      <td>ANZBAU3M</td>\n",
       "      <td>SWIFT AND COMPANY TRADE GROUP</td>\n",
       "      <td>G009326067</td>\n",
       "      <td>AGRO TIGA BERKAT, PT</td>\n",
       "      <td>RSME</td>\n",
       "      <td>JAKARTA 2</td>\n",
       "    </tr>\n",
       "    <tr>\n",
       "      <th>3</th>\n",
       "      <td>20221214</td>\n",
       "      <td>G100672914</td>\n",
       "      <td>Outgoing</td>\n",
       "      <td>1.072005e+10</td>\n",
       "      <td>SUPERKRANE MITRA UTAMA PT</td>\n",
       "      <td>IBBKIDJAXXX</td>\n",
       "      <td>ANZBAU3M</td>\n",
       "      <td>TRT(AUST)PTY LTD</td>\n",
       "      <td>G100672914</td>\n",
       "      <td>SUPERKRANE MITRA UTAMA PT</td>\n",
       "      <td>BB</td>\n",
       "      <td>JAKARTA 2</td>\n",
       "    </tr>\n",
       "    <tr>\n",
       "      <th>4</th>\n",
       "      <td>20221230</td>\n",
       "      <td>G309661783</td>\n",
       "      <td>Outgoing</td>\n",
       "      <td>1.277503e+08</td>\n",
       "      <td>REXLINE ENGINEERING INDONESIA, PT</td>\n",
       "      <td>IBBKIDJAXXX</td>\n",
       "      <td>ANZBAU3M</td>\n",
       "      <td>sns engineering company Pty Ltd.</td>\n",
       "      <td>G309661783</td>\n",
       "      <td>REXLINE ENGINEERING INDONESIA, PT</td>\n",
       "      <td>RSME</td>\n",
       "      <td>JATIM, BALI &amp; NUSRA</td>\n",
       "    </tr>\n",
       "    <tr>\n",
       "      <th>10</th>\n",
       "      <td>20221209</td>\n",
       "      <td>G409004611</td>\n",
       "      <td>Outgoing</td>\n",
       "      <td>5.321172e+08</td>\n",
       "      <td>PT ASIA TIMUR EKSPOR IMPOR</td>\n",
       "      <td>IBBKIDJAXXX</td>\n",
       "      <td>ANZBAU3MXXX</td>\n",
       "      <td>KAURNA WINES PTY LTD</td>\n",
       "      <td>G409004611</td>\n",
       "      <td>ASIA TIMUR EKSPOR IMPOR</td>\n",
       "      <td>RSME</td>\n",
       "      <td>JAKARTA 1</td>\n",
       "    </tr>\n",
       "    <tr>\n",
       "      <th>...</th>\n",
       "      <td>...</td>\n",
       "      <td>...</td>\n",
       "      <td>...</td>\n",
       "      <td>...</td>\n",
       "      <td>...</td>\n",
       "      <td>...</td>\n",
       "      <td>...</td>\n",
       "      <td>...</td>\n",
       "      <td>...</td>\n",
       "      <td>...</td>\n",
       "      <td>...</td>\n",
       "      <td>...</td>\n",
       "    </tr>\n",
       "    <tr>\n",
       "      <th>7065</th>\n",
       "      <td>20221228</td>\n",
       "      <td>G405281890</td>\n",
       "      <td>Outgoing</td>\n",
       "      <td>8.271978e+08</td>\n",
       "      <td>KCF INDONESIA, PT</td>\n",
       "      <td>IBBKIDJAXXX</td>\n",
       "      <td>THE JUROKU BANK LTD</td>\n",
       "      <td>KIKUCHI COLD HEADER CO LTD</td>\n",
       "      <td>G405281890</td>\n",
       "      <td>KCF INDONESIA, PT</td>\n",
       "      <td>RSME</td>\n",
       "      <td>JAKARTA 3</td>\n",
       "    </tr>\n",
       "    <tr>\n",
       "      <th>7066</th>\n",
       "      <td>20221202</td>\n",
       "      <td>G406301242</td>\n",
       "      <td>Outgoing</td>\n",
       "      <td>7.783750e+08</td>\n",
       "      <td>JAPAN ASIA CONSULTANTS PT</td>\n",
       "      <td>IBBKIDJAXXX</td>\n",
       "      <td>NaN</td>\n",
       "      <td>PT. JAPAN ASIA CONSULTANTS</td>\n",
       "      <td>G406301242</td>\n",
       "      <td>JAPAN ASIA CONSULTANTS</td>\n",
       "      <td>RSME</td>\n",
       "      <td>JAKARTA 1</td>\n",
       "    </tr>\n",
       "    <tr>\n",
       "      <th>7067</th>\n",
       "      <td>20221205</td>\n",
       "      <td>G009003286</td>\n",
       "      <td>Outgoing</td>\n",
       "      <td>9.949032e+07</td>\n",
       "      <td>INDO SUTECH SEJAHTERA, PT</td>\n",
       "      <td>IBBKIDJAXXX</td>\n",
       "      <td>NaN</td>\n",
       "      <td>ETIA</td>\n",
       "      <td>G009003286</td>\n",
       "      <td>INDO SUTECH SEJAHTERA, PT</td>\n",
       "      <td>BB</td>\n",
       "      <td>JAWA TENGAH</td>\n",
       "    </tr>\n",
       "    <tr>\n",
       "      <th>7068</th>\n",
       "      <td>20221207</td>\n",
       "      <td>G808115612</td>\n",
       "      <td>Outgoing</td>\n",
       "      <td>6.275020e+06</td>\n",
       "      <td>YAYASAN RAJA AMPAT RESEARCH AND CON</td>\n",
       "      <td>IBBKIDJAXXX</td>\n",
       "      <td>NaN</td>\n",
       "      <td>EUROPE CARGO BV</td>\n",
       "      <td>G808115612</td>\n",
       "      <td>YAYASAN RAJA AMPAT RESEARCH AND CONSERVA</td>\n",
       "      <td>RSME</td>\n",
       "      <td>SULAWESI &amp; IBT</td>\n",
       "    </tr>\n",
       "    <tr>\n",
       "      <th>7069</th>\n",
       "      <td>20221221</td>\n",
       "      <td>G204331029</td>\n",
       "      <td>Outgoing</td>\n",
       "      <td>2.487258e+08</td>\n",
       "      <td>PRIMA QUALITI RAKATA, PT</td>\n",
       "      <td>IBBKIDJAXXX</td>\n",
       "      <td>NaN</td>\n",
       "      <td>PT. RAYSON MANDIRI CORPINDO</td>\n",
       "      <td>G204331029</td>\n",
       "      <td>PRIMA QUALITI RAKATA, PT</td>\n",
       "      <td>RSME</td>\n",
       "      <td>JAKARTA 3</td>\n",
       "    </tr>\n",
       "  </tbody>\n",
       "</table>\n",
       "<p>5615 rows × 12 columns</p>\n",
       "</div>"
      ],
      "text/plain": [
       "      BASE_DATE        GCIF    Remark           AMT  \\\n",
       "1      20221208  G308983089  Outgoing  2.335125e+08   \n",
       "2      20221214  G009326067  Outgoing  2.783722e+09   \n",
       "3      20221214  G100672914  Outgoing  1.072005e+10   \n",
       "4      20221230  G309661783  Outgoing  1.277503e+08   \n",
       "10     20221209  G409004611  Outgoing  5.321172e+08   \n",
       "...         ...         ...       ...           ...   \n",
       "7065   20221228  G405281890  Outgoing  8.271978e+08   \n",
       "7066   20221202  G406301242  Outgoing  7.783750e+08   \n",
       "7067   20221205  G009003286  Outgoing  9.949032e+07   \n",
       "7068   20221207  G808115612  Outgoing  6.275020e+06   \n",
       "7069   20221221  G204331029  Outgoing  2.487258e+08   \n",
       "\n",
       "                                SENDER_NM  SENDER_BKCD        RECEIVER_BKCD  \\\n",
       "1         CONIXX DISTRIBUSI INDONESIA, PT  IBBKIDJAXXX             ANZBAU3M   \n",
       "2                    AGRO TIGA BERKAT, PT  IBBKIDJAXXX             ANZBAU3M   \n",
       "3               SUPERKRANE MITRA UTAMA PT  IBBKIDJAXXX             ANZBAU3M   \n",
       "4       REXLINE ENGINEERING INDONESIA, PT  IBBKIDJAXXX             ANZBAU3M   \n",
       "10             PT ASIA TIMUR EKSPOR IMPOR  IBBKIDJAXXX          ANZBAU3MXXX   \n",
       "...                                   ...          ...                  ...   \n",
       "7065                    KCF INDONESIA, PT  IBBKIDJAXXX  THE JUROKU BANK LTD   \n",
       "7066            JAPAN ASIA CONSULTANTS PT  IBBKIDJAXXX                  NaN   \n",
       "7067            INDO SUTECH SEJAHTERA, PT  IBBKIDJAXXX                  NaN   \n",
       "7068  YAYASAN RAJA AMPAT RESEARCH AND CON  IBBKIDJAXXX                  NaN   \n",
       "7069             PRIMA QUALITI RAKATA, PT  IBBKIDJAXXX                  NaN   \n",
       "\n",
       "                           RECEIVER_NM     GCIF_NO  \\\n",
       "1                  Frank Gerhard Stach  G308983089   \n",
       "2        SWIFT AND COMPANY TRADE GROUP  G009326067   \n",
       "3                     TRT(AUST)PTY LTD  G100672914   \n",
       "4     sns engineering company Pty Ltd.  G309661783   \n",
       "10                KAURNA WINES PTY LTD  G409004611   \n",
       "...                                ...         ...   \n",
       "7065        KIKUCHI COLD HEADER CO LTD  G405281890   \n",
       "7066        PT. JAPAN ASIA CONSULTANTS  G406301242   \n",
       "7067                              ETIA  G009003286   \n",
       "7068                   EUROPE CARGO BV  G808115612   \n",
       "7069       PT. RAYSON MANDIRI CORPINDO  G204331029   \n",
       "\n",
       "                                     CUST_NAME   LoB               REGION  \n",
       "1              CONIXX DISTRIBUSI INDONESIA, PT  RSME  JATIM, BALI & NUSRA  \n",
       "2                         AGRO TIGA BERKAT, PT  RSME            JAKARTA 2  \n",
       "3                    SUPERKRANE MITRA UTAMA PT    BB            JAKARTA 2  \n",
       "4            REXLINE ENGINEERING INDONESIA, PT  RSME  JATIM, BALI & NUSRA  \n",
       "10                     ASIA TIMUR EKSPOR IMPOR  RSME            JAKARTA 1  \n",
       "...                                        ...   ...                  ...  \n",
       "7065                         KCF INDONESIA, PT  RSME            JAKARTA 3  \n",
       "7066                    JAPAN ASIA CONSULTANTS  RSME            JAKARTA 1  \n",
       "7067                 INDO SUTECH SEJAHTERA, PT    BB          JAWA TENGAH  \n",
       "7068  YAYASAN RAJA AMPAT RESEARCH AND CONSERVA  RSME       SULAWESI & IBT  \n",
       "7069                  PRIMA QUALITI RAKATA, PT  RSME            JAKARTA 3  \n",
       "\n",
       "[5615 rows x 12 columns]"
      ]
     },
     "execution_count": 139,
     "metadata": {},
     "output_type": "execute_result"
    }
   ],
   "source": [
    "ott"
   ]
  },
  {
   "cell_type": "code",
   "execution_count": 140,
   "metadata": {},
   "outputs": [],
   "source": [
    "ott = ott[['BASE_DATE', 'GCIF', 'CUST_NAME', 'LoB', 'RECEIVER_NM', 'RECEIVER_BKCD', 'REGION', 'AMT']]"
   ]
  },
  {
   "cell_type": "code",
   "execution_count": 141,
   "metadata": {},
   "outputs": [
    {
     "name": "stderr",
     "output_type": "stream",
     "text": [
      "<ipython-input-141-3e95ae8dff56>:1: SettingWithCopyWarning: \n",
      "A value is trying to be set on a copy of a slice from a DataFrame.\n",
      "Try using .loc[row_indexer,col_indexer] = value instead\n",
      "\n",
      "See the caveats in the documentation: https://pandas.pydata.org/pandas-docs/stable/user_guide/indexing.html#returning-a-view-versus-a-copy\n",
      "  ott['TYPE'] = 'OUTGOING'\n",
      "<ipython-input-141-3e95ae8dff56>:2: SettingWithCopyWarning: \n",
      "A value is trying to be set on a copy of a slice from a DataFrame.\n",
      "Try using .loc[row_indexer,col_indexer] = value instead\n",
      "\n",
      "See the caveats in the documentation: https://pandas.pydata.org/pandas-docs/stable/user_guide/indexing.html#returning-a-view-versus-a-copy\n",
      "  ott['CHANNEL'] = 'REMITTANCE'\n"
     ]
    }
   ],
   "source": [
    "ott['TYPE'] = 'OUTGOING'\n",
    "ott['CHANNEL'] = 'REMITTANCE'"
   ]
  },
  {
   "cell_type": "code",
   "execution_count": 142,
   "metadata": {},
   "outputs": [],
   "source": [
    "ott.columns = ['BASE DATE', 'GCIF', 'CUST NAME', 'LOB', 'SENDER/RECIPIENT NAME', \n",
    "'SENDER/RECIPIENT BIC', 'REGION', 'AMT', 'TYPE', 'CHANNEL']"
   ]
  },
  {
   "cell_type": "code",
   "execution_count": null,
   "metadata": {},
   "outputs": [],
   "source": [
    "ott"
   ]
  },
  {
   "cell_type": "code",
   "execution_count": 144,
   "metadata": {},
   "outputs": [],
   "source": [
    "itt = ttNR[ttNR['Remark']=='Incoming']"
   ]
  },
  {
   "cell_type": "code",
   "execution_count": null,
   "metadata": {},
   "outputs": [],
   "source": [
    "itt"
   ]
  },
  {
   "cell_type": "code",
   "execution_count": 146,
   "metadata": {},
   "outputs": [],
   "source": [
    "itt = itt[['BASE_DATE', 'GCIF', 'CUST_NAME', 'LoB', 'SENDER_NM', 'SENDER_BKCD', 'REGION', 'AMT']]"
   ]
  },
  {
   "cell_type": "code",
   "execution_count": 147,
   "metadata": {},
   "outputs": [
    {
     "name": "stderr",
     "output_type": "stream",
     "text": [
      "<ipython-input-147-40556f91e6c7>:1: SettingWithCopyWarning: \n",
      "A value is trying to be set on a copy of a slice from a DataFrame.\n",
      "Try using .loc[row_indexer,col_indexer] = value instead\n",
      "\n",
      "See the caveats in the documentation: https://pandas.pydata.org/pandas-docs/stable/user_guide/indexing.html#returning-a-view-versus-a-copy\n",
      "  itt['TYPE'] = 'INCOMING'\n",
      "<ipython-input-147-40556f91e6c7>:2: SettingWithCopyWarning: \n",
      "A value is trying to be set on a copy of a slice from a DataFrame.\n",
      "Try using .loc[row_indexer,col_indexer] = value instead\n",
      "\n",
      "See the caveats in the documentation: https://pandas.pydata.org/pandas-docs/stable/user_guide/indexing.html#returning-a-view-versus-a-copy\n",
      "  itt['CHANNEL'] = 'REMITTANCE'\n"
     ]
    }
   ],
   "source": [
    "itt['TYPE'] = 'INCOMING'\n",
    "itt['CHANNEL'] = 'REMITTANCE'"
   ]
  },
  {
   "cell_type": "code",
   "execution_count": 148,
   "metadata": {},
   "outputs": [],
   "source": [
    "itt.columns = ['BASE DATE', 'GCIF', 'CUST NAME', 'LOB', 'SENDER/RECIPIENT NAME', \n",
    "'SENDER/RECIPIENT BIC', 'REGION', 'AMT', 'TYPE', 'CHANNEL']"
   ]
  },
  {
   "cell_type": "code",
   "execution_count": null,
   "metadata": {},
   "outputs": [],
   "source": [
    "itt"
   ]
  },
  {
   "cell_type": "markdown",
   "metadata": {},
   "source": [
    "# M2E"
   ]
  },
  {
   "cell_type": "code",
   "execution_count": 150,
   "metadata": {},
   "outputs": [],
   "source": [
    "m2e = pd.read_excel(r'C:\\Users\\MR38804\\Documents\\EDW Transac\\M2E\\compile Transaction M2E_as per Dec 22_old.xlsx', sheet_name='TXN Detail Dec 22', usecols='A,P,Y,AA,AC,AH')"
   ]
  },
  {
   "cell_type": "code",
   "execution_count": null,
   "metadata": {},
   "outputs": [],
   "source": [
    "m2e"
   ]
  },
  {
   "cell_type": "code",
   "execution_count": 152,
   "metadata": {},
   "outputs": [],
   "source": [
    "m2e['Payment Date'] = m2e['Payment Date'].astype('str')"
   ]
  },
  {
   "cell_type": "code",
   "execution_count": null,
   "metadata": {},
   "outputs": [],
   "source": [
    "m2e"
   ]
  },
  {
   "cell_type": "code",
   "execution_count": 154,
   "metadata": {},
   "outputs": [],
   "source": [
    "m2e['Payment Date'] = m2e['Payment Date'].str.replace('-','')"
   ]
  },
  {
   "cell_type": "code",
   "execution_count": 155,
   "metadata": {},
   "outputs": [],
   "source": [
    "m2e = m2e[m2e['Payment/Direct Debit Mode'].isin(['BI-FAST', 'Outward ACH (Online)'])]"
   ]
  },
  {
   "cell_type": "code",
   "execution_count": null,
   "metadata": {},
   "outputs": [],
   "source": [
    "m2e"
   ]
  },
  {
   "cell_type": "code",
   "execution_count": 157,
   "metadata": {},
   "outputs": [],
   "source": [
    "m2eNR = pd.merge(m2e, nrCust, left_on='gcif', right_on='GCIF_NO', how='left')"
   ]
  },
  {
   "cell_type": "code",
   "execution_count": null,
   "metadata": {},
   "outputs": [],
   "source": [
    "m2eNR"
   ]
  },
  {
   "cell_type": "code",
   "execution_count": 159,
   "metadata": {},
   "outputs": [],
   "source": [
    "m2eNR = m2eNR[m2eNR['CUST_NAME'].notnull()]"
   ]
  },
  {
   "cell_type": "code",
   "execution_count": 160,
   "metadata": {},
   "outputs": [
    {
     "name": "stderr",
     "output_type": "stream",
     "text": [
      "<ipython-input-160-0859913b20ff>:1: SettingWithCopyWarning: \n",
      "A value is trying to be set on a copy of a slice from a DataFrame.\n",
      "Try using .loc[row_indexer,col_indexer] = value instead\n",
      "\n",
      "See the caveats in the documentation: https://pandas.pydata.org/pandas-docs/stable/user_guide/indexing.html#returning-a-view-versus-a-copy\n",
      "  m2eNR['Beneficiary/ \\nApplicant Bank'] = m2eNR['Beneficiary/ \\nApplicant Bank'].str.upper()\n"
     ]
    }
   ],
   "source": [
    "m2eNR['Beneficiary/ \\nApplicant Bank'] = m2eNR['Beneficiary/ \\nApplicant Bank'].str.upper()"
   ]
  },
  {
   "cell_type": "code",
   "execution_count": 161,
   "metadata": {},
   "outputs": [
    {
     "name": "stderr",
     "output_type": "stream",
     "text": [
      "<ipython-input-161-1eb57a12a86f>:1: SettingWithCopyWarning: \n",
      "A value is trying to be set on a copy of a slice from a DataFrame.\n",
      "Try using .loc[row_indexer,col_indexer] = value instead\n",
      "\n",
      "See the caveats in the documentation: https://pandas.pydata.org/pandas-docs/stable/user_guide/indexing.html#returning-a-view-versus-a-copy\n",
      "  m2eNR['Beneficiary/Applicant Name'] = m2eNR['Beneficiary/Applicant Name'].str.upper()\n"
     ]
    }
   ],
   "source": [
    "m2eNR['Beneficiary/Applicant Name'] = m2eNR['Beneficiary/Applicant Name'].str.upper()"
   ]
  },
  {
   "cell_type": "code",
   "execution_count": 162,
   "metadata": {},
   "outputs": [
    {
     "name": "stderr",
     "output_type": "stream",
     "text": [
      "<ipython-input-162-5ea01d6ba952>:1: SettingWithCopyWarning: \n",
      "A value is trying to be set on a copy of a slice from a DataFrame.\n",
      "Try using .loc[row_indexer,col_indexer] = value instead\n",
      "\n",
      "See the caveats in the documentation: https://pandas.pydata.org/pandas-docs/stable/user_guide/indexing.html#returning-a-view-versus-a-copy\n",
      "  m2eNR['TYPE'] = 'OUTGOING'\n",
      "<ipython-input-162-5ea01d6ba952>:3: SettingWithCopyWarning: \n",
      "A value is trying to be set on a copy of a slice from a DataFrame.\n",
      "Try using .loc[row_indexer,col_indexer] = value instead\n",
      "\n",
      "See the caveats in the documentation: https://pandas.pydata.org/pandas-docs/stable/user_guide/indexing.html#returning-a-view-versus-a-copy\n",
      "  m2eNR1['CHANNEL'] = 'M2E BI-FAST'\n",
      "<ipython-input-162-5ea01d6ba952>:5: SettingWithCopyWarning: \n",
      "A value is trying to be set on a copy of a slice from a DataFrame.\n",
      "Try using .loc[row_indexer,col_indexer] = value instead\n",
      "\n",
      "See the caveats in the documentation: https://pandas.pydata.org/pandas-docs/stable/user_guide/indexing.html#returning-a-view-versus-a-copy\n",
      "  m2eNR2['CHANNEL'] = 'M2E ONLINE'\n"
     ]
    }
   ],
   "source": [
    "m2eNR['TYPE'] = 'OUTGOING'\n",
    "m2eNR1 = m2eNR[m2eNR['Payment/Direct Debit Mode']=='BI-FAST']\n",
    "m2eNR1['CHANNEL'] = 'M2E BI-FAST'\n",
    "m2eNR2 = m2eNR[m2eNR['Payment/Direct Debit Mode']=='Outward ACH (Online)']\n",
    "m2eNR2['CHANNEL'] = 'M2E ONLINE'\n",
    "m2eFinal = m2eNR1.append(m2eNR2)"
   ]
  },
  {
   "cell_type": "code",
   "execution_count": null,
   "metadata": {},
   "outputs": [],
   "source": [
    "m2eFinal"
   ]
  },
  {
   "cell_type": "code",
   "execution_count": 164,
   "metadata": {},
   "outputs": [
    {
     "data": {
      "text/plain": [
       "Index(['Payment Date', 'gcif', 'amt in idr', 'Beneficiary/ \\nApplicant Bank',\n",
       "       'Beneficiary/Applicant Name', 'Payment/Direct Debit Mode', 'GCIF_NO',\n",
       "       'CUST_NAME', 'LoB', 'REGION', 'TYPE', 'CHANNEL'],\n",
       "      dtype='object')"
      ]
     },
     "execution_count": 164,
     "metadata": {},
     "output_type": "execute_result"
    }
   ],
   "source": [
    "m2eFinal.columns"
   ]
  },
  {
   "cell_type": "code",
   "execution_count": 165,
   "metadata": {},
   "outputs": [],
   "source": [
    "m2eFinal = m2eFinal[['Payment Date', 'GCIF_NO', 'CUST_NAME', 'LoB', 'Beneficiary/Applicant Name', 'Beneficiary/ \\nApplicant Bank',\n",
    "'REGION', 'amt in idr', 'TYPE', 'CHANNEL']]"
   ]
  },
  {
   "cell_type": "code",
   "execution_count": 166,
   "metadata": {},
   "outputs": [],
   "source": [
    "m2eFinal.columns = ['BASE DATE', 'GCIF', 'CUST NAME', 'LOB', 'SENDER/RECIPIENT NAME', \n",
    "'SENDER/RECIPIENT BANK', 'REGION', 'AMT', 'TYPE', 'CHANNEL']"
   ]
  },
  {
   "cell_type": "code",
   "execution_count": null,
   "metadata": {},
   "outputs": [],
   "source": [
    "m2eFinal"
   ]
  },
  {
   "cell_type": "markdown",
   "metadata": {},
   "source": [
    "# M2U"
   ]
  },
  {
   "cell_type": "code",
   "execution_count": 168,
   "metadata": {},
   "outputs": [],
   "source": [
    "m2u = pd.read_csv(r\"C:\\Users\\MR38804\\Documents\\EDW Transac\\M2U\\PCE_M2U_2212.csv\", sep=\";\", low_memory=False)"
   ]
  },
  {
   "cell_type": "code",
   "execution_count": 169,
   "metadata": {},
   "outputs": [],
   "source": [
    "# Remove NA GCIF\n",
    "m2u_clean = m2u[~m2u['GCIF_NO'].isnull()]"
   ]
  },
  {
   "cell_type": "code",
   "execution_count": 170,
   "metadata": {},
   "outputs": [],
   "source": [
    "m2u_nr = m2u_clean[m2u_clean['SEGMENT'].isin(['CFS-NONRB-RSME', 'CFS-NONRB-SME+', 'CFS-NONRB-BB'])]"
   ]
  },
  {
   "cell_type": "code",
   "execution_count": 171,
   "metadata": {},
   "outputs": [],
   "source": [
    "m2u_nr = pd.merge(m2u_nr, nrCust, left_on='GCIF_NO', right_on='GCIF_NO', how='left')"
   ]
  },
  {
   "cell_type": "code",
   "execution_count": 172,
   "metadata": {},
   "outputs": [
    {
     "name": "stdout",
     "output_type": "stream",
     "text": [
      "<class 'pandas.core.frame.DataFrame'>\n",
      "Int64Index: 11272 entries, 0 to 11271\n",
      "Data columns (total 42 columns):\n",
      " #   Column               Non-Null Count  Dtype  \n",
      "---  ------               --------------  -----  \n",
      " 0   BASE_DT              11272 non-null  int64  \n",
      " 1   TX_DT                11272 non-null  int64  \n",
      " 2   TX_TM                11272 non-null  int64  \n",
      " 3   SEQ_NO               11272 non-null  int64  \n",
      " 4   TERM_NO              11272 non-null  int64  \n",
      " 5   TERM_TP              11272 non-null  object \n",
      " 6   MER_ID               11272 non-null  int64  \n",
      " 7   TERM_LOC             11272 non-null  object \n",
      " 8   CARD_ACCT_NO         11155 non-null  float64\n",
      " 9   TX_BR_NO             11155 non-null  float64\n",
      " 10  CARD_APPL            11272 non-null  int64  \n",
      " 11  APPL_CD              11272 non-null  int64  \n",
      " 12  FROM_ACCT_NO         11272 non-null  int64  \n",
      " 13  TX_AMT               11272 non-null  float64\n",
      " 14  RULT_CD              11272 non-null  int64  \n",
      " 15  TERM_RCPT            11272 non-null  int64  \n",
      " 16  SWITCH_ID            11272 non-null  int64  \n",
      " 17  TX_CD_ID             11272 non-null  float64\n",
      " 18  TO_ACCT_NO           11272 non-null  int64  \n",
      " 19  BENFRY_BKCD          11272 non-null  int64  \n",
      " 20  TO_APPL_CD           11272 non-null  float64\n",
      " 21  PYMT_CD              11272 non-null  int64  \n",
      " 22  PYMT_INSTR           1079 non-null   object \n",
      " 23  PYMT_DATA            10520 non-null  object \n",
      " 24  ORG_PRC_DT           11272 non-null  int64  \n",
      " 25  CPY_DT               11272 non-null  int64  \n",
      " 26  CPY_TM               11272 non-null  int64  \n",
      " 27  LST_MDFCPY_DT        11272 non-null  int64  \n",
      " 28  LST_MDFCPY_TM        11272 non-null  int64  \n",
      " 29  CURR_CD              11272 non-null  float64\n",
      " 30  RVSAL_TX_CD          11272 non-null  int64  \n",
      " 31  RVRSAL_RCPT_NO       11272 non-null  int64  \n",
      " 32  SWITCH_IN_CITY_CTRY  0 non-null      float64\n",
      " 33  SWITCH_IN_CTRY_CD    0 non-null      float64\n",
      " 34  SWITCH_IN_MCC        11272 non-null  float64\n",
      " 35  ACQ_POS_ENTRY_MODE   11272 non-null  int64  \n",
      " 36  APPRV_CD             0 non-null      float64\n",
      " 37  GCIF_NO              11272 non-null  object \n",
      " 38  SEGMENT              11272 non-null  object \n",
      " 39  CUST_NAME            11272 non-null  object \n",
      " 40  LoB                  11272 non-null  object \n",
      " 41  REGION               11272 non-null  object \n",
      "dtypes: float64(10), int64(23), object(9)\n",
      "memory usage: 3.7+ MB\n"
     ]
    }
   ],
   "source": [
    "m2u_nr.info()"
   ]
  },
  {
   "cell_type": "code",
   "execution_count": 173,
   "metadata": {},
   "outputs": [
    {
     "data": {
      "text/html": [
       "<div>\n",
       "<style scoped>\n",
       "    .dataframe tbody tr th:only-of-type {\n",
       "        vertical-align: middle;\n",
       "    }\n",
       "\n",
       "    .dataframe tbody tr th {\n",
       "        vertical-align: top;\n",
       "    }\n",
       "\n",
       "    .dataframe thead th {\n",
       "        text-align: right;\n",
       "    }\n",
       "</style>\n",
       "<table border=\"1\" class=\"dataframe\">\n",
       "  <thead>\n",
       "    <tr style=\"text-align: right;\">\n",
       "      <th></th>\n",
       "      <th>BASE_DT</th>\n",
       "      <th>TX_DT</th>\n",
       "      <th>TX_TM</th>\n",
       "      <th>SEQ_NO</th>\n",
       "      <th>TERM_NO</th>\n",
       "      <th>TERM_TP</th>\n",
       "      <th>MER_ID</th>\n",
       "      <th>TERM_LOC</th>\n",
       "      <th>CARD_ACCT_NO</th>\n",
       "      <th>TX_BR_NO</th>\n",
       "      <th>...</th>\n",
       "      <th>SWITCH_IN_CITY_CTRY</th>\n",
       "      <th>SWITCH_IN_CTRY_CD</th>\n",
       "      <th>SWITCH_IN_MCC</th>\n",
       "      <th>ACQ_POS_ENTRY_MODE</th>\n",
       "      <th>APPRV_CD</th>\n",
       "      <th>GCIF_NO</th>\n",
       "      <th>SEGMENT</th>\n",
       "      <th>CUST_NAME</th>\n",
       "      <th>LoB</th>\n",
       "      <th>REGION</th>\n",
       "    </tr>\n",
       "  </thead>\n",
       "  <tbody>\n",
       "  </tbody>\n",
       "</table>\n",
       "<p>0 rows × 42 columns</p>\n",
       "</div>"
      ],
      "text/plain": [
       "Empty DataFrame\n",
       "Columns: [BASE_DT, TX_DT, TX_TM, SEQ_NO, TERM_NO, TERM_TP, MER_ID, TERM_LOC, CARD_ACCT_NO, TX_BR_NO, CARD_APPL, APPL_CD, FROM_ACCT_NO, TX_AMT, RULT_CD, TERM_RCPT, SWITCH_ID, TX_CD_ID, TO_ACCT_NO, BENFRY_BKCD, TO_APPL_CD, PYMT_CD, PYMT_INSTR, PYMT_DATA, ORG_PRC_DT, CPY_DT, CPY_TM, LST_MDFCPY_DT, LST_MDFCPY_TM, CURR_CD, RVSAL_TX_CD, RVRSAL_RCPT_NO, SWITCH_IN_CITY_CTRY, SWITCH_IN_CTRY_CD, SWITCH_IN_MCC, ACQ_POS_ENTRY_MODE, APPRV_CD, GCIF_NO, SEGMENT, CUST_NAME, LoB, REGION]\n",
       "Index: []\n",
       "\n",
       "[0 rows x 42 columns]"
      ]
     },
     "execution_count": 173,
     "metadata": {},
     "output_type": "execute_result"
    }
   ],
   "source": [
    "m2u_nr[m2u_nr.duplicated()]"
   ]
  },
  {
   "cell_type": "code",
   "execution_count": 174,
   "metadata": {},
   "outputs": [],
   "source": [
    "m2u_nr['BENFRY_NM'] = m2u_nr['PYMT_DATA'].str.extract('\\s{2,}(\\D*\\S)\\s+')"
   ]
  },
  {
   "cell_type": "code",
   "execution_count": 175,
   "metadata": {},
   "outputs": [],
   "source": [
    "m2u_nr['BENFRY_BKCD'] = m2u_nr['BENFRY_BKCD'].astype('str').str.zfill(3)"
   ]
  },
  {
   "cell_type": "code",
   "execution_count": 176,
   "metadata": {},
   "outputs": [],
   "source": [
    "m2uFinal = pd.merge(m2u_nr, BKCD, left_on='BENFRY_BKCD', right_on='BANK CODE', how='left')"
   ]
  },
  {
   "cell_type": "code",
   "execution_count": 177,
   "metadata": {},
   "outputs": [
    {
     "data": {
      "text/plain": [
       "1833"
      ]
     },
     "execution_count": 177,
     "metadata": {},
     "output_type": "execute_result"
    }
   ],
   "source": [
    "# data with 0 as bank code\n",
    "m2uFinal['BANK NAME'].isna().sum()"
   ]
  },
  {
   "cell_type": "code",
   "execution_count": 178,
   "metadata": {},
   "outputs": [
    {
     "data": {
      "text/plain": [
       "Index(['BASE_DT', 'TX_DT', 'TX_TM', 'SEQ_NO', 'TERM_NO', 'TERM_TP', 'MER_ID',\n",
       "       'TERM_LOC', 'CARD_ACCT_NO', 'TX_BR_NO', 'CARD_APPL', 'APPL_CD',\n",
       "       'FROM_ACCT_NO', 'TX_AMT', 'RULT_CD', 'TERM_RCPT', 'SWITCH_ID',\n",
       "       'TX_CD_ID', 'TO_ACCT_NO', 'BENFRY_BKCD', 'TO_APPL_CD', 'PYMT_CD',\n",
       "       'PYMT_INSTR', 'PYMT_DATA', 'ORG_PRC_DT', 'CPY_DT', 'CPY_TM',\n",
       "       'LST_MDFCPY_DT', 'LST_MDFCPY_TM', 'CURR_CD', 'RVSAL_TX_CD',\n",
       "       'RVRSAL_RCPT_NO', 'SWITCH_IN_CITY_CTRY', 'SWITCH_IN_CTRY_CD',\n",
       "       'SWITCH_IN_MCC', 'ACQ_POS_ENTRY_MODE', 'APPRV_CD', 'GCIF_NO', 'SEGMENT',\n",
       "       'CUST_NAME', 'LoB', 'REGION', 'BENFRY_NM', 'BANK CODE', 'BANK NAME'],\n",
       "      dtype='object')"
      ]
     },
     "execution_count": 178,
     "metadata": {},
     "output_type": "execute_result"
    }
   ],
   "source": [
    "m2uFinal.columns"
   ]
  },
  {
   "cell_type": "code",
   "execution_count": 179,
   "metadata": {},
   "outputs": [],
   "source": [
    "m2uFinal = m2uFinal[['BASE_DT', 'GCIF_NO', 'CUST_NAME', 'LoB', 'BENFRY_NM', 'BANK NAME', 'REGION', 'TX_AMT']]"
   ]
  },
  {
   "cell_type": "code",
   "execution_count": 180,
   "metadata": {},
   "outputs": [],
   "source": [
    "m2uFinal['TYPE'] = 'OUTGOING'\n",
    "m2uFinal['CHANNEL'] = 'M2U'"
   ]
  },
  {
   "cell_type": "code",
   "execution_count": 181,
   "metadata": {},
   "outputs": [],
   "source": [
    "m2uFinal.columns = ['BASE DATE', 'GCIF', 'CUST NAME', 'LOB', 'SENDER/RECIPIENT NAME', \n",
    "'SENDER/RECIPIENT BANK', 'REGION', 'AMT', 'TYPE', 'CHANNEL']"
   ]
  },
  {
   "cell_type": "code",
   "execution_count": null,
   "metadata": {},
   "outputs": [],
   "source": [
    "m2uFinal"
   ]
  },
  {
   "cell_type": "code",
   "execution_count": 183,
   "metadata": {},
   "outputs": [],
   "source": [
    "m2uFinal = m2uFinal[m2uFinal['SENDER/RECIPIENT BANK'].notna()]"
   ]
  },
  {
   "cell_type": "code",
   "execution_count": null,
   "metadata": {},
   "outputs": [],
   "source": [
    "m2uFinal"
   ]
  },
  {
   "cell_type": "markdown",
   "metadata": {},
   "source": [
    "# COMBINE ALL"
   ]
  },
  {
   "cell_type": "code",
   "execution_count": 185,
   "metadata": {},
   "outputs": [],
   "source": [
    "trxAll = pd.concat([ortgsFinal, irtgsFinal, osknFinal, isknFinal,ott, itt, m2eFinal, m2uFinal], ignore_index=True)"
   ]
  },
  {
   "cell_type": "code",
   "execution_count": null,
   "metadata": {},
   "outputs": [],
   "source": [
    "trxAll"
   ]
  },
  {
   "cell_type": "code",
   "execution_count": 187,
   "metadata": {},
   "outputs": [
    {
     "data": {
      "text/plain": [
       "Index(['BASE DATE', 'GCIF', 'CUST NAME', 'LOB', 'SENDER/RECIPIENT NAME',\n",
       "       'SENDER/RECIPIENT BANK', 'REGION', 'AMT', 'TYPE', 'CHANNEL',\n",
       "       'SENDER/RECIPIENT BIC'],\n",
       "      dtype='object')"
      ]
     },
     "execution_count": 187,
     "metadata": {},
     "output_type": "execute_result"
    }
   ],
   "source": [
    "trxAll.columns"
   ]
  },
  {
   "cell_type": "code",
   "execution_count": 188,
   "metadata": {},
   "outputs": [],
   "source": [
    "trxAll = trxAll[['BASE DATE', 'GCIF', 'CUST NAME', 'LOB', 'SENDER/RECIPIENT NAME',\n",
    "       'SENDER/RECIPIENT BANK', 'REGION', 'AMT', 'TYPE', 'CHANNEL']]"
   ]
  },
  {
   "cell_type": "code",
   "execution_count": 189,
   "metadata": {},
   "outputs": [
    {
     "name": "stderr",
     "output_type": "stream",
     "text": [
      "<ipython-input-189-96d32ed06716>:1: SettingWithCopyWarning: \n",
      "A value is trying to be set on a copy of a slice from a DataFrame.\n",
      "Try using .loc[row_indexer,col_indexer] = value instead\n",
      "\n",
      "See the caveats in the documentation: https://pandas.pydata.org/pandas-docs/stable/user_guide/indexing.html#returning-a-view-versus-a-copy\n",
      "  trxAll['SENDER/RECIPIENT BANK'] = 'EXTERNAL'\n"
     ]
    }
   ],
   "source": [
    "trxAll['SENDER/RECIPIENT BANK'] = 'EXTERNAL'"
   ]
  },
  {
   "cell_type": "code",
   "execution_count": 190,
   "metadata": {},
   "outputs": [
    {
     "data": {
      "text/plain": [
       "CHANNEL      TYPE    \n",
       "SKN          INCOMING    218714\n",
       "             OUTGOING     91662\n",
       "M2E BI-FAST  OUTGOING     14313\n",
       "M2U          OUTGOING      9439\n",
       "RTGS         INCOMING      8808\n",
       "M2E ONLINE   OUTGOING      6494\n",
       "RTGS         OUTGOING      6301\n",
       "REMITTANCE   OUTGOING      5615\n",
       "             INCOMING      3229\n",
       "dtype: int64"
      ]
     },
     "execution_count": 190,
     "metadata": {},
     "output_type": "execute_result"
    }
   ],
   "source": [
    "trxAll[['CHANNEL', 'TYPE']].value_counts()"
   ]
  },
  {
   "cell_type": "code",
   "execution_count": 191,
   "metadata": {},
   "outputs": [
    {
     "name": "stdout",
     "output_type": "stream",
     "text": [
      "<class 'pandas.core.frame.DataFrame'>\n",
      "RangeIndex: 364575 entries, 0 to 364574\n",
      "Data columns (total 10 columns):\n",
      " #   Column                 Non-Null Count   Dtype  \n",
      "---  ------                 --------------   -----  \n",
      " 0   BASE DATE              364575 non-null  object \n",
      " 1   GCIF                   364575 non-null  object \n",
      " 2   CUST NAME              364575 non-null  object \n",
      " 3   LOB                    364575 non-null  object \n",
      " 4   SENDER/RECIPIENT NAME  364457 non-null  object \n",
      " 5   SENDER/RECIPIENT BANK  364575 non-null  object \n",
      " 6   REGION                 328931 non-null  object \n",
      " 7   AMT                    364575 non-null  float64\n",
      " 8   TYPE                   364575 non-null  object \n",
      " 9   CHANNEL                364575 non-null  object \n",
      "dtypes: float64(1), object(9)\n",
      "memory usage: 27.8+ MB\n"
     ]
    }
   ],
   "source": [
    "trxAll.info()"
   ]
  },
  {
   "cell_type": "code",
   "execution_count": 192,
   "metadata": {},
   "outputs": [
    {
     "name": "stderr",
     "output_type": "stream",
     "text": [
      "c:\\Users\\MR38804\\Anaconda3\\lib\\site-packages\\pandas\\core\\frame.py:3191: SettingWithCopyWarning: \n",
      "A value is trying to be set on a copy of a slice from a DataFrame.\n",
      "Try using .loc[row_indexer,col_indexer] = value instead\n",
      "\n",
      "See the caveats in the documentation: https://pandas.pydata.org/pandas-docs/stable/user_guide/indexing.html#returning-a-view-versus-a-copy\n",
      "  self[k1] = value[k2]\n"
     ]
    }
   ],
   "source": [
    "trxAll[['REGION']] = trxAll[['REGION']].fillna('NO DATA')"
   ]
  },
  {
   "cell_type": "code",
   "execution_count": 193,
   "metadata": {},
   "outputs": [
    {
     "data": {
      "text/plain": [
       "Index(['BASE DATE', 'GCIF', 'CUST NAME', 'LOB', 'SENDER/RECIPIENT NAME',\n",
       "       'SENDER/RECIPIENT BANK', 'REGION', 'AMT', 'TYPE', 'CHANNEL'],\n",
       "      dtype='object')"
      ]
     },
     "execution_count": 193,
     "metadata": {},
     "output_type": "execute_result"
    }
   ],
   "source": [
    "trxAll.columns"
   ]
  },
  {
   "cell_type": "code",
   "execution_count": 194,
   "metadata": {},
   "outputs": [],
   "source": [
    "trxGPD = trxAll.groupby(['GCIF', 'CUST NAME', 'LOB', 'SENDER/RECIPIENT NAME',\n",
    "       'SENDER/RECIPIENT BANK', 'TYPE', 'CHANNEL', 'REGION'])['AMT'].agg(AMOUNT_TX_IDR = 'sum',TRX='count')"
   ]
  },
  {
   "cell_type": "code",
   "execution_count": 195,
   "metadata": {},
   "outputs": [],
   "source": [
    "trxGPD.reset_index(inplace=True)"
   ]
  },
  {
   "cell_type": "code",
   "execution_count": null,
   "metadata": {},
   "outputs": [],
   "source": [
    "trxGPD"
   ]
  },
  {
   "cell_type": "markdown",
   "metadata": {},
   "source": [
    "# Name Cleansing"
   ]
  },
  {
   "cell_type": "code",
   "execution_count": 198,
   "metadata": {},
   "outputs": [],
   "source": [
    "#simVal = []\n",
    "#for row in trxGPD.index:\n",
    "#    cust = nlp(u'{}'.format(trxGPD.loc[row, 'CUST NAME']))\n",
    "#    ext = nlp(u'{}'.format(trxGPD.loc[row, 'SENDER/RECIPIENT NAME']))\n",
    "#    result = cust.similarity(ext)\n",
    "#    simVal.append(result)"
   ]
  },
  {
   "cell_type": "code",
   "execution_count": 199,
   "metadata": {},
   "outputs": [],
   "source": [
    "# trxGPD['SIMILARITY'] = simVal"
   ]
  },
  {
   "cell_type": "code",
   "execution_count": null,
   "metadata": {},
   "outputs": [],
   "source": [
    "trxGPD"
   ]
  },
  {
   "cell_type": "code",
   "execution_count": 201,
   "metadata": {},
   "outputs": [
    {
     "name": "stderr",
     "output_type": "stream",
     "text": [
      "<ipython-input-201-7d0363c8d712>:3: FutureWarning: The default value of regex will change from True to False in a future version. In addition, single character regular expressions will*not* be treated as literal strings when regex=True.\n",
      "  trxGPD['SENDER/RECIPIENT NAME']=trxGPD['SENDER/RECIPIENT NAME'].str.replace('.',' ')\n"
     ]
    }
   ],
   "source": [
    "#cleanse name values - benficiary name\n",
    "trxGPD['SENDER/RECIPIENT NAME']=trxGPD['SENDER/RECIPIENT NAME'].str.upper()\n",
    "trxGPD['SENDER/RECIPIENT NAME']=trxGPD['SENDER/RECIPIENT NAME'].str.replace('.',' ')\n",
    "trxGPD['SENDER/RECIPIENT NAME']=trxGPD['SENDER/RECIPIENT NAME'].str.replace('-',' ')\n",
    "trxGPD['SENDER/RECIPIENT NAME']=trxGPD['SENDER/RECIPIENT NAME'].str.replace(',',' ')\n",
    "trxGPD['SENDER/RECIPIENT NAME']=trxGPD['SENDER/RECIPIENT NAME'].str.replace('TBK',' ')\n",
    "trxGPD['SENDER/RECIPIENT NAME']=trxGPD['SENDER/RECIPIENT NAME'].str.strip()\n",
    "trxGPD['SENDER/RECIPIENT NAME']=trxGPD['SENDER/RECIPIENT NAME'].str.replace('^PT',' ',regex=True)\n",
    "trxGPD['SENDER/RECIPIENT NAME']=trxGPD['SENDER/RECIPIENT NAME'].str.replace('PT$',' ',regex=True)\n",
    "trxGPD['SENDER/RECIPIENT NAME']=trxGPD['SENDER/RECIPIENT NAME'].str.replace('^CV',' ',regex=True)\n",
    "trxGPD['SENDER/RECIPIENT NAME']=trxGPD['SENDER/RECIPIENT NAME'].str.replace('CV$',' ',regex=True)\n",
    "trxGPD['SENDER/RECIPIENT NAME']=trxGPD['SENDER/RECIPIENT NAME'].str.strip()\n",
    "trxGPD['SENDER/RECIPIENT NAME']=trxGPD['SENDER/RECIPIENT NAME'].str.replace('\\sP$',' ',regex=True)\n",
    "trxGPD['SENDER/RECIPIENT NAME']=trxGPD['SENDER/RECIPIENT NAME'].str.replace(\"''\",\" \")\n",
    "trxGPD['SENDER/RECIPIENT NAME']=trxGPD['SENDER/RECIPIENT NAME'].str.replace('//',' ')\n",
    "trxGPD['SENDER/RECIPIENT NAME']=trxGPD['SENDER/RECIPIENT NAME'].str.replace('\\s+',' ',regex=True)\n",
    "trxGPD['SENDER/RECIPIENT NAME']=trxGPD['SENDER/RECIPIENT NAME'].str.strip()"
   ]
  },
  {
   "cell_type": "code",
   "execution_count": 202,
   "metadata": {},
   "outputs": [
    {
     "name": "stderr",
     "output_type": "stream",
     "text": [
      "<ipython-input-202-237dfa68bac0>:3: FutureWarning: The default value of regex will change from True to False in a future version. In addition, single character regular expressions will*not* be treated as literal strings when regex=True.\n",
      "  trxGPD['CUST NAME']=trxGPD['CUST NAME'].str.replace('.',' ')\n"
     ]
    }
   ],
   "source": [
    "#cleanse name values - benficiary name\n",
    "trxGPD['CUST NAME']=trxGPD['CUST NAME'].str.upper()\n",
    "trxGPD['CUST NAME']=trxGPD['CUST NAME'].str.replace('.',' ')\n",
    "trxGPD['CUST NAME']=trxGPD['CUST NAME'].str.replace('-',' ')\n",
    "trxGPD['CUST NAME']=trxGPD['CUST NAME'].str.replace(',',' ')\n",
    "trxGPD['CUST NAME']=trxGPD['CUST NAME'].str.replace('TBK',' ')\n",
    "trxGPD['CUST NAME']=trxGPD['CUST NAME'].str.strip()\n",
    "trxGPD['CUST NAME']=trxGPD['CUST NAME'].str.replace('^PT',' ',regex=True)\n",
    "trxGPD['CUST NAME']=trxGPD['CUST NAME'].str.replace('PT$',' ',regex=True)\n",
    "trxGPD['CUST NAME']=trxGPD['CUST NAME'].str.replace('^CV',' ',regex=True)\n",
    "trxGPD['CUST NAME']=trxGPD['CUST NAME'].str.replace('CV$',' ',regex=True)\n",
    "trxGPD['CUST NAME']=trxGPD['CUST NAME'].str.strip()\n",
    "trxGPD['CUST NAME']=trxGPD['CUST NAME'].str.replace('\\sP$',' ',regex=True)\n",
    "trxGPD['CUST NAME']=trxGPD['CUST NAME'].str.replace(\"''\",\" \")\n",
    "trxGPD['CUST NAME']=trxGPD['CUST NAME'].str.replace('//',' ')\n",
    "trxGPD['CUST NAME']=trxGPD['CUST NAME'].str.replace('\\s+',' ',regex=True)\n",
    "trxGPD['CUST NAME']=trxGPD['CUST NAME'].str.strip()"
   ]
  },
  {
   "cell_type": "code",
   "execution_count": null,
   "metadata": {},
   "outputs": [],
   "source": [
    "trxGPD.to_excel(\"GPD 2212 WITH TYPE.xlsx\", index=False)"
   ]
  }
 ],
 "metadata": {
  "kernelspec": {
   "display_name": "Python 3.8.8 ('base')",
   "language": "python",
   "name": "python3"
  },
  "language_info": {
   "codemirror_mode": {
    "name": "ipython",
    "version": 3
   },
   "file_extension": ".py",
   "mimetype": "text/x-python",
   "name": "python",
   "nbconvert_exporter": "python",
   "pygments_lexer": "ipython3",
   "version": "3.8.8"
  },
  "orig_nbformat": 4,
  "vscode": {
   "interpreter": {
    "hash": "56661359ff2ff660132b5efcb6c2d2cc1ab951c9ce0542f2e1c28d05eb5746f3"
   }
  }
 },
 "nbformat": 4,
 "nbformat_minor": 2
}
